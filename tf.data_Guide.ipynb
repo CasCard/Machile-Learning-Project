{
  "nbformat": 4,
  "nbformat_minor": 0,
  "metadata": {
    "colab": {
      "name": "Untitled11.ipynb",
      "provenance": [],
      "include_colab_link": true
    },
    "kernelspec": {
      "name": "python3",
      "display_name": "Python 3"
    },
    "accelerator": "GPU"
  },
  "cells": [
    {
      "cell_type": "markdown",
      "metadata": {
        "id": "view-in-github",
        "colab_type": "text"
      },
      "source": [
        "<a href=\"https://colab.research.google.com/github/CasCard/Machile-Learning-Project/blob/master/tf.data_Guide.ipynb\" target=\"_parent\"><img src=\"https://colab.research.google.com/assets/colab-badge.svg\" alt=\"Open In Colab\"/></a>"
      ]
    },
    {
      "cell_type": "code",
      "metadata": {
        "id": "h0oKfOrRg3Ia",
        "colab_type": "code",
        "outputId": "df109aae-e7a6-4b9a-efba-29b0f9706b2a",
        "colab": {
          "base_uri": "https://localhost:8080/",
          "height": 53
        }
      },
      "source": [
        "from __future__ import absolute_import, division, print_function, unicode_literals\n",
        "\n",
        "try:\n",
        "  # %tensorflow_version only exists in Colab.\n",
        "  %tensorflow_version 2.x\n",
        "except Exception:\n",
        "  pass\n",
        "import tensorflow as tf\n",
        "tf.random.set_seed(1)\n",
        "from tensorflow import keras\n",
        "\n",
        "import numpy as np\n",
        "import matplotlib.pyplot as plt\n",
        "import pandas as pd\n",
        "\n",
        "print(tf.__version__)"
      ],
      "execution_count": 1,
      "outputs": [
        {
          "output_type": "stream",
          "text": [
            "TensorFlow 2.x selected.\n",
            "2.0.0\n"
          ],
          "name": "stdout"
        }
      ]
    },
    {
      "cell_type": "code",
      "metadata": {
        "id": "UABWh0-uhAj3",
        "colab_type": "code",
        "colab": {}
      },
      "source": [
        "import pathlib\n",
        "np.set_printoptions(precision=4)\n"
      ],
      "execution_count": 0,
      "outputs": []
    },
    {
      "cell_type": "code",
      "metadata": {
        "id": "vptgB7EMiWI9",
        "colab_type": "code",
        "outputId": "481f5ac6-05be-4558-c170-4caacfa1d148",
        "colab": {
          "base_uri": "https://localhost:8080/",
          "height": 35
        }
      },
      "source": [
        "data=tf.data.Dataset.from_tensor_slices([8,3,0,8,2,1])\n",
        "data"
      ],
      "execution_count": 3,
      "outputs": [
        {
          "output_type": "execute_result",
          "data": {
            "text/plain": [
              "<TensorSliceDataset shapes: (), types: tf.int32>"
            ]
          },
          "metadata": {
            "tags": []
          },
          "execution_count": 3
        }
      ]
    },
    {
      "cell_type": "code",
      "metadata": {
        "id": "fLzje6yxiboM",
        "colab_type": "code",
        "outputId": "d99ffb61-2a38-467e-e532-f7bfce93c8c9",
        "colab": {
          "base_uri": "https://localhost:8080/",
          "height": 125
        }
      },
      "source": [
        "for elem in data:\n",
        "  print(elem.numpy())"
      ],
      "execution_count": 4,
      "outputs": [
        {
          "output_type": "stream",
          "text": [
            "8\n",
            "3\n",
            "0\n",
            "8\n",
            "2\n",
            "1\n"
          ],
          "name": "stdout"
        }
      ]
    },
    {
      "cell_type": "code",
      "metadata": {
        "id": "wOhcLjGFii_Q",
        "colab_type": "code",
        "outputId": "475780e8-f31a-4ebe-86de-f134af52cfc4",
        "colab": {
          "base_uri": "https://localhost:8080/",
          "height": 35
        }
      },
      "source": [
        "it=iter(data)\n",
        "print(next(it).numpy())"
      ],
      "execution_count": 5,
      "outputs": [
        {
          "output_type": "stream",
          "text": [
            "8\n"
          ],
          "name": "stdout"
        }
      ]
    },
    {
      "cell_type": "code",
      "metadata": {
        "id": "NJTG-kjEiqUW",
        "colab_type": "code",
        "outputId": "8c51a2e1-6ea7-4de3-f7a5-dc3bf8ea2b51",
        "colab": {
          "base_uri": "https://localhost:8080/",
          "height": 35
        }
      },
      "source": [
        "print(data.reduce(0,lambda state,value:state+value).numpy())"
      ],
      "execution_count": 6,
      "outputs": [
        {
          "output_type": "stream",
          "text": [
            "22\n"
          ],
          "name": "stdout"
        }
      ]
    },
    {
      "cell_type": "code",
      "metadata": {
        "id": "qMVN-kIui5O-",
        "colab_type": "code",
        "outputId": "11f348c1-6546-4b50-cc5b-c28a7003ab83",
        "colab": {
          "base_uri": "https://localhost:8080/",
          "height": 109
        }
      },
      "source": [
        "dataset1=tf.data.Dataset.from_tensor_slices(tf.random.uniform([4,10]))\n",
        "for element in dataset1:\n",
        "  print(element.numpy())"
      ],
      "execution_count": 7,
      "outputs": [
        {
          "output_type": "stream",
          "text": [
            "[0.1651 0.9015 0.631  0.4345 0.2919 0.6425 0.9758 0.4351 0.6601 0.6049]\n",
            "[0.6366 0.6144 0.8893 0.6278 0.532  0.026  0.4409 0.2527 0.8862 0.8873]\n",
            "[0.7873 0.0596 0.0711 0.3084 0.2512 0.9085 0.4715 0.2424 0.633  0.586 ]\n",
            "[0.91   0.5701 0.4964 0.5939 0.5414 0.4429 0.2925 0.7339 0.9197 0.6685]\n"
          ],
          "name": "stdout"
        }
      ]
    },
    {
      "cell_type": "code",
      "metadata": {
        "id": "pmrYHNFTjeuU",
        "colab_type": "code",
        "outputId": "b6b1ecdf-3844-4438-c3bb-ffe977ad1eef",
        "colab": {
          "base_uri": "https://localhost:8080/",
          "height": 35
        }
      },
      "source": [
        "dataset1.element_spec"
      ],
      "execution_count": 8,
      "outputs": [
        {
          "output_type": "execute_result",
          "data": {
            "text/plain": [
              "TensorSpec(shape=(10,), dtype=tf.float32, name=None)"
            ]
          },
          "metadata": {
            "tags": []
          },
          "execution_count": 8
        }
      ]
    },
    {
      "cell_type": "code",
      "metadata": {
        "id": "VrkRm8x1jmZb",
        "colab_type": "code",
        "colab": {}
      },
      "source": [
        "dataset2=tf.data.Dataset.from_tensor_slices(\n",
        "    (tf.random.uniform([4]),\n",
        "     tf.random.uniform([4,100],maxval=100,dtype=tf.int32))\n",
        ")"
      ],
      "execution_count": 0,
      "outputs": []
    },
    {
      "cell_type": "code",
      "metadata": {
        "id": "p16Mvs1Ij3w1",
        "colab_type": "code",
        "outputId": "e6c455b7-cc39-466e-ae61-c415bfdc2525",
        "colab": {
          "base_uri": "https://localhost:8080/",
          "height": 53
        }
      },
      "source": [
        "dataset2.element_spec"
      ],
      "execution_count": 10,
      "outputs": [
        {
          "output_type": "execute_result",
          "data": {
            "text/plain": [
              "(TensorSpec(shape=(), dtype=tf.float32, name=None),\n",
              " TensorSpec(shape=(100,), dtype=tf.int32, name=None))"
            ]
          },
          "metadata": {
            "tags": []
          },
          "execution_count": 10
        }
      ]
    },
    {
      "cell_type": "code",
      "metadata": {
        "id": "3BZB0bmLj6G_",
        "colab_type": "code",
        "outputId": "e45a9400-3d94-4d4b-d0c4-1844c829bcc7",
        "colab": {
          "base_uri": "https://localhost:8080/",
          "height": 71
        }
      },
      "source": [
        "dataset3=tf.data.Dataset.zip((dataset1,dataset2))\n",
        "dataset3.element_spec"
      ],
      "execution_count": 11,
      "outputs": [
        {
          "output_type": "execute_result",
          "data": {
            "text/plain": [
              "(TensorSpec(shape=(10,), dtype=tf.float32, name=None),\n",
              " (TensorSpec(shape=(), dtype=tf.float32, name=None),\n",
              "  TensorSpec(shape=(100,), dtype=tf.int32, name=None)))"
            ]
          },
          "metadata": {
            "tags": []
          },
          "execution_count": 11
        }
      ]
    },
    {
      "cell_type": "code",
      "metadata": {
        "id": "oObU9YtCkCYT",
        "colab_type": "code",
        "outputId": "332a7e0e-e96e-489b-ccf3-b78802789596",
        "colab": {
          "base_uri": "https://localhost:8080/",
          "height": 757
        }
      },
      "source": [
        "for elem in dataset3:\n",
        "  print(elem)"
      ],
      "execution_count": 12,
      "outputs": [
        {
          "output_type": "stream",
          "text": [
            "(<tf.Tensor: id=63, shape=(10,), dtype=float32, numpy=\n",
            "array([0.1651, 0.9015, 0.631 , 0.4345, 0.2919, 0.6425, 0.9758, 0.4351,\n",
            "       0.6601, 0.6049], dtype=float32)>, (<tf.Tensor: id=64, shape=(), dtype=float32, numpy=0.51010704>, <tf.Tensor: id=65, shape=(100,), dtype=int32, numpy=\n",
            "array([15, 18, 76, 96, 14, 19, 14, 34, 63, 59, 36, 90, 54,  7, 43, 64, 44,\n",
            "       95, 35, 24, 43, 76, 38, 31, 95, 11, 71, 24, 38, 19, 14, 17, 66, 81,\n",
            "       24, 45,  6, 70,  7, 34, 61,  3, 45, 96, 27, 43, 32, 71, 40, 16, 69,\n",
            "       76, 64, 58, 69, 13, 69, 92, 40, 69,  0, 80, 63, 85,  5, 51,  7, 38,\n",
            "       23, 61, 66, 88, 26,  5, 17, 82, 59,  0, 80, 45, 73, 95, 75, 90, 35,\n",
            "       19, 76, 41, 47, 30, 17, 24, 88, 38, 81, 49, 64, 46, 95, 65],\n",
            "      dtype=int32)>))\n",
            "(<tf.Tensor: id=66, shape=(10,), dtype=float32, numpy=\n",
            "array([0.6366, 0.6144, 0.8893, 0.6278, 0.532 , 0.026 , 0.4409, 0.2527,\n",
            "       0.8862, 0.8873], dtype=float32)>, (<tf.Tensor: id=67, shape=(), dtype=float32, numpy=0.44353175>, <tf.Tensor: id=68, shape=(100,), dtype=int32, numpy=\n",
            "array([96, 17, 26, 72, 21, 27, 83, 98, 89, 36,  1, 77, 55, 40, 85, 83, 44,\n",
            "       73, 65, 20, 17, 90, 61, 34, 30, 97, 13, 90, 83, 93, 66, 10, 90, 27,\n",
            "       52, 76, 33, 76, 14, 66, 98, 86, 57, 12, 74, 91, 27, 31, 43, 37, 19,\n",
            "       21, 15, 54, 43, 40, 27, 75,  1, 36, 98, 38, 68, 57,  9, 25, 69,  0,\n",
            "       82, 41, 50, 49,  8, 46, 38, 18, 20, 15, 59, 16, 92, 66, 49, 81, 42,\n",
            "       71, 10, 11, 59, 60, 63, 98, 23, 23, 55,  2, 41, 92, 12, 49],\n",
            "      dtype=int32)>))\n",
            "(<tf.Tensor: id=69, shape=(10,), dtype=float32, numpy=\n",
            "array([0.7873, 0.0596, 0.0711, 0.3084, 0.2512, 0.9085, 0.4715, 0.2424,\n",
            "       0.633 , 0.586 ], dtype=float32)>, (<tf.Tensor: id=70, shape=(), dtype=float32, numpy=0.4085331>, <tf.Tensor: id=71, shape=(100,), dtype=int32, numpy=\n",
            "array([94, 65, 80, 64, 14, 66, 22, 58, 79, 60,  0,  1, 51, 76, 40, 93, 26,\n",
            "       61, 64, 75,  9, 59,  5, 76, 66, 81, 17, 58, 17, 78,  0, 41, 61, 88,\n",
            "        1, 98, 94, 51, 60, 60, 99, 54, 30, 67, 64, 14, 39, 11, 90, 49, 71,\n",
            "       64, 55, 46, 31, 87, 54, 53, 39, 70, 13, 73, 56, 21, 35, 82, 24, 53,\n",
            "        0, 91, 11, 43, 36, 79, 58, 11, 94, 29, 68, 38, 28, 59, 33, 18, 78,\n",
            "       59, 71, 14, 86, 54, 90, 14, 84, 36, 48, 94, 44, 42, 61, 96],\n",
            "      dtype=int32)>))\n",
            "(<tf.Tensor: id=72, shape=(10,), dtype=float32, numpy=\n",
            "array([0.91  , 0.5701, 0.4964, 0.5939, 0.5414, 0.4429, 0.2925, 0.7339,\n",
            "       0.9197, 0.6685], dtype=float32)>, (<tf.Tensor: id=73, shape=(), dtype=float32, numpy=0.9924923>, <tf.Tensor: id=74, shape=(100,), dtype=int32, numpy=\n",
            "array([11, 23, 97, 43, 97, 54, 87, 90, 74, 90, 18, 44, 48, 62,  4, 44, 41,\n",
            "       13, 68, 33, 70, 64, 33, 79, 17, 64, 26, 38, 99, 70, 39, 19, 76, 18,\n",
            "       64, 14, 67, 34,  1, 47, 25, 64, 43, 98, 12, 97, 99,  8, 40, 38, 19,\n",
            "       17,  6, 57, 89, 34, 87, 85, 43, 29, 47, 10,  3,  4, 72,  2, 89, 82,\n",
            "       48, 98, 28, 57, 26, 33, 53, 86, 15, 14, 39, 91, 69, 51, 96,  3, 47,\n",
            "       14, 25, 73, 31, 86, 74, 35, 19, 48, 69, 97, 10,  1, 67, 51],\n",
            "      dtype=int32)>))\n"
          ],
          "name": "stdout"
        }
      ]
    },
    {
      "cell_type": "code",
      "metadata": {
        "id": "rJlpzS5FkPCe",
        "colab_type": "code",
        "outputId": "20c13fb0-379b-4ebb-fe56-56326ffd06b3",
        "colab": {
          "base_uri": "https://localhost:8080/",
          "height": 35
        }
      },
      "source": [
        "dataset4=tf.data.Dataset.from_tensors(tf.SparseTensor(indices=[[0,0],[1,2]],values=[1,2],dense_shape=[3,4]))\n",
        "dataset4.element_spec"
      ],
      "execution_count": 13,
      "outputs": [
        {
          "output_type": "execute_result",
          "data": {
            "text/plain": [
              "SparseTensorSpec(TensorShape([3, 4]), tf.int32)"
            ]
          },
          "metadata": {
            "tags": []
          },
          "execution_count": 13
        }
      ]
    },
    {
      "cell_type": "code",
      "metadata": {
        "id": "rtOJcOEDl4oV",
        "colab_type": "code",
        "outputId": "d1640b3b-61f0-4611-8a59-82af7813f12c",
        "colab": {
          "base_uri": "https://localhost:8080/",
          "height": 35
        }
      },
      "source": [
        "dataset4.element_spec.value_type"
      ],
      "execution_count": 14,
      "outputs": [
        {
          "output_type": "execute_result",
          "data": {
            "text/plain": [
              "tensorflow.python.framework.sparse_tensor.SparseTensor"
            ]
          },
          "metadata": {
            "tags": []
          },
          "execution_count": 14
        }
      ]
    },
    {
      "cell_type": "code",
      "metadata": {
        "id": "UYVGNXv-mBeh",
        "colab_type": "code",
        "outputId": "99ff6d05-b1f0-4a13-ed02-77e34ce04f96",
        "colab": {
          "base_uri": "https://localhost:8080/",
          "height": 35
        }
      },
      "source": [
        "dataset1=tf.data.Dataset.from_tensor_slices(\n",
        "    tf.random.uniform([4,10],minval=1,maxval=10,dtype=tf.int32))\n",
        "dataset1"
      ],
      "execution_count": 15,
      "outputs": [
        {
          "output_type": "execute_result",
          "data": {
            "text/plain": [
              "<TensorSliceDataset shapes: (10,), types: tf.int32>"
            ]
          },
          "metadata": {
            "tags": []
          },
          "execution_count": 15
        }
      ]
    },
    {
      "cell_type": "code",
      "metadata": {
        "id": "PGyrV2oimWYv",
        "colab_type": "code",
        "outputId": "44de69eb-c425-4bd8-c650-302fb9e79317",
        "colab": {
          "base_uri": "https://localhost:8080/",
          "height": 89
        }
      },
      "source": [
        "for elem in dataset1:\n",
        "  print(elem.numpy())"
      ],
      "execution_count": 16,
      "outputs": [
        {
          "output_type": "stream",
          "text": [
            "[2 4 4 4 5 7 2 9 9 6]\n",
            "[5 7 2 4 5 3 1 3 2 3]\n",
            "[6 4 2 2 6 1 7 3 8 4]\n",
            "[9 2 6 8 6 4 9 3 2 2]\n"
          ],
          "name": "stdout"
        }
      ]
    },
    {
      "cell_type": "code",
      "metadata": {
        "id": "Ny0nXpa6mdKA",
        "colab_type": "code",
        "outputId": "fb945158-737a-49fa-8a6d-56758d2b769d",
        "colab": {
          "base_uri": "https://localhost:8080/",
          "height": 55
        }
      },
      "source": [
        "dataset2=tf.data.Dataset.from_tensor_slices(\n",
        "    (tf.random.uniform([4]),\n",
        "     tf.random.uniform([4,100],maxval=100,dtype=tf.int32))\n",
        ")\n",
        "dataset2"
      ],
      "execution_count": 17,
      "outputs": [
        {
          "output_type": "execute_result",
          "data": {
            "text/plain": [
              "<TensorSliceDataset shapes: ((), (100,)), types: (tf.float32, tf.int32)>"
            ]
          },
          "metadata": {
            "tags": []
          },
          "execution_count": 17
        }
      ]
    },
    {
      "cell_type": "code",
      "metadata": {
        "id": "_PUXPoMqm9r3",
        "colab_type": "code",
        "outputId": "bf63ba23-9c37-4be6-9a05-d30b4fd669f7",
        "colab": {
          "base_uri": "https://localhost:8080/",
          "height": 613
        }
      },
      "source": [
        "for test in dataset2:\n",
        "  print(test)"
      ],
      "execution_count": 18,
      "outputs": [
        {
          "output_type": "stream",
          "text": [
            "(<tf.Tensor: id=111, shape=(), dtype=float32, numpy=0.734782>, <tf.Tensor: id=112, shape=(100,), dtype=int32, numpy=\n",
            "array([55, 10, 15, 35, 52, 88, 93,  9, 63, 26,  1, 59,  7, 93, 44, 36, 76,\n",
            "       50, 98, 51, 18, 38, 50, 31, 56, 37, 21, 79, 45,  4, 42, 33, 79,  0,\n",
            "       82, 45, 16, 50, 24, 38, 50, 75, 92, 99, 53, 16, 56, 50, 58, 43, 68,\n",
            "       65, 24, 45, 14, 84, 40, 50, 68, 98, 84, 27, 43, 35, 64, 35, 48, 97,\n",
            "        0, 46, 12, 16, 19, 81, 77, 64, 52, 87, 43, 44, 70, 72, 51, 65, 25,\n",
            "       56, 87, 18, 70, 32, 27, 77, 40, 91, 55, 10, 30, 19, 63, 85],\n",
            "      dtype=int32)>)\n",
            "(<tf.Tensor: id=113, shape=(), dtype=float32, numpy=0.14221263>, <tf.Tensor: id=114, shape=(100,), dtype=int32, numpy=\n",
            "array([23, 27, 53, 54, 42, 29, 24, 71, 64, 93, 30, 71,  7, 63, 26, 17, 30,\n",
            "       58, 60,  4, 57, 87, 88, 13, 26, 73, 35, 67, 70, 42, 51, 94, 19, 33,\n",
            "       44, 51,  8, 60, 51, 74, 52, 10, 10, 45, 86, 55, 64, 89,  6, 19,  3,\n",
            "       59, 27, 73, 22, 69, 28,  8, 65, 45, 38, 73, 83, 45, 27, 53, 83, 97,\n",
            "       73,  3, 49, 34, 34, 88, 33, 53, 77, 76, 20, 11, 21, 30,  4, 18, 37,\n",
            "       38,  1, 81, 91, 56, 16, 98,  9, 79,  9, 72, 99, 59, 96, 45],\n",
            "      dtype=int32)>)\n",
            "(<tf.Tensor: id=115, shape=(), dtype=float32, numpy=0.06338346>, <tf.Tensor: id=116, shape=(100,), dtype=int32, numpy=\n",
            "array([ 1, 48, 86, 43, 43,  0, 19, 31,  8, 86, 92, 56, 55, 76, 94, 30, 89,\n",
            "       82, 47, 45, 30, 62, 99, 77, 66, 31, 43, 80,  3, 98, 10, 90, 24, 80,\n",
            "       35,  2, 74, 66, 71, 35,  4,  1, 17, 94, 29, 50, 36, 40, 48,  5, 60,\n",
            "       53,  6, 54, 92, 81, 56, 15, 64, 98,  1, 87,  3, 39, 11, 82, 32, 53,\n",
            "       47, 58, 68, 47, 18, 93,  1, 66, 41, 92, 93,  6, 71, 26,  6, 35, 67,\n",
            "       73, 96, 86, 63, 88, 74, 12, 33, 78, 29, 83, 48, 37, 37, 10],\n",
            "      dtype=int32)>)\n",
            "(<tf.Tensor: id=117, shape=(), dtype=float32, numpy=0.18919992>, <tf.Tensor: id=118, shape=(100,), dtype=int32, numpy=\n",
            "array([88, 54, 22, 79, 70,  2, 18, 94, 11,  3, 30, 19, 56, 77, 36, 17, 39,\n",
            "       93, 48, 86, 39, 24, 51, 92, 43, 85, 61, 55, 85, 25,  9, 31, 33, 39,\n",
            "        6, 46, 89, 15, 74, 43, 56, 37,  0, 64, 93, 28, 34,  0, 45, 82, 36,\n",
            "       11, 34, 77, 14,  2,  6, 79, 76, 36, 38, 32, 96, 58, 34, 23,  2, 31,\n",
            "       42, 51, 40, 31, 95, 85, 90, 80, 66, 20, 48, 62,  6,  0, 21, 93, 12,\n",
            "       59, 60, 56, 94, 34, 53, 47, 24, 49, 77,  9, 77, 26, 29, 71],\n",
            "      dtype=int32)>)\n"
          ],
          "name": "stdout"
        }
      ]
    },
    {
      "cell_type": "code",
      "metadata": {
        "id": "gkqoMoTpnHbi",
        "colab_type": "code",
        "outputId": "60788e2b-9836-4404-fc8c-150d7fad5590",
        "colab": {
          "base_uri": "https://localhost:8080/",
          "height": 55
        }
      },
      "source": [
        "dataset3=tf.data.Dataset.zip((dataset1,dataset2))\n",
        "dataset3"
      ],
      "execution_count": 19,
      "outputs": [
        {
          "output_type": "execute_result",
          "data": {
            "text/plain": [
              "<ZipDataset shapes: ((10,), ((), (100,))), types: (tf.int32, (tf.float32, tf.int32))>"
            ]
          },
          "metadata": {
            "tags": []
          },
          "execution_count": 19
        }
      ]
    },
    {
      "cell_type": "code",
      "metadata": {
        "id": "hCwhQZZonWzY",
        "colab_type": "code",
        "outputId": "7cb27cf1-f30d-42b1-90f8-fb39c6e934f6",
        "colab": {
          "base_uri": "https://localhost:8080/",
          "height": 89
        }
      },
      "source": [
        "for a,(b,c) in dataset3:\n",
        "  print('shapes: {a.shape},{b.shape},{c.shape}'.format(a=a,b=b,c=c))"
      ],
      "execution_count": 20,
      "outputs": [
        {
          "output_type": "stream",
          "text": [
            "shapes: (10,),(),(100,)\n",
            "shapes: (10,),(),(100,)\n",
            "shapes: (10,),(),(100,)\n",
            "shapes: (10,),(),(100,)\n"
          ],
          "name": "stdout"
        }
      ]
    },
    {
      "cell_type": "code",
      "metadata": {
        "id": "kU0ajHPZnmr1",
        "colab_type": "code",
        "outputId": "02dd5574-9461-4b92-fe76-dec762159fb5",
        "colab": {
          "base_uri": "https://localhost:8080/",
          "height": 181
        }
      },
      "source": [
        "train,test=tf.keras.datasets.fashion_mnist.load_data()"
      ],
      "execution_count": 21,
      "outputs": [
        {
          "output_type": "stream",
          "text": [
            "Downloading data from https://storage.googleapis.com/tensorflow/tf-keras-datasets/train-labels-idx1-ubyte.gz\n",
            "32768/29515 [=================================] - 0s 0us/step\n",
            "Downloading data from https://storage.googleapis.com/tensorflow/tf-keras-datasets/train-images-idx3-ubyte.gz\n",
            "26427392/26421880 [==============================] - 0s 0us/step\n",
            "Downloading data from https://storage.googleapis.com/tensorflow/tf-keras-datasets/t10k-labels-idx1-ubyte.gz\n",
            "8192/5148 [===============================================] - 0s 0us/step\n",
            "Downloading data from https://storage.googleapis.com/tensorflow/tf-keras-datasets/t10k-images-idx3-ubyte.gz\n",
            "4423680/4422102 [==============================] - 0s 0us/step\n"
          ],
          "name": "stdout"
        }
      ]
    },
    {
      "cell_type": "code",
      "metadata": {
        "id": "bP6wl5bvnxQD",
        "colab_type": "code",
        "outputId": "134dc41a-dd77-4cfe-a07a-bd8fa07fc85c",
        "colab": {
          "base_uri": "https://localhost:8080/",
          "height": 55
        }
      },
      "source": [
        "images,labels=train\n",
        "images=images/255\n",
        "dataset=tf.data.Dataset.from_tensor_slices((images,labels))\n",
        "dataset"
      ],
      "execution_count": 22,
      "outputs": [
        {
          "output_type": "execute_result",
          "data": {
            "text/plain": [
              "<TensorSliceDataset shapes: ((28, 28), ()), types: (tf.float64, tf.uint8)>"
            ]
          },
          "metadata": {
            "tags": []
          },
          "execution_count": 22
        }
      ]
    },
    {
      "cell_type": "code",
      "metadata": {
        "id": "2kYrLh1dn-BP",
        "colab_type": "code",
        "outputId": "3854c84d-e336-4aeb-c206-1e616ad323d9",
        "colab": {
          "base_uri": "https://localhost:8080/",
          "height": 107
        }
      },
      "source": [
        "def count(stop):\n",
        "  i=0\n",
        "  while i<stop:\n",
        "    yield i\n",
        "    i+=1\n",
        "\n",
        "for n in count(5):\n",
        "  print(n)"
      ],
      "execution_count": 23,
      "outputs": [
        {
          "output_type": "stream",
          "text": [
            "0\n",
            "1\n",
            "2\n",
            "3\n",
            "4\n"
          ],
          "name": "stdout"
        }
      ]
    },
    {
      "cell_type": "code",
      "metadata": {
        "id": "OVIqAW7poW2u",
        "colab_type": "code",
        "colab": {}
      },
      "source": [
        "ds_counter=tf.data.Dataset.from_generator(count,args=[25],output_types=tf.int32,output_shapes=(),)\n"
      ],
      "execution_count": 0,
      "outputs": []
    },
    {
      "cell_type": "code",
      "metadata": {
        "id": "B_MPSp8mo_Rk",
        "colab_type": "code",
        "outputId": "6c077c81-1e95-4466-e9d4-5e82a7381b75",
        "colab": {
          "base_uri": "https://localhost:8080/",
          "height": 107
        }
      },
      "source": [
        "for count_batch in ds_counter.repeat().batch(10).take(5):\n",
        "  print(count_batch.numpy())"
      ],
      "execution_count": 25,
      "outputs": [
        {
          "output_type": "stream",
          "text": [
            "[0 1 2 3 4 5 6 7 8 9]\n",
            "[10 11 12 13 14 15 16 17 18 19]\n",
            "[20 21 22 23 24  0  1  2  3  4]\n",
            "[ 5  6  7  8  9 10 11 12 13 14]\n",
            "[15 16 17 18 19 20 21 22 23 24]\n"
          ],
          "name": "stdout"
        }
      ]
    },
    {
      "cell_type": "code",
      "metadata": {
        "id": "eXWO73X_pMc0",
        "colab_type": "code",
        "colab": {}
      },
      "source": [
        "def gen_series():\n",
        "  i=0\n",
        "  while True:\n",
        "    size=np.random.randint(0,10)\n",
        "    yield i,np.random.normal(size=(size,))\n",
        "    i += 1"
      ],
      "execution_count": 0,
      "outputs": []
    },
    {
      "cell_type": "code",
      "metadata": {
        "id": "IQ6TzPYGqNOh",
        "colab_type": "code",
        "outputId": "2929444d-52bf-455e-8e20-a415af4d2c4f",
        "colab": {
          "base_uri": "https://localhost:8080/",
          "height": 163
        }
      },
      "source": [
        "for i ,series in gen_series():\n",
        "  print(i,\":\",str(series))\n",
        "  if i>5:\n",
        "    break"
      ],
      "execution_count": 27,
      "outputs": [
        {
          "output_type": "stream",
          "text": [
            "0 : []\n",
            "1 : [ 1.062  -1.8065 -0.8627 -1.0398  1.2834]\n",
            "2 : [-0.25    0.7631  0.2066  0.7082 -0.8243]\n",
            "3 : [ 0.3825  0.7126  0.5994  0.2921 -0.0825 -0.3167 -0.3643  0.8588 -1.0195]\n",
            "4 : [-1.975   0.4152 -0.8867  0.7917  2.2379]\n",
            "5 : [-1.425   1.8065  0.0465 -1.2616]\n",
            "6 : [0.2547]\n"
          ],
          "name": "stdout"
        }
      ]
    },
    {
      "cell_type": "code",
      "metadata": {
        "id": "vcT_baojqXKQ",
        "colab_type": "code",
        "outputId": "20caa125-f6b9-4125-ed45-160406c27f73",
        "colab": {
          "base_uri": "https://localhost:8080/",
          "height": 55
        }
      },
      "source": [
        "ds_series=tf.data.Dataset.from_generator(\n",
        "    gen_series,\n",
        "    output_types=(tf.int32,tf.float32),\n",
        "    output_shapes=((),(None,)))\n",
        "\n",
        "ds_series"
      ],
      "execution_count": 28,
      "outputs": [
        {
          "output_type": "execute_result",
          "data": {
            "text/plain": [
              "<DatasetV1Adapter shapes: ((), (None,)), types: (tf.int32, tf.float32)>"
            ]
          },
          "metadata": {
            "tags": []
          },
          "execution_count": 28
        }
      ]
    },
    {
      "cell_type": "code",
      "metadata": {
        "id": "fPeq66h0sq2a",
        "colab_type": "code",
        "outputId": "fb7a90b6-0d93-48c4-fd5a-76e4158b8a9e",
        "colab": {
          "base_uri": "https://localhost:8080/",
          "height": 253
        }
      },
      "source": [
        "ds_series_batch=ds_series.shuffle(20).padded_batch(10,padded_shapes=([],[None]))\n",
        "\n",
        "ids,sequence_batch=next(iter(ds_series_batch))\n",
        "print(ids.numpy())\n",
        "print()\n",
        "print(sequence_batch.numpy())"
      ],
      "execution_count": 29,
      "outputs": [
        {
          "output_type": "stream",
          "text": [
            "[13  9 10 22  4  8 25 20 18 14]\n",
            "\n",
            "[[-0.9652 -0.497   0.2082  2.1972 -0.6454 -0.4111 -1.0523  0.2665 -0.1245]\n",
            " [ 1.6224  0.9955 -0.2854  0.      0.      0.      0.      0.      0.    ]\n",
            " [ 2.5722  0.2153 -0.0837 -0.2062  0.501   0.      0.      0.      0.    ]\n",
            " [-0.6401  0.6029  0.2827 -0.0254  0.1197 -0.9855  0.1702  0.      0.    ]\n",
            " [ 1.5059  0.      0.      0.      0.      0.      0.      0.      0.    ]\n",
            " [-0.3977 -0.2637  1.7265 -0.2485 -0.4357 -0.1011  0.9689  0.      0.    ]\n",
            " [-1.4182  0.0426  0.      0.      0.      0.      0.      0.      0.    ]\n",
            " [-1.0617 -1.2125  0.3531  1.3339  0.      0.      0.      0.      0.    ]\n",
            " [ 0.4489  0.1679 -0.6302 -1.8899 -0.7641  0.      0.      0.      0.    ]\n",
            " [-0.1045  1.0963 -2.8001 -0.4756 -0.6309  0.1267  0.8929  0.      0.    ]]\n"
          ],
          "name": "stdout"
        }
      ]
    },
    {
      "cell_type": "code",
      "metadata": {
        "id": "nDklAFFRtPJU",
        "colab_type": "code",
        "outputId": "f0da72f1-e375-45d2-b455-c56609c07274",
        "colab": {
          "base_uri": "https://localhost:8080/",
          "height": 73
        }
      },
      "source": [
        "flowers=tf.keras.utils.get_file(\n",
        "    'flower_photos',\n",
        "    'https://storage.googleapis.com/download.tensorflow.org/example_images/flower_photos.tgz',\n",
        "    untar=True\n",
        ")"
      ],
      "execution_count": 30,
      "outputs": [
        {
          "output_type": "stream",
          "text": [
            "Downloading data from https://storage.googleapis.com/download.tensorflow.org/example_images/flower_photos.tgz\n",
            "228818944/228813984 [==============================] - 2s 0us/step\n"
          ],
          "name": "stdout"
        }
      ]
    },
    {
      "cell_type": "code",
      "metadata": {
        "id": "XVt-7_MBtnUz",
        "colab_type": "code",
        "outputId": "dd539e1b-747f-4bbf-9d7b-abefb1c763c3",
        "colab": {
          "base_uri": "https://localhost:8080/",
          "height": 35
        }
      },
      "source": [
        "img_gen=tf.keras.preprocessing.image.ImageDataGenerator(rescale=1./255,rotation_range=20)\n",
        "images,label=next(img_gen.flow_from_directory(flowers))"
      ],
      "execution_count": 31,
      "outputs": [
        {
          "output_type": "stream",
          "text": [
            "Found 3670 images belonging to 5 classes.\n"
          ],
          "name": "stdout"
        }
      ]
    },
    {
      "cell_type": "code",
      "metadata": {
        "id": "4Csh9KZmt8jX",
        "colab_type": "code",
        "outputId": "56f0d87d-a1a9-4634-de7a-7feb0ae05d02",
        "colab": {
          "base_uri": "https://localhost:8080/",
          "height": 53
        }
      },
      "source": [
        "print(images.dtype,images.shape)\n",
        "print(label.dtype,label.shape)"
      ],
      "execution_count": 32,
      "outputs": [
        {
          "output_type": "stream",
          "text": [
            "float32 (32, 256, 256, 3)\n",
            "float32 (32, 5)\n"
          ],
          "name": "stdout"
        }
      ]
    },
    {
      "cell_type": "code",
      "metadata": {
        "id": "z-KPssXQuL-V",
        "colab_type": "code",
        "outputId": "6be87d2c-6a0d-46c9-b493-29e9b087fd61",
        "colab": {
          "base_uri": "https://localhost:8080/",
          "height": 55
        }
      },
      "source": [
        "ds=tf.data.Dataset.from_generator(\n",
        "    img_gen.flow_from_directory,args=[flowers],\n",
        "    output_types=(tf.float32,tf.float32),\n",
        "    output_shapes=([32,256,256,3],[32,5])\n",
        ")\n",
        "ds"
      ],
      "execution_count": 33,
      "outputs": [
        {
          "output_type": "execute_result",
          "data": {
            "text/plain": [
              "<DatasetV1Adapter shapes: ((32, 256, 256, 3), (32, 5)), types: (tf.float32, tf.float32)>"
            ]
          },
          "metadata": {
            "tags": []
          },
          "execution_count": 33
        }
      ]
    },
    {
      "cell_type": "code",
      "metadata": {
        "id": "PqC9qn1cuu6q",
        "colab_type": "code",
        "outputId": "360d3702-2a2b-4864-f3fb-a47c55cbaba3",
        "colab": {
          "base_uri": "https://localhost:8080/",
          "height": 73
        }
      },
      "source": [
        "# Consuming TFRecord data\n",
        "fsns_test_file = tf.keras.utils.get_file(\"fsns.tfrec\", \"https://storage.googleapis.com/download.tensorflow.org/data/fsns-20160927/testdata/fsns-00000-of-00001\")"
      ],
      "execution_count": 34,
      "outputs": [
        {
          "output_type": "stream",
          "text": [
            "Downloading data from https://storage.googleapis.com/download.tensorflow.org/data/fsns-20160927/testdata/fsns-00000-of-00001\n",
            "7905280/7904079 [==============================] - 0s 0us/step\n"
          ],
          "name": "stdout"
        }
      ]
    },
    {
      "cell_type": "code",
      "metadata": {
        "id": "dIbRFp_KvKTJ",
        "colab_type": "code",
        "outputId": "22b5f702-4d8a-46a9-81d1-37e9789eaa79",
        "colab": {
          "base_uri": "https://localhost:8080/",
          "height": 35
        }
      },
      "source": [
        "dataset=tf.data.TFRecordDataset(filenames=[fsns_test_file])\n",
        "dataset"
      ],
      "execution_count": 35,
      "outputs": [
        {
          "output_type": "execute_result",
          "data": {
            "text/plain": [
              "<TFRecordDatasetV2 shapes: (), types: tf.string>"
            ]
          },
          "metadata": {
            "tags": []
          },
          "execution_count": 35
        }
      ]
    },
    {
      "cell_type": "code",
      "metadata": {
        "id": "E04mM_davnL_",
        "colab_type": "code",
        "outputId": "80e6b9af-4231-45d9-f1c5-f1169df43f9d",
        "colab": {
          "base_uri": "https://localhost:8080/",
          "height": 71
        }
      },
      "source": [
        "raw_example=next(iter(dataset))\n",
        "parsed=tf.train.Example.FromString(raw_example.numpy())\n",
        "parsed.features.feature['image/text']"
      ],
      "execution_count": 36,
      "outputs": [
        {
          "output_type": "execute_result",
          "data": {
            "text/plain": [
              "bytes_list {\n",
              "  value: \"Rue Perreyon\"\n",
              "}"
            ]
          },
          "metadata": {
            "tags": []
          },
          "execution_count": 36
        }
      ]
    },
    {
      "cell_type": "code",
      "metadata": {
        "id": "U55OufcHv5jR",
        "colab_type": "code",
        "outputId": "16e333af-0d5b-4cd2-8400-2042d343198f",
        "colab": {
          "base_uri": "https://localhost:8080/",
          "height": 145
        }
      },
      "source": [
        "directory_url = 'https://storage.googleapis.com/download.tensorflow.org/data/illiad/'\n",
        "file_names = ['cowper.txt', 'derby.txt', 'butler.txt']\n",
        "\n",
        "file_paths = [\n",
        "    tf.keras.utils.get_file(file_name, directory_url + file_name)\n",
        "    for file_name in file_names\n",
        "]"
      ],
      "execution_count": 37,
      "outputs": [
        {
          "output_type": "stream",
          "text": [
            "Downloading data from https://storage.googleapis.com/download.tensorflow.org/data/illiad/cowper.txt\n",
            "819200/815980 [==============================] - 0s 0us/step\n",
            "Downloading data from https://storage.googleapis.com/download.tensorflow.org/data/illiad/derby.txt\n",
            "811008/809730 [==============================] - 0s 0us/step\n",
            "Downloading data from https://storage.googleapis.com/download.tensorflow.org/data/illiad/butler.txt\n",
            "811008/807992 [==============================] - 0s 0us/step\n"
          ],
          "name": "stdout"
        }
      ]
    },
    {
      "cell_type": "code",
      "metadata": {
        "id": "GYhpaM65wPXv",
        "colab_type": "code",
        "outputId": "aa9655ea-1163-443f-8749-77e9379caad3",
        "colab": {
          "base_uri": "https://localhost:8080/",
          "height": 107
        }
      },
      "source": [
        "dataset=tf.data.TextLineDataset(file_paths)\n",
        "for line in dataset.take(5):\n",
        "  print(line.numpy())"
      ],
      "execution_count": 38,
      "outputs": [
        {
          "output_type": "stream",
          "text": [
            "b\"\\xef\\xbb\\xbfAchilles sing, O Goddess! Peleus' son;\"\n",
            "b'His wrath pernicious, who ten thousand woes'\n",
            "b\"Caused to Achaia's host, sent many a soul\"\n",
            "b'Illustrious into Ades premature,'\n",
            "b'And Heroes gave (so stood the will of Jove)'\n"
          ],
          "name": "stdout"
        }
      ]
    },
    {
      "cell_type": "code",
      "metadata": {
        "id": "vTl5RUQYwjA0",
        "colab_type": "code",
        "colab": {
          "base_uri": "https://localhost:8080/",
          "height": 253
        },
        "outputId": "7b5a8ce9-2556-43ca-f0d2-d4fb986366d3"
      },
      "source": [
        "# Consuming Text Data\n",
        "files_ds=tf.data.Dataset.from_tensor_slices(file_paths)\n",
        "lines_ds=files_ds.interleave(tf.data.TextLineDataset,cycle_length=3)\n",
        "\n",
        "for i,line in enumerate(lines_ds.take(9)):\n",
        "  if i%3 ==0:\n",
        "    print()\n",
        "  print(line.numpy())"
      ],
      "execution_count": 43,
      "outputs": [
        {
          "output_type": "stream",
          "text": [
            "\n",
            "b\"\\xef\\xbb\\xbfAchilles sing, O Goddess! Peleus' son;\"\n",
            "b\"\\xef\\xbb\\xbfOf Peleus' son, Achilles, sing, O Muse,\"\n",
            "b'\\xef\\xbb\\xbfSing, O goddess, the anger of Achilles son of Peleus, that brought'\n",
            "\n",
            "b'His wrath pernicious, who ten thousand woes'\n",
            "b'The vengeance, deep and deadly; whence to Greece'\n",
            "b'countless ills upon the Achaeans. Many a brave soul did it send'\n",
            "\n",
            "b\"Caused to Achaia's host, sent many a soul\"\n",
            "b'Unnumbered ills arose; which many a soul'\n",
            "b'hurrying down to Hades, and many a hero did it yield a prey to dogs and'\n"
          ],
          "name": "stdout"
        }
      ]
    },
    {
      "cell_type": "code",
      "metadata": {
        "id": "GXGPCuKOwwJX",
        "colab_type": "code",
        "colab": {
          "base_uri": "https://localhost:8080/",
          "height": 73
        },
        "outputId": "1c7b7f69-98c9-4a21-d873-9077ba2ffff9"
      },
      "source": [
        "titanic_file=tf.keras.utils.get_file(\"train.csv\", \"https://storage.googleapis.com/tf-datasets/titanic/train.csv\")\n",
        "titanic_lines=tf.data.TextLineDataset(titanic_file)"
      ],
      "execution_count": 44,
      "outputs": [
        {
          "output_type": "stream",
          "text": [
            "Downloading data from https://storage.googleapis.com/tf-datasets/titanic/train.csv\n",
            "32768/30874 [===============================] - 0s 0us/step\n"
          ],
          "name": "stdout"
        }
      ]
    },
    {
      "cell_type": "code",
      "metadata": {
        "id": "_cPp6qRhdDN7",
        "colab_type": "code",
        "colab": {
          "base_uri": "https://localhost:8080/",
          "height": 217
        },
        "outputId": "dae7716e-57bc-409f-82a6-b5b88127df0a"
      },
      "source": [
        "for line in titanic_lines.take(10):\n",
        "  print(line.numpy())"
      ],
      "execution_count": 45,
      "outputs": [
        {
          "output_type": "stream",
          "text": [
            "b'survived,sex,age,n_siblings_spouses,parch,fare,class,deck,embark_town,alone'\n",
            "b'0,male,22.0,1,0,7.25,Third,unknown,Southampton,n'\n",
            "b'1,female,38.0,1,0,71.2833,First,C,Cherbourg,n'\n",
            "b'1,female,26.0,0,0,7.925,Third,unknown,Southampton,y'\n",
            "b'1,female,35.0,1,0,53.1,First,C,Southampton,n'\n",
            "b'0,male,28.0,0,0,8.4583,Third,unknown,Queenstown,y'\n",
            "b'0,male,2.0,3,1,21.075,Third,unknown,Southampton,n'\n",
            "b'1,female,27.0,0,2,11.1333,Third,unknown,Southampton,n'\n",
            "b'1,female,14.0,1,0,30.0708,Second,unknown,Cherbourg,n'\n",
            "b'1,female,4.0,1,1,16.7,Third,G,Southampton,n'\n"
          ],
          "name": "stdout"
        }
      ]
    },
    {
      "cell_type": "code",
      "metadata": {
        "id": "AQb8EjIAdLXF",
        "colab_type": "code",
        "colab": {
          "base_uri": "https://localhost:8080/",
          "height": 197
        },
        "outputId": "0969212e-a830-4e70-bb50-fa96666d11fe"
      },
      "source": [
        "def survived(line):\n",
        "  return tf.not_equal(tf.strings.substr(line,0,1),\"0\")\n",
        "\n",
        "survivors = titanic_lines.skip(1).filter(survived)\n",
        "\n",
        "for line in survivors.take(10):\n",
        "  print(line.numpy())"
      ],
      "execution_count": 46,
      "outputs": [
        {
          "output_type": "stream",
          "text": [
            "b'1,female,38.0,1,0,71.2833,First,C,Cherbourg,n'\n",
            "b'1,female,26.0,0,0,7.925,Third,unknown,Southampton,y'\n",
            "b'1,female,35.0,1,0,53.1,First,C,Southampton,n'\n",
            "b'1,female,27.0,0,2,11.1333,Third,unknown,Southampton,n'\n",
            "b'1,female,14.0,1,0,30.0708,Second,unknown,Cherbourg,n'\n",
            "b'1,female,4.0,1,1,16.7,Third,G,Southampton,n'\n",
            "b'1,male,28.0,0,0,13.0,Second,unknown,Southampton,y'\n",
            "b'1,female,28.0,0,0,7.225,Third,unknown,Cherbourg,y'\n",
            "b'1,male,28.0,0,0,35.5,First,A,Southampton,y'\n",
            "b'1,female,38.0,1,5,31.3875,Third,unknown,Southampton,n'\n"
          ],
          "name": "stdout"
        }
      ]
    },
    {
      "cell_type": "code",
      "metadata": {
        "id": "cPpEIVxOdqT0",
        "colab_type": "code",
        "colab": {
          "base_uri": "https://localhost:8080/",
          "height": 224
        },
        "outputId": "e826de43-302d-4d4a-a1d7-d956274122f8"
      },
      "source": [
        "# Consuming CSV data\n",
        "titanic_file=tf.keras.utils.get_file(\"train.csv\", \"https://storage.googleapis.com/tf-datasets/titanic/train.csv\")\n",
        "df=pd.read_csv(titanic_file,index_col=None)\n",
        "df.head()"
      ],
      "execution_count": 47,
      "outputs": [
        {
          "output_type": "execute_result",
          "data": {
            "text/html": [
              "<div>\n",
              "<style scoped>\n",
              "    .dataframe tbody tr th:only-of-type {\n",
              "        vertical-align: middle;\n",
              "    }\n",
              "\n",
              "    .dataframe tbody tr th {\n",
              "        vertical-align: top;\n",
              "    }\n",
              "\n",
              "    .dataframe thead th {\n",
              "        text-align: right;\n",
              "    }\n",
              "</style>\n",
              "<table border=\"1\" class=\"dataframe\">\n",
              "  <thead>\n",
              "    <tr style=\"text-align: right;\">\n",
              "      <th></th>\n",
              "      <th>survived</th>\n",
              "      <th>sex</th>\n",
              "      <th>age</th>\n",
              "      <th>n_siblings_spouses</th>\n",
              "      <th>parch</th>\n",
              "      <th>fare</th>\n",
              "      <th>class</th>\n",
              "      <th>deck</th>\n",
              "      <th>embark_town</th>\n",
              "      <th>alone</th>\n",
              "    </tr>\n",
              "  </thead>\n",
              "  <tbody>\n",
              "    <tr>\n",
              "      <th>0</th>\n",
              "      <td>0</td>\n",
              "      <td>male</td>\n",
              "      <td>22.0</td>\n",
              "      <td>1</td>\n",
              "      <td>0</td>\n",
              "      <td>7.2500</td>\n",
              "      <td>Third</td>\n",
              "      <td>unknown</td>\n",
              "      <td>Southampton</td>\n",
              "      <td>n</td>\n",
              "    </tr>\n",
              "    <tr>\n",
              "      <th>1</th>\n",
              "      <td>1</td>\n",
              "      <td>female</td>\n",
              "      <td>38.0</td>\n",
              "      <td>1</td>\n",
              "      <td>0</td>\n",
              "      <td>71.2833</td>\n",
              "      <td>First</td>\n",
              "      <td>C</td>\n",
              "      <td>Cherbourg</td>\n",
              "      <td>n</td>\n",
              "    </tr>\n",
              "    <tr>\n",
              "      <th>2</th>\n",
              "      <td>1</td>\n",
              "      <td>female</td>\n",
              "      <td>26.0</td>\n",
              "      <td>0</td>\n",
              "      <td>0</td>\n",
              "      <td>7.9250</td>\n",
              "      <td>Third</td>\n",
              "      <td>unknown</td>\n",
              "      <td>Southampton</td>\n",
              "      <td>y</td>\n",
              "    </tr>\n",
              "    <tr>\n",
              "      <th>3</th>\n",
              "      <td>1</td>\n",
              "      <td>female</td>\n",
              "      <td>35.0</td>\n",
              "      <td>1</td>\n",
              "      <td>0</td>\n",
              "      <td>53.1000</td>\n",
              "      <td>First</td>\n",
              "      <td>C</td>\n",
              "      <td>Southampton</td>\n",
              "      <td>n</td>\n",
              "    </tr>\n",
              "    <tr>\n",
              "      <th>4</th>\n",
              "      <td>0</td>\n",
              "      <td>male</td>\n",
              "      <td>28.0</td>\n",
              "      <td>0</td>\n",
              "      <td>0</td>\n",
              "      <td>8.4583</td>\n",
              "      <td>Third</td>\n",
              "      <td>unknown</td>\n",
              "      <td>Queenstown</td>\n",
              "      <td>y</td>\n",
              "    </tr>\n",
              "  </tbody>\n",
              "</table>\n",
              "</div>"
            ],
            "text/plain": [
              "   survived     sex   age  ...     deck  embark_town  alone\n",
              "0         0    male  22.0  ...  unknown  Southampton      n\n",
              "1         1  female  38.0  ...        C    Cherbourg      n\n",
              "2         1  female  26.0  ...  unknown  Southampton      y\n",
              "3         1  female  35.0  ...        C  Southampton      n\n",
              "4         0    male  28.0  ...  unknown   Queenstown      y\n",
              "\n",
              "[5 rows x 10 columns]"
            ]
          },
          "metadata": {
            "tags": []
          },
          "execution_count": 47
        }
      ]
    },
    {
      "cell_type": "code",
      "metadata": {
        "id": "SmjJVuzWeBLz",
        "colab_type": "code",
        "colab": {
          "base_uri": "https://localhost:8080/",
          "height": 197
        },
        "outputId": "55d0113e-66e3-4c86-da58-80a9b5bd06f6"
      },
      "source": [
        "titanic_slices=tf.data.Dataset.from_tensor_slices(dict(df))\n",
        "\n",
        "for feature_batch in titanic_slices.take(1):\n",
        "  for key, value in feature_batch.items():\n",
        "    print(\"  {!r:20s}: {}\".format(key,value))"
      ],
      "execution_count": 48,
      "outputs": [
        {
          "output_type": "stream",
          "text": [
            "  'survived'          : 0\n",
            "  'sex'               : b'male'\n",
            "  'age'               : 22.0\n",
            "  'n_siblings_spouses': 1\n",
            "  'parch'             : 0\n",
            "  'fare'              : 7.25\n",
            "  'class'             : b'Third'\n",
            "  'deck'              : b'unknown'\n",
            "  'embark_town'       : b'Southampton'\n",
            "  'alone'             : b'n'\n"
          ],
          "name": "stdout"
        }
      ]
    },
    {
      "cell_type": "code",
      "metadata": {
        "id": "pPuTW05HeiY7",
        "colab_type": "code",
        "colab": {
          "base_uri": "https://localhost:8080/",
          "height": 145
        },
        "outputId": "4a3f41c7-d049-4bd5-cfe5-ef720f7b626a"
      },
      "source": [
        "titanic_batches=tf.data.experimental.make_csv_dataset(\n",
        "    titanic_file,batch_size=4,\n",
        "    label_name=\"survived\")"
      ],
      "execution_count": 49,
      "outputs": [
        {
          "output_type": "stream",
          "text": [
            "WARNING:tensorflow:From /tensorflow-2.0.0/python3.6/tensorflow_core/python/data/experimental/ops/readers.py:521: parallel_interleave (from tensorflow.python.data.experimental.ops.interleave_ops) is deprecated and will be removed in a future version.\n",
            "Instructions for updating:\n",
            "Use `tf.data.Dataset.interleave(map_func, cycle_length, block_length, num_parallel_calls=tf.data.experimental.AUTOTUNE)` instead. If sloppy execution is desired, use `tf.data.Options.experimental_determinstic`.\n",
            "WARNING:tensorflow:From /tensorflow-2.0.0/python3.6/tensorflow_core/python/data/experimental/ops/readers.py:215: shuffle_and_repeat (from tensorflow.python.data.experimental.ops.shuffle_ops) is deprecated and will be removed in a future version.\n",
            "Instructions for updating:\n",
            "Use `tf.data.Dataset.shuffle(buffer_size, seed)` followed by `tf.data.Dataset.repeat(count)`. Static tf.data optimizations will take care of using the fused implementation.\n"
          ],
          "name": "stdout"
        }
      ]
    },
    {
      "cell_type": "code",
      "metadata": {
        "id": "jiwFcHGIfHED",
        "colab_type": "code",
        "colab": {
          "base_uri": "https://localhost:8080/",
          "height": 235
        },
        "outputId": "4a2394c7-8739-4b95-b652-f0df6dbc6b50"
      },
      "source": [
        "for feature_batch,label_batch in titanic_batches.take(1):\n",
        "  print(\"'survived': {}\".format(label_batch))\n",
        "  print(\"features:\")\n",
        "  for key, value in feature_batch.items():\n",
        "    print(\" {!r:20s}: {}\".format(key,value))"
      ],
      "execution_count": 50,
      "outputs": [
        {
          "output_type": "stream",
          "text": [
            "'survived': [1 0 1 1]\n",
            "features:\n",
            " 'sex'               : [b'female' b'male' b'female' b'female']\n",
            " 'age'               : [50. 28. 35. 28.]\n",
            " 'n_siblings_spouses': [0 2 0 1]\n",
            " 'parch'             : [1 0 0 0]\n",
            " 'fare'              : [26.     21.6792 21.     15.5   ]\n",
            " 'class'             : [b'Second' b'Third' b'Second' b'Third']\n",
            " 'deck'              : [b'unknown' b'unknown' b'unknown' b'unknown']\n",
            " 'embark_town'       : [b'Southampton' b'Cherbourg' b'Southampton' b'Queenstown']\n",
            " 'alone'             : [b'n' b'n' b'y' b'n']\n"
          ],
          "name": "stdout"
        }
      ]
    },
    {
      "cell_type": "code",
      "metadata": {
        "id": "CB5myOqcfkb-",
        "colab_type": "code",
        "colab": {}
      },
      "source": [
        "titanic_batches=tf.data.experimental.make_csv_dataset(\n",
        "    titanic_file,batch_size=4,\n",
        "    label_name=\"survived\"\n",
        "    ,select_columns=['class','fare','survived']\n",
        ")"
      ],
      "execution_count": 0,
      "outputs": []
    },
    {
      "cell_type": "code",
      "metadata": {
        "id": "tyQBZY8Sf918",
        "colab_type": "code",
        "colab": {
          "base_uri": "https://localhost:8080/",
          "height": 71
        },
        "outputId": "37493771-3db1-4094-8437-43cafcae4365"
      },
      "source": [
        "for feature_batch,label_batch in titanic_batches.take(1):\n",
        "  print(\"'survived': {}\".format(label_batch))\n",
        "  for key,value in feature_batch.items():\n",
        "    print(\"  {!r:20s}: {}\".format(key,value))"
      ],
      "execution_count": 58,
      "outputs": [
        {
          "output_type": "stream",
          "text": [
            "'survived': [0 0 0 0]\n",
            "  'fare'              : [7.65   9.5    7.7333 7.8542]\n",
            "  'class'             : [b'Third' b'Third' b'Third' b'Third']\n"
          ],
          "name": "stdout"
        }
      ]
    },
    {
      "cell_type": "code",
      "metadata": {
        "id": "9mcxXBWngSCE",
        "colab_type": "code",
        "colab": {
          "base_uri": "https://localhost:8080/",
          "height": 217
        },
        "outputId": "e9c9ef10-03f8-416e-c18b-4c634e100568"
      },
      "source": [
        "titanic_types=[tf.int32,tf.string,tf.float32,tf.int32,tf.int32,tf.float32,tf.string,tf.string,tf.string,tf.string]\n",
        "dataset=tf.data.experimental.CsvDataset(titanic_file,titanic_types,header=True)\n",
        "\n",
        "for line in dataset.take(10):\n",
        "  print([item.numpy() for item in line])"
      ],
      "execution_count": 59,
      "outputs": [
        {
          "output_type": "stream",
          "text": [
            "[0, b'male', 22.0, 1, 0, 7.25, b'Third', b'unknown', b'Southampton', b'n']\n",
            "[1, b'female', 38.0, 1, 0, 71.2833, b'First', b'C', b'Cherbourg', b'n']\n",
            "[1, b'female', 26.0, 0, 0, 7.925, b'Third', b'unknown', b'Southampton', b'y']\n",
            "[1, b'female', 35.0, 1, 0, 53.1, b'First', b'C', b'Southampton', b'n']\n",
            "[0, b'male', 28.0, 0, 0, 8.4583, b'Third', b'unknown', b'Queenstown', b'y']\n",
            "[0, b'male', 2.0, 3, 1, 21.075, b'Third', b'unknown', b'Southampton', b'n']\n",
            "[1, b'female', 27.0, 0, 2, 11.1333, b'Third', b'unknown', b'Southampton', b'n']\n",
            "[1, b'female', 14.0, 1, 0, 30.0708, b'Second', b'unknown', b'Cherbourg', b'n']\n",
            "[1, b'female', 4.0, 1, 1, 16.7, b'Third', b'G', b'Southampton', b'n']\n",
            "[0, b'male', 20.0, 0, 0, 8.05, b'Third', b'unknown', b'Southampton', b'y']\n"
          ],
          "name": "stdout"
        }
      ]
    },
    {
      "cell_type": "code",
      "metadata": {
        "id": "SwX0qGFthr8X",
        "colab_type": "code",
        "colab": {
          "base_uri": "https://localhost:8080/",
          "height": 35
        },
        "outputId": "da700623-84f3-447c-8a3a-c3c260b92f08"
      },
      "source": [
        "%%writefile missing.csv\n",
        "1,2,3,4\n",
        ",2,3,4\n",
        "1,,3,4\n",
        "1,2,,4\n",
        "1,2,3,\n",
        ",,,"
      ],
      "execution_count": 62,
      "outputs": [
        {
          "output_type": "stream",
          "text": [
            "Writing missing.csv\n"
          ],
          "name": "stdout"
        }
      ]
    },
    {
      "cell_type": "code",
      "metadata": {
        "id": "mk1nbVQWhw_e",
        "colab_type": "code",
        "colab": {
          "base_uri": "https://localhost:8080/",
          "height": 35
        },
        "outputId": "07abe182-f3da-41c5-ebe9-92e4be53b4d0"
      },
      "source": [
        "record_defaults=[999,999,999,999]\n",
        "dataset=tf.data.experimental.CsvDataset(\"missing.csv\",record_defaults)\n",
        "dataset=dataset.map(lambda *items:tf.stack(items))\n",
        "dataset"
      ],
      "execution_count": 63,
      "outputs": [
        {
          "output_type": "execute_result",
          "data": {
            "text/plain": [
              "<MapDataset shapes: (4,), types: tf.int32>"
            ]
          },
          "metadata": {
            "tags": []
          },
          "execution_count": 63
        }
      ]
    },
    {
      "cell_type": "code",
      "metadata": {
        "id": "VmkhTZOXilne",
        "colab_type": "code",
        "colab": {
          "base_uri": "https://localhost:8080/",
          "height": 125
        },
        "outputId": "08f64e85-b994-44d3-ff77-f64fbb94b71b"
      },
      "source": [
        "for line in dataset:\n",
        "  print(line.numpy())"
      ],
      "execution_count": 64,
      "outputs": [
        {
          "output_type": "stream",
          "text": [
            "[1 2 3 4]\n",
            "[999   2   3   4]\n",
            "[  1 999   3   4]\n",
            "[  1   2 999   4]\n",
            "[  1   2   3 999]\n",
            "[999 999 999 999]\n"
          ],
          "name": "stdout"
        }
      ]
    },
    {
      "cell_type": "code",
      "metadata": {
        "id": "SXT6kF6RiphF",
        "colab_type": "code",
        "colab": {
          "base_uri": "https://localhost:8080/",
          "height": 35
        },
        "outputId": "27237eae-b2c3-40ca-e0f0-7b5ebcc02363"
      },
      "source": [
        "record_defaults=[999,999]\n",
        "dataset=tf.data.experimental.CsvDataset(\"missing.csv\",record_defaults,select_cols=[1,3])\n",
        "dataset=dataset.map(lambda *items:tf.stack(items))\n",
        "dataset"
      ],
      "execution_count": 65,
      "outputs": [
        {
          "output_type": "execute_result",
          "data": {
            "text/plain": [
              "<MapDataset shapes: (2,), types: tf.int32>"
            ]
          },
          "metadata": {
            "tags": []
          },
          "execution_count": 65
        }
      ]
    },
    {
      "cell_type": "code",
      "metadata": {
        "id": "PHbXiXhBjruP",
        "colab_type": "code",
        "colab": {
          "base_uri": "https://localhost:8080/",
          "height": 125
        },
        "outputId": "b9906aeb-5d72-42d5-d205-f6e100ecdde5"
      },
      "source": [
        "for line in dataset:\n",
        "  print(line.numpy())"
      ],
      "execution_count": 66,
      "outputs": [
        {
          "output_type": "stream",
          "text": [
            "[2 4]\n",
            "[2 4]\n",
            "[999   4]\n",
            "[2 4]\n",
            "[  2 999]\n",
            "[999 999]\n"
          ],
          "name": "stdout"
        }
      ]
    },
    {
      "cell_type": "code",
      "metadata": {
        "id": "9UQof1Jzjval",
        "colab_type": "code",
        "colab": {}
      },
      "source": [
        "flowers_root = tf.keras.utils.get_file(\n",
        "    'flower_photos',\n",
        "    'https://storage.googleapis.com/download.tensorflow.org/example_images/flower_photos.tgz',\n",
        "    untar=True)\n",
        "flowers_root = pathlib.Path(flowers_root)"
      ],
      "execution_count": 0,
      "outputs": []
    },
    {
      "cell_type": "code",
      "metadata": {
        "id": "29d8cebgj7P2",
        "colab_type": "code",
        "colab": {
          "base_uri": "https://localhost:8080/",
          "height": 125
        },
        "outputId": "36323cf5-d51f-40a0-d607-116020e30e49"
      },
      "source": [
        "for item in flowers_root.glob(\"*\"):\n",
        "  print(item.name)"
      ],
      "execution_count": 69,
      "outputs": [
        {
          "output_type": "stream",
          "text": [
            "roses\n",
            "tulips\n",
            "dandelion\n",
            "LICENSE.txt\n",
            "daisy\n",
            "sunflowers\n"
          ],
          "name": "stdout"
        }
      ]
    },
    {
      "cell_type": "code",
      "metadata": {
        "id": "WUU1PlDpkCW6",
        "colab_type": "code",
        "colab": {
          "base_uri": "https://localhost:8080/",
          "height": 127
        },
        "outputId": "227179e3-8dbf-455a-d947-44f017690c65"
      },
      "source": [
        "list_ds=tf.data.Dataset.list_files(str(flowers_root/'*/*'))\n",
        "\n",
        "for f in list_ds.take(5):\n",
        "  print(f.numpy())"
      ],
      "execution_count": 70,
      "outputs": [
        {
          "output_type": "stream",
          "text": [
            "b'/root/.keras/datasets/flower_photos/daisy/3625257860_33efeef614_m.jpg'\n",
            "b'/root/.keras/datasets/flower_photos/sunflowers/2807106374_f422b5f00c.jpg'\n",
            "b'/root/.keras/datasets/flower_photos/roses/483444865_65962cea07_m.jpg'\n",
            "b'/root/.keras/datasets/flower_photos/tulips/478765271_6a8ca1cfa1_m.jpg'\n",
            "b'/root/.keras/datasets/flower_photos/dandelion/8831808134_315aedb37b.jpg'\n"
          ],
          "name": "stdout"
        }
      ]
    },
    {
      "cell_type": "code",
      "metadata": {
        "id": "pup_qipAkZWK",
        "colab_type": "code",
        "colab": {}
      },
      "source": [
        "def process_path(file_path):\n",
        "  label=tf.strings.split(file_path,'/')[-2]\n",
        "  return tf.io.read_file(file_path),label\n",
        "\n",
        "labeled_ds=list_ds.map(process_path)"
      ],
      "execution_count": 0,
      "outputs": []
    },
    {
      "cell_type": "code",
      "metadata": {
        "id": "E0flXpIAlSK3",
        "colab_type": "code",
        "colab": {
          "base_uri": "https://localhost:8080/",
          "height": 91
        },
        "outputId": "903e1b6c-8cb3-43a0-e590-0cf48e2b5407"
      },
      "source": [
        "for image_raw,label_text in labeled_ds.take(1):\n",
        "  print(repr(image_raw.numpy()[:100]))\n",
        "  print()\n",
        "  print(label_text.numpy())"
      ],
      "execution_count": 72,
      "outputs": [
        {
          "output_type": "stream",
          "text": [
            "b'\\xff\\xd8\\xff\\xe0\\x00\\x10JFIF\\x00\\x01\\x01\\x01\\x00`\\x00`\\x00\\x00\\xff\\xe1\\n\\x13XMP\\x00://ns.adobe.com/xap/1.0/\\x00<?xpacket begin=\"\\xef\\xbb\\xbf\" id=\"W5M0MpCehiHzreSzNTczk'\n",
            "\n",
            "b'dandelion'\n"
          ],
          "name": "stdout"
        }
      ]
    },
    {
      "cell_type": "code",
      "metadata": {
        "id": "xM8sKH85lfDS",
        "colab_type": "code",
        "colab": {
          "base_uri": "https://localhost:8080/",
          "height": 89
        },
        "outputId": "e72fe08c-17e5-494c-bb93-8e8e25830673"
      },
      "source": [
        "#  Batching dataset elements\n",
        "inc_dataset=tf.data.Dataset.range(100)\n",
        "dec_dataset=tf.data.Dataset.range(0,-100,-1)\n",
        "dataset=tf.data.Dataset.zip((inc_dataset,dec_dataset))\n",
        "batched_dataset=dataset.batch(4)\n",
        "\n",
        "for batch in batched_dataset.take(4):\n",
        "  print([arr.numpy() for arr in batch])"
      ],
      "execution_count": 73,
      "outputs": [
        {
          "output_type": "stream",
          "text": [
            "[array([0, 1, 2, 3]), array([ 0, -1, -2, -3])]\n",
            "[array([4, 5, 6, 7]), array([-4, -5, -6, -7])]\n",
            "[array([ 8,  9, 10, 11]), array([ -8,  -9, -10, -11])]\n",
            "[array([12, 13, 14, 15]), array([-12, -13, -14, -15])]\n"
          ],
          "name": "stdout"
        }
      ]
    },
    {
      "cell_type": "code",
      "metadata": {
        "id": "EOVF1LP2mb2Z",
        "colab_type": "code",
        "colab": {
          "base_uri": "https://localhost:8080/",
          "height": 55
        },
        "outputId": "a2be6540-4db4-4234-d21f-ad870f13f1bf"
      },
      "source": [
        "batched_dataset"
      ],
      "execution_count": 74,
      "outputs": [
        {
          "output_type": "execute_result",
          "data": {
            "text/plain": [
              "<BatchDataset shapes: ((None,), (None,)), types: (tf.int64, tf.int64)>"
            ]
          },
          "metadata": {
            "tags": []
          },
          "execution_count": 74
        }
      ]
    },
    {
      "cell_type": "code",
      "metadata": {
        "id": "B3N9uEZdmmE4",
        "colab_type": "code",
        "colab": {
          "base_uri": "https://localhost:8080/",
          "height": 35
        },
        "outputId": "8f81b519-ccc4-4bd9-8bec-652eddca5dd9"
      },
      "source": [
        "batched_dataset=dataset.batch(7,drop_remainder=True)\n",
        "batched_dataset"
      ],
      "execution_count": 75,
      "outputs": [
        {
          "output_type": "execute_result",
          "data": {
            "text/plain": [
              "<BatchDataset shapes: ((7,), (7,)), types: (tf.int64, tf.int64)>"
            ]
          },
          "metadata": {
            "tags": []
          },
          "execution_count": 75
        }
      ]
    },
    {
      "cell_type": "code",
      "metadata": {
        "id": "NpRnv2SlmzQA",
        "colab_type": "code",
        "colab": {
          "base_uri": "https://localhost:8080/",
          "height": 197
        },
        "outputId": "e4635e06-2e4a-495b-991e-2c2b2851b814"
      },
      "source": [
        "# Batching tensors with padding\n",
        "dataset=tf.data.Dataset.range(100)\n",
        "dataset=dataset.map(lambda x: tf.fill([tf.cast(x,tf.int32)],x))\n",
        "dataset=dataset.padded_batch(4,padded_shapes=(None,))\n",
        "\n",
        "for batch in dataset.take(2):\n",
        "  print(batch.numpy())\n",
        "  print()"
      ],
      "execution_count": 77,
      "outputs": [
        {
          "output_type": "stream",
          "text": [
            "[[0 0 0]\n",
            " [1 0 0]\n",
            " [2 2 0]\n",
            " [3 3 3]]\n",
            "\n",
            "[[4 4 4 4 0 0 0]\n",
            " [5 5 5 5 5 0 0]\n",
            " [6 6 6 6 6 6 0]\n",
            " [7 7 7 7 7 7 7]]\n",
            "\n"
          ],
          "name": "stdout"
        }
      ]
    },
    {
      "cell_type": "code",
      "metadata": {
        "id": "yN9TrSBqntwS",
        "colab_type": "code",
        "colab": {}
      },
      "source": [
        "# Training Workflow"
      ],
      "execution_count": 0,
      "outputs": []
    }
  ]
}