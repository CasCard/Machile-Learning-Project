{
  "nbformat": 4,
  "nbformat_minor": 0,
  "metadata": {
    "colab": {
      "name": "Untitled11.ipynb",
      "provenance": [],
      "include_colab_link": true
    },
    "kernelspec": {
      "name": "python3",
      "display_name": "Python 3"
    },
    "accelerator": "GPU"
  },
  "cells": [
    {
      "cell_type": "markdown",
      "metadata": {
        "id": "view-in-github",
        "colab_type": "text"
      },
      "source": [
        "<a href=\"https://colab.research.google.com/github/CasCard/Machile-Learning-Project/blob/master/tf.data_Guide.ipynb\" target=\"_parent\"><img src=\"https://colab.research.google.com/assets/colab-badge.svg\" alt=\"Open In Colab\"/></a>"
      ]
    },
    {
      "cell_type": "code",
      "metadata": {
        "id": "h0oKfOrRg3Ia",
        "colab_type": "code",
        "colab": {
          "base_uri": "https://localhost:8080/",
          "height": 53
        },
        "outputId": "5e4db97b-92f4-402b-a226-01fbbd2b344f"
      },
      "source": [
        "from __future__ import absolute_import, division, print_function, unicode_literals\n",
        "\n",
        "try:\n",
        "  # %tensorflow_version only exists in Colab.\n",
        "  %tensorflow_version 2.x\n",
        "except Exception:\n",
        "  pass\n",
        "import tensorflow as tf\n",
        "tf.random.set_seed(1)\n",
        "from tensorflow import keras\n",
        "\n",
        "import numpy as np\n",
        "import matplotlib.pyplot as plt\n",
        "import pandas as pd\n",
        "\n",
        "print(tf.__version__)"
      ],
      "execution_count": 1,
      "outputs": [
        {
          "output_type": "stream",
          "text": [
            "TensorFlow 2.x selected.\n",
            "2.0.0\n"
          ],
          "name": "stdout"
        }
      ]
    },
    {
      "cell_type": "code",
      "metadata": {
        "id": "UABWh0-uhAj3",
        "colab_type": "code",
        "colab": {}
      },
      "source": [
        "import pathlib\n",
        "np.set_printoptions(precision=4)\n"
      ],
      "execution_count": 0,
      "outputs": []
    },
    {
      "cell_type": "code",
      "metadata": {
        "id": "vptgB7EMiWI9",
        "colab_type": "code",
        "colab": {
          "base_uri": "https://localhost:8080/",
          "height": 35
        },
        "outputId": "c43d3385-168e-4b5d-e80f-e526445a3c26"
      },
      "source": [
        "data=tf.data.Dataset.from_tensor_slices([8,3,0,8,2,1])\n",
        "data"
      ],
      "execution_count": 4,
      "outputs": [
        {
          "output_type": "execute_result",
          "data": {
            "text/plain": [
              "<TensorSliceDataset shapes: (), types: tf.int32>"
            ]
          },
          "metadata": {
            "tags": []
          },
          "execution_count": 4
        }
      ]
    },
    {
      "cell_type": "code",
      "metadata": {
        "id": "fLzje6yxiboM",
        "colab_type": "code",
        "colab": {
          "base_uri": "https://localhost:8080/",
          "height": 125
        },
        "outputId": "42b6382d-6783-484a-d824-38aa5723bf25"
      },
      "source": [
        "for elem in data:\n",
        "  print(elem.numpy())"
      ],
      "execution_count": 6,
      "outputs": [
        {
          "output_type": "stream",
          "text": [
            "8\n",
            "3\n",
            "0\n",
            "8\n",
            "2\n",
            "1\n"
          ],
          "name": "stdout"
        }
      ]
    },
    {
      "cell_type": "code",
      "metadata": {
        "id": "wOhcLjGFii_Q",
        "colab_type": "code",
        "colab": {
          "base_uri": "https://localhost:8080/",
          "height": 35
        },
        "outputId": "76e299e0-2ee3-43cf-9007-afdb06e8eb46"
      },
      "source": [
        "it=iter(data)\n",
        "print(next(it).numpy())"
      ],
      "execution_count": 9,
      "outputs": [
        {
          "output_type": "stream",
          "text": [
            "8\n"
          ],
          "name": "stdout"
        }
      ]
    },
    {
      "cell_type": "code",
      "metadata": {
        "id": "NJTG-kjEiqUW",
        "colab_type": "code",
        "colab": {
          "base_uri": "https://localhost:8080/",
          "height": 35
        },
        "outputId": "22b077cc-6a57-48e4-d166-4e961fbc5dae"
      },
      "source": [
        "print(data.reduce(0,lambda state,value:state+value).numpy())"
      ],
      "execution_count": 10,
      "outputs": [
        {
          "output_type": "stream",
          "text": [
            "22\n"
          ],
          "name": "stdout"
        }
      ]
    },
    {
      "cell_type": "code",
      "metadata": {
        "id": "qMVN-kIui5O-",
        "colab_type": "code",
        "colab": {
          "base_uri": "https://localhost:8080/",
          "height": 109
        },
        "outputId": "295ede37-f767-4ddf-a12d-39599735b34a"
      },
      "source": [
        "dataset1=tf.data.Dataset.from_tensor_slices(tf.random.uniform([4,10]))\n",
        "for element in dataset1:\n",
        "  print(element.numpy())"
      ],
      "execution_count": 11,
      "outputs": [
        {
          "output_type": "stream",
          "text": [
            "[0.1651 0.9015 0.631  0.4345 0.2919 0.6425 0.9758 0.4351 0.6601 0.6049]\n",
            "[0.6366 0.6144 0.8893 0.6278 0.532  0.026  0.4409 0.2527 0.8862 0.8873]\n",
            "[0.7873 0.0596 0.0711 0.3084 0.2512 0.9085 0.4715 0.2424 0.633  0.586 ]\n",
            "[0.91   0.5701 0.4964 0.5939 0.5414 0.4429 0.2925 0.7339 0.9197 0.6685]\n"
          ],
          "name": "stdout"
        }
      ]
    },
    {
      "cell_type": "code",
      "metadata": {
        "id": "pmrYHNFTjeuU",
        "colab_type": "code",
        "colab": {
          "base_uri": "https://localhost:8080/",
          "height": 35
        },
        "outputId": "1e09fe75-ff8f-4c8f-de16-31c32933c9fb"
      },
      "source": [
        "dataset1.element_spec"
      ],
      "execution_count": 12,
      "outputs": [
        {
          "output_type": "execute_result",
          "data": {
            "text/plain": [
              "TensorSpec(shape=(10,), dtype=tf.float32, name=None)"
            ]
          },
          "metadata": {
            "tags": []
          },
          "execution_count": 12
        }
      ]
    },
    {
      "cell_type": "code",
      "metadata": {
        "id": "VrkRm8x1jmZb",
        "colab_type": "code",
        "colab": {}
      },
      "source": [
        "dataset2=tf.data.Dataset.from_tensor_slices(\n",
        "    (tf.random.uniform([4]),\n",
        "     tf.random.uniform([4,100],maxval=100,dtype=tf.int32))\n",
        ")"
      ],
      "execution_count": 0,
      "outputs": []
    },
    {
      "cell_type": "code",
      "metadata": {
        "id": "p16Mvs1Ij3w1",
        "colab_type": "code",
        "colab": {
          "base_uri": "https://localhost:8080/",
          "height": 53
        },
        "outputId": "f9217aec-819d-4543-ce39-0c0c55b411a3"
      },
      "source": [
        "dataset2.element_spec"
      ],
      "execution_count": 14,
      "outputs": [
        {
          "output_type": "execute_result",
          "data": {
            "text/plain": [
              "(TensorSpec(shape=(), dtype=tf.float32, name=None),\n",
              " TensorSpec(shape=(100,), dtype=tf.int32, name=None))"
            ]
          },
          "metadata": {
            "tags": []
          },
          "execution_count": 14
        }
      ]
    },
    {
      "cell_type": "code",
      "metadata": {
        "id": "3BZB0bmLj6G_",
        "colab_type": "code",
        "colab": {
          "base_uri": "https://localhost:8080/",
          "height": 71
        },
        "outputId": "64356cbd-89bb-4376-8fd6-956114e2de1c"
      },
      "source": [
        "dataset3=tf.data.Dataset.zip((dataset1,dataset2))\n",
        "dataset3.element_spec"
      ],
      "execution_count": 16,
      "outputs": [
        {
          "output_type": "execute_result",
          "data": {
            "text/plain": [
              "(TensorSpec(shape=(10,), dtype=tf.float32, name=None),\n",
              " (TensorSpec(shape=(), dtype=tf.float32, name=None),\n",
              "  TensorSpec(shape=(100,), dtype=tf.int32, name=None)))"
            ]
          },
          "metadata": {
            "tags": []
          },
          "execution_count": 16
        }
      ]
    },
    {
      "cell_type": "code",
      "metadata": {
        "id": "oObU9YtCkCYT",
        "colab_type": "code",
        "colab": {
          "base_uri": "https://localhost:8080/",
          "height": 757
        },
        "outputId": "a603f072-06bd-47ca-9aef-2273b710434e"
      },
      "source": [
        "for elem in dataset3:\n",
        "  print(elem)"
      ],
      "execution_count": 19,
      "outputs": [
        {
          "output_type": "stream",
          "text": [
            "(<tf.Tensor: id=80, shape=(10,), dtype=float32, numpy=\n",
            "array([0.1651, 0.9015, 0.631 , 0.4345, 0.2919, 0.6425, 0.9758, 0.4351,\n",
            "       0.6601, 0.6049], dtype=float32)>, (<tf.Tensor: id=81, shape=(), dtype=float32, numpy=0.51010704>, <tf.Tensor: id=82, shape=(100,), dtype=int32, numpy=\n",
            "array([15, 18, 76, 96, 14, 19, 14, 34, 63, 59, 36, 90, 54,  7, 43, 64, 44,\n",
            "       95, 35, 24, 43, 76, 38, 31, 95, 11, 71, 24, 38, 19, 14, 17, 66, 81,\n",
            "       24, 45,  6, 70,  7, 34, 61,  3, 45, 96, 27, 43, 32, 71, 40, 16, 69,\n",
            "       76, 64, 58, 69, 13, 69, 92, 40, 69,  0, 80, 63, 85,  5, 51,  7, 38,\n",
            "       23, 61, 66, 88, 26,  5, 17, 82, 59,  0, 80, 45, 73, 95, 75, 90, 35,\n",
            "       19, 76, 41, 47, 30, 17, 24, 88, 38, 81, 49, 64, 46, 95, 65],\n",
            "      dtype=int32)>))\n",
            "(<tf.Tensor: id=83, shape=(10,), dtype=float32, numpy=\n",
            "array([0.6366, 0.6144, 0.8893, 0.6278, 0.532 , 0.026 , 0.4409, 0.2527,\n",
            "       0.8862, 0.8873], dtype=float32)>, (<tf.Tensor: id=84, shape=(), dtype=float32, numpy=0.44353175>, <tf.Tensor: id=85, shape=(100,), dtype=int32, numpy=\n",
            "array([96, 17, 26, 72, 21, 27, 83, 98, 89, 36,  1, 77, 55, 40, 85, 83, 44,\n",
            "       73, 65, 20, 17, 90, 61, 34, 30, 97, 13, 90, 83, 93, 66, 10, 90, 27,\n",
            "       52, 76, 33, 76, 14, 66, 98, 86, 57, 12, 74, 91, 27, 31, 43, 37, 19,\n",
            "       21, 15, 54, 43, 40, 27, 75,  1, 36, 98, 38, 68, 57,  9, 25, 69,  0,\n",
            "       82, 41, 50, 49,  8, 46, 38, 18, 20, 15, 59, 16, 92, 66, 49, 81, 42,\n",
            "       71, 10, 11, 59, 60, 63, 98, 23, 23, 55,  2, 41, 92, 12, 49],\n",
            "      dtype=int32)>))\n",
            "(<tf.Tensor: id=86, shape=(10,), dtype=float32, numpy=\n",
            "array([0.7873, 0.0596, 0.0711, 0.3084, 0.2512, 0.9085, 0.4715, 0.2424,\n",
            "       0.633 , 0.586 ], dtype=float32)>, (<tf.Tensor: id=87, shape=(), dtype=float32, numpy=0.4085331>, <tf.Tensor: id=88, shape=(100,), dtype=int32, numpy=\n",
            "array([94, 65, 80, 64, 14, 66, 22, 58, 79, 60,  0,  1, 51, 76, 40, 93, 26,\n",
            "       61, 64, 75,  9, 59,  5, 76, 66, 81, 17, 58, 17, 78,  0, 41, 61, 88,\n",
            "        1, 98, 94, 51, 60, 60, 99, 54, 30, 67, 64, 14, 39, 11, 90, 49, 71,\n",
            "       64, 55, 46, 31, 87, 54, 53, 39, 70, 13, 73, 56, 21, 35, 82, 24, 53,\n",
            "        0, 91, 11, 43, 36, 79, 58, 11, 94, 29, 68, 38, 28, 59, 33, 18, 78,\n",
            "       59, 71, 14, 86, 54, 90, 14, 84, 36, 48, 94, 44, 42, 61, 96],\n",
            "      dtype=int32)>))\n",
            "(<tf.Tensor: id=89, shape=(10,), dtype=float32, numpy=\n",
            "array([0.91  , 0.5701, 0.4964, 0.5939, 0.5414, 0.4429, 0.2925, 0.7339,\n",
            "       0.9197, 0.6685], dtype=float32)>, (<tf.Tensor: id=90, shape=(), dtype=float32, numpy=0.9924923>, <tf.Tensor: id=91, shape=(100,), dtype=int32, numpy=\n",
            "array([11, 23, 97, 43, 97, 54, 87, 90, 74, 90, 18, 44, 48, 62,  4, 44, 41,\n",
            "       13, 68, 33, 70, 64, 33, 79, 17, 64, 26, 38, 99, 70, 39, 19, 76, 18,\n",
            "       64, 14, 67, 34,  1, 47, 25, 64, 43, 98, 12, 97, 99,  8, 40, 38, 19,\n",
            "       17,  6, 57, 89, 34, 87, 85, 43, 29, 47, 10,  3,  4, 72,  2, 89, 82,\n",
            "       48, 98, 28, 57, 26, 33, 53, 86, 15, 14, 39, 91, 69, 51, 96,  3, 47,\n",
            "       14, 25, 73, 31, 86, 74, 35, 19, 48, 69, 97, 10,  1, 67, 51],\n",
            "      dtype=int32)>))\n"
          ],
          "name": "stdout"
        }
      ]
    },
    {
      "cell_type": "code",
      "metadata": {
        "id": "rJlpzS5FkPCe",
        "colab_type": "code",
        "colab": {
          "base_uri": "https://localhost:8080/",
          "height": 35
        },
        "outputId": "4b6c33fe-5378-4188-8f35-a1e41f244d9c"
      },
      "source": [
        "dataset4=tf.data.Dataset.from_tensors(tf.SparseTensor(indices=[[0,0],[1,2]],values=[1,2],dense_shape=[3,4]))\n",
        "dataset4.element_spec"
      ],
      "execution_count": 21,
      "outputs": [
        {
          "output_type": "execute_result",
          "data": {
            "text/plain": [
              "SparseTensorSpec(TensorShape([3, 4]), tf.int32)"
            ]
          },
          "metadata": {
            "tags": []
          },
          "execution_count": 21
        }
      ]
    },
    {
      "cell_type": "code",
      "metadata": {
        "id": "rtOJcOEDl4oV",
        "colab_type": "code",
        "colab": {
          "base_uri": "https://localhost:8080/",
          "height": 35
        },
        "outputId": "25c7fac6-7966-4960-94c5-e7105bf2a239"
      },
      "source": [
        "dataset4.element_spec.value_type"
      ],
      "execution_count": 22,
      "outputs": [
        {
          "output_type": "execute_result",
          "data": {
            "text/plain": [
              "tensorflow.python.framework.sparse_tensor.SparseTensor"
            ]
          },
          "metadata": {
            "tags": []
          },
          "execution_count": 22
        }
      ]
    },
    {
      "cell_type": "code",
      "metadata": {
        "id": "UYVGNXv-mBeh",
        "colab_type": "code",
        "colab": {
          "base_uri": "https://localhost:8080/",
          "height": 35
        },
        "outputId": "27aea72b-4566-40e0-aecc-14a2d2ee88b3"
      },
      "source": [
        "dataset1=tf.data.Dataset.from_tensor_slices(\n",
        "    tf.random.uniform([4,10],minval=1,maxval=10,dtype=tf.int32))\n",
        "dataset1"
      ],
      "execution_count": 24,
      "outputs": [
        {
          "output_type": "execute_result",
          "data": {
            "text/plain": [
              "<TensorSliceDataset shapes: (10,), types: tf.int32>"
            ]
          },
          "metadata": {
            "tags": []
          },
          "execution_count": 24
        }
      ]
    },
    {
      "cell_type": "code",
      "metadata": {
        "id": "PGyrV2oimWYv",
        "colab_type": "code",
        "colab": {
          "base_uri": "https://localhost:8080/",
          "height": 89
        },
        "outputId": "d2f10c87-d0ff-492f-f1ef-25539d68ffb3"
      },
      "source": [
        "for elem in dataset1:\n",
        "  print(elem.numpy())"
      ],
      "execution_count": 27,
      "outputs": [
        {
          "output_type": "stream",
          "text": [
            "[2 4 4 4 5 7 2 9 9 6]\n",
            "[5 7 2 4 5 3 1 3 2 3]\n",
            "[6 4 2 2 6 1 7 3 8 4]\n",
            "[9 2 6 8 6 4 9 3 2 2]\n"
          ],
          "name": "stdout"
        }
      ]
    },
    {
      "cell_type": "code",
      "metadata": {
        "id": "Ny0nXpa6mdKA",
        "colab_type": "code",
        "colab": {
          "base_uri": "https://localhost:8080/",
          "height": 55
        },
        "outputId": "40612f14-3b47-48f2-f90a-df93e4ffe4d6"
      },
      "source": [
        "dataset2=tf.data.Dataset.from_tensor_slices(\n",
        "    (tf.random.uniform([4]),\n",
        "     tf.random.uniform([4,100],maxval=100,dtype=tf.int32))\n",
        ")\n",
        "dataset2"
      ],
      "execution_count": 28,
      "outputs": [
        {
          "output_type": "execute_result",
          "data": {
            "text/plain": [
              "<TensorSliceDataset shapes: ((), (100,)), types: (tf.float32, tf.int32)>"
            ]
          },
          "metadata": {
            "tags": []
          },
          "execution_count": 28
        }
      ]
    },
    {
      "cell_type": "code",
      "metadata": {
        "id": "_PUXPoMqm9r3",
        "colab_type": "code",
        "colab": {
          "base_uri": "https://localhost:8080/",
          "height": 613
        },
        "outputId": "f43b8cc8-8fcf-4e1e-8cb6-98f3fc5364d0"
      },
      "source": [
        "for test in dataset2:\n",
        "  print(test)"
      ],
      "execution_count": 30,
      "outputs": [
        {
          "output_type": "stream",
          "text": [
            "(<tf.Tensor: id=158, shape=(), dtype=float32, numpy=0.734782>, <tf.Tensor: id=159, shape=(100,), dtype=int32, numpy=\n",
            "array([55, 10, 15, 35, 52, 88, 93,  9, 63, 26,  1, 59,  7, 93, 44, 36, 76,\n",
            "       50, 98, 51, 18, 38, 50, 31, 56, 37, 21, 79, 45,  4, 42, 33, 79,  0,\n",
            "       82, 45, 16, 50, 24, 38, 50, 75, 92, 99, 53, 16, 56, 50, 58, 43, 68,\n",
            "       65, 24, 45, 14, 84, 40, 50, 68, 98, 84, 27, 43, 35, 64, 35, 48, 97,\n",
            "        0, 46, 12, 16, 19, 81, 77, 64, 52, 87, 43, 44, 70, 72, 51, 65, 25,\n",
            "       56, 87, 18, 70, 32, 27, 77, 40, 91, 55, 10, 30, 19, 63, 85],\n",
            "      dtype=int32)>)\n",
            "(<tf.Tensor: id=160, shape=(), dtype=float32, numpy=0.14221263>, <tf.Tensor: id=161, shape=(100,), dtype=int32, numpy=\n",
            "array([23, 27, 53, 54, 42, 29, 24, 71, 64, 93, 30, 71,  7, 63, 26, 17, 30,\n",
            "       58, 60,  4, 57, 87, 88, 13, 26, 73, 35, 67, 70, 42, 51, 94, 19, 33,\n",
            "       44, 51,  8, 60, 51, 74, 52, 10, 10, 45, 86, 55, 64, 89,  6, 19,  3,\n",
            "       59, 27, 73, 22, 69, 28,  8, 65, 45, 38, 73, 83, 45, 27, 53, 83, 97,\n",
            "       73,  3, 49, 34, 34, 88, 33, 53, 77, 76, 20, 11, 21, 30,  4, 18, 37,\n",
            "       38,  1, 81, 91, 56, 16, 98,  9, 79,  9, 72, 99, 59, 96, 45],\n",
            "      dtype=int32)>)\n",
            "(<tf.Tensor: id=162, shape=(), dtype=float32, numpy=0.06338346>, <tf.Tensor: id=163, shape=(100,), dtype=int32, numpy=\n",
            "array([ 1, 48, 86, 43, 43,  0, 19, 31,  8, 86, 92, 56, 55, 76, 94, 30, 89,\n",
            "       82, 47, 45, 30, 62, 99, 77, 66, 31, 43, 80,  3, 98, 10, 90, 24, 80,\n",
            "       35,  2, 74, 66, 71, 35,  4,  1, 17, 94, 29, 50, 36, 40, 48,  5, 60,\n",
            "       53,  6, 54, 92, 81, 56, 15, 64, 98,  1, 87,  3, 39, 11, 82, 32, 53,\n",
            "       47, 58, 68, 47, 18, 93,  1, 66, 41, 92, 93,  6, 71, 26,  6, 35, 67,\n",
            "       73, 96, 86, 63, 88, 74, 12, 33, 78, 29, 83, 48, 37, 37, 10],\n",
            "      dtype=int32)>)\n",
            "(<tf.Tensor: id=164, shape=(), dtype=float32, numpy=0.18919992>, <tf.Tensor: id=165, shape=(100,), dtype=int32, numpy=\n",
            "array([88, 54, 22, 79, 70,  2, 18, 94, 11,  3, 30, 19, 56, 77, 36, 17, 39,\n",
            "       93, 48, 86, 39, 24, 51, 92, 43, 85, 61, 55, 85, 25,  9, 31, 33, 39,\n",
            "        6, 46, 89, 15, 74, 43, 56, 37,  0, 64, 93, 28, 34,  0, 45, 82, 36,\n",
            "       11, 34, 77, 14,  2,  6, 79, 76, 36, 38, 32, 96, 58, 34, 23,  2, 31,\n",
            "       42, 51, 40, 31, 95, 85, 90, 80, 66, 20, 48, 62,  6,  0, 21, 93, 12,\n",
            "       59, 60, 56, 94, 34, 53, 47, 24, 49, 77,  9, 77, 26, 29, 71],\n",
            "      dtype=int32)>)\n"
          ],
          "name": "stdout"
        }
      ]
    },
    {
      "cell_type": "code",
      "metadata": {
        "id": "gkqoMoTpnHbi",
        "colab_type": "code",
        "colab": {
          "base_uri": "https://localhost:8080/",
          "height": 55
        },
        "outputId": "9c56ff67-befc-42e7-8f1a-ddbaba442818"
      },
      "source": [
        "dataset3=tf.data.Dataset.zip((dataset1,dataset2))\n",
        "dataset3"
      ],
      "execution_count": 31,
      "outputs": [
        {
          "output_type": "execute_result",
          "data": {
            "text/plain": [
              "<ZipDataset shapes: ((10,), ((), (100,))), types: (tf.int32, (tf.float32, tf.int32))>"
            ]
          },
          "metadata": {
            "tags": []
          },
          "execution_count": 31
        }
      ]
    },
    {
      "cell_type": "code",
      "metadata": {
        "id": "hCwhQZZonWzY",
        "colab_type": "code",
        "colab": {
          "base_uri": "https://localhost:8080/",
          "height": 89
        },
        "outputId": "4150fd50-3053-4782-b3b5-4048008c5d4f"
      },
      "source": [
        "for a,(b,c) in dataset3:\n",
        "  print('shapes: {a.shape},{b.shape},{c.shape}'.format(a=a,b=b,c=c))"
      ],
      "execution_count": 32,
      "outputs": [
        {
          "output_type": "stream",
          "text": [
            "shapes: (10,),(),(100,)\n",
            "shapes: (10,),(),(100,)\n",
            "shapes: (10,),(),(100,)\n",
            "shapes: (10,),(),(100,)\n"
          ],
          "name": "stdout"
        }
      ]
    },
    {
      "cell_type": "code",
      "metadata": {
        "id": "kU0ajHPZnmr1",
        "colab_type": "code",
        "colab": {
          "base_uri": "https://localhost:8080/",
          "height": 181
        },
        "outputId": "d5c5685a-b031-4011-d34f-7f9201a2b450"
      },
      "source": [
        "train,test=tf.keras.datasets.fashion_mnist.load_data()"
      ],
      "execution_count": 33,
      "outputs": [
        {
          "output_type": "stream",
          "text": [
            "Downloading data from https://storage.googleapis.com/tensorflow/tf-keras-datasets/train-labels-idx1-ubyte.gz\n",
            "32768/29515 [=================================] - 0s 0us/step\n",
            "Downloading data from https://storage.googleapis.com/tensorflow/tf-keras-datasets/train-images-idx3-ubyte.gz\n",
            "26427392/26421880 [==============================] - 0s 0us/step\n",
            "Downloading data from https://storage.googleapis.com/tensorflow/tf-keras-datasets/t10k-labels-idx1-ubyte.gz\n",
            "8192/5148 [===============================================] - 0s 0us/step\n",
            "Downloading data from https://storage.googleapis.com/tensorflow/tf-keras-datasets/t10k-images-idx3-ubyte.gz\n",
            "4423680/4422102 [==============================] - 0s 0us/step\n"
          ],
          "name": "stdout"
        }
      ]
    },
    {
      "cell_type": "code",
      "metadata": {
        "id": "bP6wl5bvnxQD",
        "colab_type": "code",
        "colab": {
          "base_uri": "https://localhost:8080/",
          "height": 55
        },
        "outputId": "a09f6796-23d7-4f08-f92d-909af6bbf87d"
      },
      "source": [
        "images,labels=train\n",
        "images=images/255\n",
        "dataset=tf.data.Dataset.from_tensor_slices((images,labels))\n",
        "dataset"
      ],
      "execution_count": 34,
      "outputs": [
        {
          "output_type": "execute_result",
          "data": {
            "text/plain": [
              "<TensorSliceDataset shapes: ((28, 28), ()), types: (tf.float64, tf.uint8)>"
            ]
          },
          "metadata": {
            "tags": []
          },
          "execution_count": 34
        }
      ]
    },
    {
      "cell_type": "code",
      "metadata": {
        "id": "2kYrLh1dn-BP",
        "colab_type": "code",
        "colab": {
          "base_uri": "https://localhost:8080/",
          "height": 107
        },
        "outputId": "00cae4a0-d8b0-4e95-b9e8-26b7973cd787"
      },
      "source": [
        "def count(stop):\n",
        "  i=0\n",
        "  while i<stop:\n",
        "    yield i\n",
        "    i+=1\n",
        "\n",
        "for n in count(5):\n",
        "  print(n)"
      ],
      "execution_count": 36,
      "outputs": [
        {
          "output_type": "stream",
          "text": [
            "0\n",
            "1\n",
            "2\n",
            "3\n",
            "4\n"
          ],
          "name": "stdout"
        }
      ]
    },
    {
      "cell_type": "code",
      "metadata": {
        "id": "OVIqAW7poW2u",
        "colab_type": "code",
        "colab": {}
      },
      "source": [
        "ds_counter=tf.data.Dataset.from_generator(count,args=[25],output_types=tf.int32,output_shapes=(),)\n"
      ],
      "execution_count": 0,
      "outputs": []
    },
    {
      "cell_type": "code",
      "metadata": {
        "id": "B_MPSp8mo_Rk",
        "colab_type": "code",
        "colab": {
          "base_uri": "https://localhost:8080/",
          "height": 107
        },
        "outputId": "bac2035d-c5b3-46de-f234-7694bcc7850e"
      },
      "source": [
        "for count_batch in ds_counter.repeat().batch(10).take(5):\n",
        "  print(count_batch.numpy())"
      ],
      "execution_count": 40,
      "outputs": [
        {
          "output_type": "stream",
          "text": [
            "[0 1 2 3 4 5 6 7 8 9]\n",
            "[10 11 12 13 14 15 16 17 18 19]\n",
            "[20 21 22 23 24  0  1  2  3  4]\n",
            "[ 5  6  7  8  9 10 11 12 13 14]\n",
            "[15 16 17 18 19 20 21 22 23 24]\n"
          ],
          "name": "stdout"
        }
      ]
    },
    {
      "cell_type": "code",
      "metadata": {
        "id": "eXWO73X_pMc0",
        "colab_type": "code",
        "colab": {}
      },
      "source": [
        "def gen_series():\n",
        "  i=0\n",
        "  while True:\n",
        "    size=np.random.randint(0,10)\n",
        "    yield i,np.random.normal(size=(size,))\n",
        "    i += 1"
      ],
      "execution_count": 0,
      "outputs": []
    },
    {
      "cell_type": "code",
      "metadata": {
        "id": "IQ6TzPYGqNOh",
        "colab_type": "code",
        "colab": {
          "base_uri": "https://localhost:8080/",
          "height": 163
        },
        "outputId": "544cc7b8-f77a-411b-8115-81498350b45f"
      },
      "source": [
        "for i ,series in gen_series():\n",
        "  print(i,\":\",str(series))\n",
        "  if i>5:\n",
        "    break"
      ],
      "execution_count": 42,
      "outputs": [
        {
          "output_type": "stream",
          "text": [
            "0 : [ 0.2403 -1.035   2.9211  0.2408  0.9055  0.6932]\n",
            "1 : [ 0.6713  0.2674  0.1443  0.1742 -2.651 ]\n",
            "2 : [-0.8449]\n",
            "3 : [ 0.7786  0.5757 -0.2319 -1.9504  1.8821  0.9531  0.9939  2.0887]\n",
            "4 : [-0.4459  0.7888 -0.5667 -1.5875  0.3611]\n",
            "5 : [1.7289 0.2953]\n",
            "6 : [-1.1466 -0.9671  0.7132]\n"
          ],
          "name": "stdout"
        }
      ]
    },
    {
      "cell_type": "code",
      "metadata": {
        "id": "vcT_baojqXKQ",
        "colab_type": "code",
        "colab": {
          "base_uri": "https://localhost:8080/",
          "height": 55
        },
        "outputId": "e2eee67c-a1cb-46a2-ea0f-80289fc5453d"
      },
      "source": [
        "ds_series=tf.data.Dataset.from_generator(\n",
        "    gen_series,\n",
        "    output_types=(tf.int32,tf.float32),\n",
        "    output_shapes=((),(None,)))\n",
        "\n",
        "ds_series"
      ],
      "execution_count": 43,
      "outputs": [
        {
          "output_type": "execute_result",
          "data": {
            "text/plain": [
              "<DatasetV1Adapter shapes: ((), (None,)), types: (tf.int32, tf.float32)>"
            ]
          },
          "metadata": {
            "tags": []
          },
          "execution_count": 43
        }
      ]
    },
    {
      "cell_type": "code",
      "metadata": {
        "id": "fPeq66h0sq2a",
        "colab_type": "code",
        "colab": {
          "base_uri": "https://localhost:8080/",
          "height": 253
        },
        "outputId": "15a652f7-39dd-493c-9e78-2c8544c8c2f6"
      },
      "source": [
        "ds_series_batch=ds_series.shuffle(20).padded_batch(10,padded_shapes=([],[None]))\n",
        "\n",
        "ids,sequence_batch=next(iter(ds_series_batch))\n",
        "print(ids.numpy())\n",
        "print()\n",
        "print(sequence_batch.numpy())"
      ],
      "execution_count": 45,
      "outputs": [
        {
          "output_type": "stream",
          "text": [
            "[13  9 10 22  4  8 25 20 18 14]\n",
            "\n",
            "[[ 1.5012 -0.5403 -0.8723  0.5297  0.1748  0.      0.      0.      0.    ]\n",
            " [ 0.      0.      0.      0.      0.      0.      0.      0.      0.    ]\n",
            " [ 0.0944  0.4077  0.3546  0.1813 -1.1926  2.484   0.      0.      0.    ]\n",
            " [ 0.6656 -0.5254 -2.1757  0.1863  0.6819 -0.508  -0.0746 -0.0986  0.8986]\n",
            " [-0.8089  0.9012 -0.4944  1.827  -0.2467  0.      0.      0.      0.    ]\n",
            " [ 0.      0.      0.      0.      0.      0.      0.      0.      0.    ]\n",
            " [-0.8374  1.222   1.6837  0.7681 -0.6648 -0.8321 -0.2453  0.      0.    ]\n",
            " [ 0.5292  1.1923  0.294   0.      0.      0.      0.      0.      0.    ]\n",
            " [ 0.8934 -0.667  -0.1476  0.5793 -0.6421  0.007  -0.3041  0.7923  0.    ]\n",
            " [ 0.011  -0.0932 -0.6921  0.658  -0.3096  0.4395  0.6633  0.7819  0.    ]]\n"
          ],
          "name": "stdout"
        }
      ]
    },
    {
      "cell_type": "code",
      "metadata": {
        "id": "nDklAFFRtPJU",
        "colab_type": "code",
        "colab": {
          "base_uri": "https://localhost:8080/",
          "height": 73
        },
        "outputId": "017bd9b7-f05a-4538-d065-0736d26af1ff"
      },
      "source": [
        "flowers=tf.keras.utils.get_file(\n",
        "    'flower_photos',\n",
        "    'https://storage.googleapis.com/download.tensorflow.org/example_images/flower_photos.tgz',\n",
        "    untar=True\n",
        ")"
      ],
      "execution_count": 46,
      "outputs": [
        {
          "output_type": "stream",
          "text": [
            "Downloading data from https://storage.googleapis.com/download.tensorflow.org/example_images/flower_photos.tgz\n",
            "228818944/228813984 [==============================] - 3s 0us/step\n"
          ],
          "name": "stdout"
        }
      ]
    },
    {
      "cell_type": "code",
      "metadata": {
        "id": "XVt-7_MBtnUz",
        "colab_type": "code",
        "colab": {
          "base_uri": "https://localhost:8080/",
          "height": 35
        },
        "outputId": "564f8e67-d6ba-4452-e0dc-8af17c0103c9"
      },
      "source": [
        "img_gen=tf.keras.preprocessing.image.ImageDataGenerator(rescale=1./255,rotation_range=20)\n",
        "images,label=next(img_gen.flow_from_directory(flowers))"
      ],
      "execution_count": 47,
      "outputs": [
        {
          "output_type": "stream",
          "text": [
            "Found 3670 images belonging to 5 classes.\n"
          ],
          "name": "stdout"
        }
      ]
    },
    {
      "cell_type": "code",
      "metadata": {
        "id": "4Csh9KZmt8jX",
        "colab_type": "code",
        "colab": {
          "base_uri": "https://localhost:8080/",
          "height": 53
        },
        "outputId": "3b454ab7-8d65-4b64-d3b7-cda1f072ec76"
      },
      "source": [
        "print(images.dtype,images.shape)\n",
        "print(label.dtype,label.shape)"
      ],
      "execution_count": 50,
      "outputs": [
        {
          "output_type": "stream",
          "text": [
            "float32 (32, 256, 256, 3)\n",
            "float32 (32, 5)\n"
          ],
          "name": "stdout"
        }
      ]
    },
    {
      "cell_type": "code",
      "metadata": {
        "id": "z-KPssXQuL-V",
        "colab_type": "code",
        "colab": {
          "base_uri": "https://localhost:8080/",
          "height": 55
        },
        "outputId": "d37bc633-42b4-4269-8142-104a0b77e2b5"
      },
      "source": [
        "ds=tf.data.Dataset.from_generator(\n",
        "    img_gen.flow_from_directory,args=[flowers],\n",
        "    output_types=(tf.float32,tf.float32),\n",
        "    output_shapes=([32,256,256,3],[32,5])\n",
        ")\n",
        "ds"
      ],
      "execution_count": 51,
      "outputs": [
        {
          "output_type": "execute_result",
          "data": {
            "text/plain": [
              "<DatasetV1Adapter shapes: ((32, 256, 256, 3), (32, 5)), types: (tf.float32, tf.float32)>"
            ]
          },
          "metadata": {
            "tags": []
          },
          "execution_count": 51
        }
      ]
    },
    {
      "cell_type": "code",
      "metadata": {
        "id": "PqC9qn1cuu6q",
        "colab_type": "code",
        "colab": {
          "base_uri": "https://localhost:8080/",
          "height": 73
        },
        "outputId": "40ad95ec-529d-4fa5-ef3d-6a019c929cb9"
      },
      "source": [
        "# Consuming TFRecord data\n",
        "fsns_test_file = tf.keras.utils.get_file(\"fsns.tfrec\", \"https://storage.googleapis.com/download.tensorflow.org/data/fsns-20160927/testdata/fsns-00000-of-00001\")"
      ],
      "execution_count": 52,
      "outputs": [
        {
          "output_type": "stream",
          "text": [
            "Downloading data from https://storage.googleapis.com/download.tensorflow.org/data/fsns-20160927/testdata/fsns-00000-of-00001\n",
            "7905280/7904079 [==============================] - 0s 0us/step\n"
          ],
          "name": "stdout"
        }
      ]
    },
    {
      "cell_type": "code",
      "metadata": {
        "id": "dIbRFp_KvKTJ",
        "colab_type": "code",
        "colab": {
          "base_uri": "https://localhost:8080/",
          "height": 35
        },
        "outputId": "57c10dd5-6265-484c-beac-09bc726b7008"
      },
      "source": [
        "dataset=tf.data.TFRecordDataset(filenames=[fsns_test_file])\n",
        "dataset"
      ],
      "execution_count": 53,
      "outputs": [
        {
          "output_type": "execute_result",
          "data": {
            "text/plain": [
              "<TFRecordDatasetV2 shapes: (), types: tf.string>"
            ]
          },
          "metadata": {
            "tags": []
          },
          "execution_count": 53
        }
      ]
    },
    {
      "cell_type": "code",
      "metadata": {
        "id": "E04mM_davnL_",
        "colab_type": "code",
        "colab": {
          "base_uri": "https://localhost:8080/",
          "height": 71
        },
        "outputId": "1f53a943-fe98-4813-b431-709ea89114f3"
      },
      "source": [
        "raw_example=next(iter(dataset))\n",
        "parsed=tf.train.Example.FromString(raw_example.numpy())\n",
        "parsed.features.feature['image/text']"
      ],
      "execution_count": 54,
      "outputs": [
        {
          "output_type": "execute_result",
          "data": {
            "text/plain": [
              "bytes_list {\n",
              "  value: \"Rue Perreyon\"\n",
              "}"
            ]
          },
          "metadata": {
            "tags": []
          },
          "execution_count": 54
        }
      ]
    },
    {
      "cell_type": "code",
      "metadata": {
        "id": "U55OufcHv5jR",
        "colab_type": "code",
        "colab": {
          "base_uri": "https://localhost:8080/",
          "height": 145
        },
        "outputId": "752a4d86-58c3-421b-cb0c-2ec184421ead"
      },
      "source": [
        "directory_url = 'https://storage.googleapis.com/download.tensorflow.org/data/illiad/'\n",
        "file_names = ['cowper.txt', 'derby.txt', 'butler.txt']\n",
        "\n",
        "file_paths = [\n",
        "    tf.keras.utils.get_file(file_name, directory_url + file_name)\n",
        "    for file_name in file_names\n",
        "]"
      ],
      "execution_count": 55,
      "outputs": [
        {
          "output_type": "stream",
          "text": [
            "Downloading data from https://storage.googleapis.com/download.tensorflow.org/data/illiad/cowper.txt\n",
            "819200/815980 [==============================] - 0s 0us/step\n",
            "Downloading data from https://storage.googleapis.com/download.tensorflow.org/data/illiad/derby.txt\n",
            "811008/809730 [==============================] - 0s 0us/step\n",
            "Downloading data from https://storage.googleapis.com/download.tensorflow.org/data/illiad/butler.txt\n",
            "811008/807992 [==============================] - 0s 0us/step\n"
          ],
          "name": "stdout"
        }
      ]
    },
    {
      "cell_type": "code",
      "metadata": {
        "id": "GYhpaM65wPXv",
        "colab_type": "code",
        "colab": {
          "base_uri": "https://localhost:8080/",
          "height": 107
        },
        "outputId": "8680432f-4438-4e76-d6e0-d0d337a01735"
      },
      "source": [
        "dataset=tf.data.TextLineDataset(file_paths)\n",
        "for line in dataset.take(5):\n",
        "  print(line.numpy())"
      ],
      "execution_count": 56,
      "outputs": [
        {
          "output_type": "stream",
          "text": [
            "b\"\\xef\\xbb\\xbfAchilles sing, O Goddess! Peleus' son;\"\n",
            "b'His wrath pernicious, who ten thousand woes'\n",
            "b\"Caused to Achaia's host, sent many a soul\"\n",
            "b'Illustrious into Ades premature,'\n",
            "b'And Heroes gave (so stood the will of Jove)'\n"
          ],
          "name": "stdout"
        }
      ]
    },
    {
      "cell_type": "code",
      "metadata": {
        "id": "vTl5RUQYwjA0",
        "colab_type": "code",
        "colab": {}
      },
      "source": [
        "# Consuming Text Data"
      ],
      "execution_count": 0,
      "outputs": []
    },
    {
      "cell_type": "code",
      "metadata": {
        "id": "GXGPCuKOwwJX",
        "colab_type": "code",
        "colab": {}
      },
      "source": [
        ""
      ],
      "execution_count": 0,
      "outputs": []
    }
  ]
}