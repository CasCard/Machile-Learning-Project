{
  "nbformat": 4,
  "nbformat_minor": 0,
  "metadata": {
    "colab": {
      "name": "Boston Housing Using Tensorflow Estimator API.ipynb",
      "provenance": []
    },
    "kernelspec": {
      "name": "python3",
      "display_name": "Python 3"
    },
    "accelerator": "GPU"
  },
  "cells": [
    {
      "cell_type": "code",
      "metadata": {
        "id": "RVwCsD8pbHGg",
        "colab_type": "code",
        "colab": {}
      },
      "source": [
        "import numpy as np\n",
        "import pandas as pd\n",
        "from sklearn.datasets import load_boston"
      ],
      "execution_count": 0,
      "outputs": []
    },
    {
      "cell_type": "code",
      "metadata": {
        "id": "c21DUaeubaz_",
        "colab_type": "code",
        "colab": {
          "base_uri": "https://localhost:8080/",
          "height": 1000
        },
        "outputId": "d5bb3811-56ce-427a-e023-58458e40fea5"
      },
      "source": [
        "# Load Data\n",
        "# Load Dataset\n",
        "boston = load_boston()\n",
        "#Print out the dataset\n",
        "print(boston)"
      ],
      "execution_count": 3,
      "outputs": [
        {
          "output_type": "stream",
          "text": [
            "{'data': array([[6.3200e-03, 1.8000e+01, 2.3100e+00, ..., 1.5300e+01, 3.9690e+02,\n",
            "        4.9800e+00],\n",
            "       [2.7310e-02, 0.0000e+00, 7.0700e+00, ..., 1.7800e+01, 3.9690e+02,\n",
            "        9.1400e+00],\n",
            "       [2.7290e-02, 0.0000e+00, 7.0700e+00, ..., 1.7800e+01, 3.9283e+02,\n",
            "        4.0300e+00],\n",
            "       ...,\n",
            "       [6.0760e-02, 0.0000e+00, 1.1930e+01, ..., 2.1000e+01, 3.9690e+02,\n",
            "        5.6400e+00],\n",
            "       [1.0959e-01, 0.0000e+00, 1.1930e+01, ..., 2.1000e+01, 3.9345e+02,\n",
            "        6.4800e+00],\n",
            "       [4.7410e-02, 0.0000e+00, 1.1930e+01, ..., 2.1000e+01, 3.9690e+02,\n",
            "        7.8800e+00]]), 'target': array([24. , 21.6, 34.7, 33.4, 36.2, 28.7, 22.9, 27.1, 16.5, 18.9, 15. ,\n",
            "       18.9, 21.7, 20.4, 18.2, 19.9, 23.1, 17.5, 20.2, 18.2, 13.6, 19.6,\n",
            "       15.2, 14.5, 15.6, 13.9, 16.6, 14.8, 18.4, 21. , 12.7, 14.5, 13.2,\n",
            "       13.1, 13.5, 18.9, 20. , 21. , 24.7, 30.8, 34.9, 26.6, 25.3, 24.7,\n",
            "       21.2, 19.3, 20. , 16.6, 14.4, 19.4, 19.7, 20.5, 25. , 23.4, 18.9,\n",
            "       35.4, 24.7, 31.6, 23.3, 19.6, 18.7, 16. , 22.2, 25. , 33. , 23.5,\n",
            "       19.4, 22. , 17.4, 20.9, 24.2, 21.7, 22.8, 23.4, 24.1, 21.4, 20. ,\n",
            "       20.8, 21.2, 20.3, 28. , 23.9, 24.8, 22.9, 23.9, 26.6, 22.5, 22.2,\n",
            "       23.6, 28.7, 22.6, 22. , 22.9, 25. , 20.6, 28.4, 21.4, 38.7, 43.8,\n",
            "       33.2, 27.5, 26.5, 18.6, 19.3, 20.1, 19.5, 19.5, 20.4, 19.8, 19.4,\n",
            "       21.7, 22.8, 18.8, 18.7, 18.5, 18.3, 21.2, 19.2, 20.4, 19.3, 22. ,\n",
            "       20.3, 20.5, 17.3, 18.8, 21.4, 15.7, 16.2, 18. , 14.3, 19.2, 19.6,\n",
            "       23. , 18.4, 15.6, 18.1, 17.4, 17.1, 13.3, 17.8, 14. , 14.4, 13.4,\n",
            "       15.6, 11.8, 13.8, 15.6, 14.6, 17.8, 15.4, 21.5, 19.6, 15.3, 19.4,\n",
            "       17. , 15.6, 13.1, 41.3, 24.3, 23.3, 27. , 50. , 50. , 50. , 22.7,\n",
            "       25. , 50. , 23.8, 23.8, 22.3, 17.4, 19.1, 23.1, 23.6, 22.6, 29.4,\n",
            "       23.2, 24.6, 29.9, 37.2, 39.8, 36.2, 37.9, 32.5, 26.4, 29.6, 50. ,\n",
            "       32. , 29.8, 34.9, 37. , 30.5, 36.4, 31.1, 29.1, 50. , 33.3, 30.3,\n",
            "       34.6, 34.9, 32.9, 24.1, 42.3, 48.5, 50. , 22.6, 24.4, 22.5, 24.4,\n",
            "       20. , 21.7, 19.3, 22.4, 28.1, 23.7, 25. , 23.3, 28.7, 21.5, 23. ,\n",
            "       26.7, 21.7, 27.5, 30.1, 44.8, 50. , 37.6, 31.6, 46.7, 31.5, 24.3,\n",
            "       31.7, 41.7, 48.3, 29. , 24. , 25.1, 31.5, 23.7, 23.3, 22. , 20.1,\n",
            "       22.2, 23.7, 17.6, 18.5, 24.3, 20.5, 24.5, 26.2, 24.4, 24.8, 29.6,\n",
            "       42.8, 21.9, 20.9, 44. , 50. , 36. , 30.1, 33.8, 43.1, 48.8, 31. ,\n",
            "       36.5, 22.8, 30.7, 50. , 43.5, 20.7, 21.1, 25.2, 24.4, 35.2, 32.4,\n",
            "       32. , 33.2, 33.1, 29.1, 35.1, 45.4, 35.4, 46. , 50. , 32.2, 22. ,\n",
            "       20.1, 23.2, 22.3, 24.8, 28.5, 37.3, 27.9, 23.9, 21.7, 28.6, 27.1,\n",
            "       20.3, 22.5, 29. , 24.8, 22. , 26.4, 33.1, 36.1, 28.4, 33.4, 28.2,\n",
            "       22.8, 20.3, 16.1, 22.1, 19.4, 21.6, 23.8, 16.2, 17.8, 19.8, 23.1,\n",
            "       21. , 23.8, 23.1, 20.4, 18.5, 25. , 24.6, 23. , 22.2, 19.3, 22.6,\n",
            "       19.8, 17.1, 19.4, 22.2, 20.7, 21.1, 19.5, 18.5, 20.6, 19. , 18.7,\n",
            "       32.7, 16.5, 23.9, 31.2, 17.5, 17.2, 23.1, 24.5, 26.6, 22.9, 24.1,\n",
            "       18.6, 30.1, 18.2, 20.6, 17.8, 21.7, 22.7, 22.6, 25. , 19.9, 20.8,\n",
            "       16.8, 21.9, 27.5, 21.9, 23.1, 50. , 50. , 50. , 50. , 50. , 13.8,\n",
            "       13.8, 15. , 13.9, 13.3, 13.1, 10.2, 10.4, 10.9, 11.3, 12.3,  8.8,\n",
            "        7.2, 10.5,  7.4, 10.2, 11.5, 15.1, 23.2,  9.7, 13.8, 12.7, 13.1,\n",
            "       12.5,  8.5,  5. ,  6.3,  5.6,  7.2, 12.1,  8.3,  8.5,  5. , 11.9,\n",
            "       27.9, 17.2, 27.5, 15. , 17.2, 17.9, 16.3,  7. ,  7.2,  7.5, 10.4,\n",
            "        8.8,  8.4, 16.7, 14.2, 20.8, 13.4, 11.7,  8.3, 10.2, 10.9, 11. ,\n",
            "        9.5, 14.5, 14.1, 16.1, 14.3, 11.7, 13.4,  9.6,  8.7,  8.4, 12.8,\n",
            "       10.5, 17.1, 18.4, 15.4, 10.8, 11.8, 14.9, 12.6, 14.1, 13. , 13.4,\n",
            "       15.2, 16.1, 17.8, 14.9, 14.1, 12.7, 13.5, 14.9, 20. , 16.4, 17.7,\n",
            "       19.5, 20.2, 21.4, 19.9, 19. , 19.1, 19.1, 20.1, 19.9, 19.6, 23.2,\n",
            "       29.8, 13.8, 13.3, 16.7, 12. , 14.6, 21.4, 23. , 23.7, 25. , 21.8,\n",
            "       20.6, 21.2, 19.1, 20.6, 15.2,  7. ,  8.1, 13.6, 20.1, 21.8, 24.5,\n",
            "       23.1, 19.7, 18.3, 21.2, 17.5, 16.8, 22.4, 20.6, 23.9, 22. , 11.9]), 'feature_names': array(['CRIM', 'ZN', 'INDUS', 'CHAS', 'NOX', 'RM', 'AGE', 'DIS', 'RAD',\n",
            "       'TAX', 'PTRATIO', 'B', 'LSTAT'], dtype='<U7'), 'DESCR': \".. _boston_dataset:\\n\\nBoston house prices dataset\\n---------------------------\\n\\n**Data Set Characteristics:**  \\n\\n    :Number of Instances: 506 \\n\\n    :Number of Attributes: 13 numeric/categorical predictive. Median Value (attribute 14) is usually the target.\\n\\n    :Attribute Information (in order):\\n        - CRIM     per capita crime rate by town\\n        - ZN       proportion of residential land zoned for lots over 25,000 sq.ft.\\n        - INDUS    proportion of non-retail business acres per town\\n        - CHAS     Charles River dummy variable (= 1 if tract bounds river; 0 otherwise)\\n        - NOX      nitric oxides concentration (parts per 10 million)\\n        - RM       average number of rooms per dwelling\\n        - AGE      proportion of owner-occupied units built prior to 1940\\n        - DIS      weighted distances to five Boston employment centres\\n        - RAD      index of accessibility to radial highways\\n        - TAX      full-value property-tax rate per $10,000\\n        - PTRATIO  pupil-teacher ratio by town\\n        - B        1000(Bk - 0.63)^2 where Bk is the proportion of blacks by town\\n        - LSTAT    % lower status of the population\\n        - MEDV     Median value of owner-occupied homes in $1000's\\n\\n    :Missing Attribute Values: None\\n\\n    :Creator: Harrison, D. and Rubinfeld, D.L.\\n\\nThis is a copy of UCI ML housing dataset.\\nhttps://archive.ics.uci.edu/ml/machine-learning-databases/housing/\\n\\n\\nThis dataset was taken from the StatLib library which is maintained at Carnegie Mellon University.\\n\\nThe Boston house-price data of Harrison, D. and Rubinfeld, D.L. 'Hedonic\\nprices and the demand for clean air', J. Environ. Economics & Management,\\nvol.5, 81-102, 1978.   Used in Belsley, Kuh & Welsch, 'Regression diagnostics\\n...', Wiley, 1980.   N.B. Various transformations are used in the table on\\npages 244-261 of the latter.\\n\\nThe Boston house-price data has been used in many machine learning papers that address regression\\nproblems.   \\n     \\n.. topic:: References\\n\\n   - Belsley, Kuh & Welsch, 'Regression diagnostics: Identifying Influential Data and Sources of Collinearity', Wiley, 1980. 244-261.\\n   - Quinlan,R. (1993). Combining Instance-Based and Model-Based Learning. In Proceedings on the Tenth International Conference of Machine Learning, 236-243, University of Massachusetts, Amherst. Morgan Kaufmann.\\n\", 'filename': '/usr/local/lib/python3.6/dist-packages/sklearn/datasets/data/boston_house_prices.csv'}\n"
          ],
          "name": "stdout"
        }
      ]
    },
    {
      "cell_type": "code",
      "metadata": {
        "id": "tybrNntybsdN",
        "colab_type": "code",
        "colab": {
          "base_uri": "https://localhost:8080/",
          "height": 224
        },
        "outputId": "4b8f5512-a69f-4215-e171-41214d1e64f6"
      },
      "source": [
        "features_df=pd.DataFrame(np.array(boston.data),columns=[boston.feature_names])\n",
        "features_df.head()"
      ],
      "execution_count": 4,
      "outputs": [
        {
          "output_type": "execute_result",
          "data": {
            "text/html": [
              "<div>\n",
              "<style scoped>\n",
              "    .dataframe tbody tr th:only-of-type {\n",
              "        vertical-align: middle;\n",
              "    }\n",
              "\n",
              "    .dataframe tbody tr th {\n",
              "        vertical-align: top;\n",
              "    }\n",
              "\n",
              "    .dataframe thead tr th {\n",
              "        text-align: left;\n",
              "    }\n",
              "</style>\n",
              "<table border=\"1\" class=\"dataframe\">\n",
              "  <thead>\n",
              "    <tr>\n",
              "      <th></th>\n",
              "      <th>CRIM</th>\n",
              "      <th>ZN</th>\n",
              "      <th>INDUS</th>\n",
              "      <th>CHAS</th>\n",
              "      <th>NOX</th>\n",
              "      <th>RM</th>\n",
              "      <th>AGE</th>\n",
              "      <th>DIS</th>\n",
              "      <th>RAD</th>\n",
              "      <th>TAX</th>\n",
              "      <th>PTRATIO</th>\n",
              "      <th>B</th>\n",
              "      <th>LSTAT</th>\n",
              "    </tr>\n",
              "  </thead>\n",
              "  <tbody>\n",
              "    <tr>\n",
              "      <th>0</th>\n",
              "      <td>0.00632</td>\n",
              "      <td>18.0</td>\n",
              "      <td>2.31</td>\n",
              "      <td>0.0</td>\n",
              "      <td>0.538</td>\n",
              "      <td>6.575</td>\n",
              "      <td>65.2</td>\n",
              "      <td>4.0900</td>\n",
              "      <td>1.0</td>\n",
              "      <td>296.0</td>\n",
              "      <td>15.3</td>\n",
              "      <td>396.90</td>\n",
              "      <td>4.98</td>\n",
              "    </tr>\n",
              "    <tr>\n",
              "      <th>1</th>\n",
              "      <td>0.02731</td>\n",
              "      <td>0.0</td>\n",
              "      <td>7.07</td>\n",
              "      <td>0.0</td>\n",
              "      <td>0.469</td>\n",
              "      <td>6.421</td>\n",
              "      <td>78.9</td>\n",
              "      <td>4.9671</td>\n",
              "      <td>2.0</td>\n",
              "      <td>242.0</td>\n",
              "      <td>17.8</td>\n",
              "      <td>396.90</td>\n",
              "      <td>9.14</td>\n",
              "    </tr>\n",
              "    <tr>\n",
              "      <th>2</th>\n",
              "      <td>0.02729</td>\n",
              "      <td>0.0</td>\n",
              "      <td>7.07</td>\n",
              "      <td>0.0</td>\n",
              "      <td>0.469</td>\n",
              "      <td>7.185</td>\n",
              "      <td>61.1</td>\n",
              "      <td>4.9671</td>\n",
              "      <td>2.0</td>\n",
              "      <td>242.0</td>\n",
              "      <td>17.8</td>\n",
              "      <td>392.83</td>\n",
              "      <td>4.03</td>\n",
              "    </tr>\n",
              "    <tr>\n",
              "      <th>3</th>\n",
              "      <td>0.03237</td>\n",
              "      <td>0.0</td>\n",
              "      <td>2.18</td>\n",
              "      <td>0.0</td>\n",
              "      <td>0.458</td>\n",
              "      <td>6.998</td>\n",
              "      <td>45.8</td>\n",
              "      <td>6.0622</td>\n",
              "      <td>3.0</td>\n",
              "      <td>222.0</td>\n",
              "      <td>18.7</td>\n",
              "      <td>394.63</td>\n",
              "      <td>2.94</td>\n",
              "    </tr>\n",
              "    <tr>\n",
              "      <th>4</th>\n",
              "      <td>0.06905</td>\n",
              "      <td>0.0</td>\n",
              "      <td>2.18</td>\n",
              "      <td>0.0</td>\n",
              "      <td>0.458</td>\n",
              "      <td>7.147</td>\n",
              "      <td>54.2</td>\n",
              "      <td>6.0622</td>\n",
              "      <td>3.0</td>\n",
              "      <td>222.0</td>\n",
              "      <td>18.7</td>\n",
              "      <td>396.90</td>\n",
              "      <td>5.33</td>\n",
              "    </tr>\n",
              "  </tbody>\n",
              "</table>\n",
              "</div>"
            ],
            "text/plain": [
              "      CRIM    ZN INDUS CHAS    NOX  ...  RAD    TAX PTRATIO       B LSTAT\n",
              "0  0.00632  18.0  2.31  0.0  0.538  ...  1.0  296.0    15.3  396.90  4.98\n",
              "1  0.02731   0.0  7.07  0.0  0.469  ...  2.0  242.0    17.8  396.90  9.14\n",
              "2  0.02729   0.0  7.07  0.0  0.469  ...  2.0  242.0    17.8  392.83  4.03\n",
              "3  0.03237   0.0  2.18  0.0  0.458  ...  3.0  222.0    18.7  394.63  2.94\n",
              "4  0.06905   0.0  2.18  0.0  0.458  ...  3.0  222.0    18.7  396.90  5.33\n",
              "\n",
              "[5 rows x 13 columns]"
            ]
          },
          "metadata": {
            "tags": []
          },
          "execution_count": 4
        }
      ]
    },
    {
      "cell_type": "code",
      "metadata": {
        "id": "IalCjgCscaRy",
        "colab_type": "code",
        "colab": {
          "base_uri": "https://localhost:8080/",
          "height": 35
        },
        "outputId": "fa4feb6d-9cd3-482c-bc0d-bc7065ddedd2"
      },
      "source": [
        "features_df.shape"
      ],
      "execution_count": 5,
      "outputs": [
        {
          "output_type": "execute_result",
          "data": {
            "text/plain": [
              "(506, 13)"
            ]
          },
          "metadata": {
            "tags": []
          },
          "execution_count": 5
        }
      ]
    },
    {
      "cell_type": "code",
      "metadata": {
        "id": "Cs74QoSxci0x",
        "colab_type": "code",
        "colab": {
          "base_uri": "https://localhost:8080/",
          "height": 317
        },
        "outputId": "a939b1ca-2669-4ac2-b55a-a3b408511b26"
      },
      "source": [
        "features_df.describe()"
      ],
      "execution_count": 6,
      "outputs": [
        {
          "output_type": "execute_result",
          "data": {
            "text/html": [
              "<div>\n",
              "<style scoped>\n",
              "    .dataframe tbody tr th:only-of-type {\n",
              "        vertical-align: middle;\n",
              "    }\n",
              "\n",
              "    .dataframe tbody tr th {\n",
              "        vertical-align: top;\n",
              "    }\n",
              "\n",
              "    .dataframe thead tr th {\n",
              "        text-align: left;\n",
              "    }\n",
              "</style>\n",
              "<table border=\"1\" class=\"dataframe\">\n",
              "  <thead>\n",
              "    <tr>\n",
              "      <th></th>\n",
              "      <th>CRIM</th>\n",
              "      <th>ZN</th>\n",
              "      <th>INDUS</th>\n",
              "      <th>CHAS</th>\n",
              "      <th>NOX</th>\n",
              "      <th>RM</th>\n",
              "      <th>AGE</th>\n",
              "      <th>DIS</th>\n",
              "      <th>RAD</th>\n",
              "      <th>TAX</th>\n",
              "      <th>PTRATIO</th>\n",
              "      <th>B</th>\n",
              "      <th>LSTAT</th>\n",
              "    </tr>\n",
              "  </thead>\n",
              "  <tbody>\n",
              "    <tr>\n",
              "      <th>count</th>\n",
              "      <td>506.000000</td>\n",
              "      <td>506.000000</td>\n",
              "      <td>506.000000</td>\n",
              "      <td>506.000000</td>\n",
              "      <td>506.000000</td>\n",
              "      <td>506.000000</td>\n",
              "      <td>506.000000</td>\n",
              "      <td>506.000000</td>\n",
              "      <td>506.000000</td>\n",
              "      <td>506.000000</td>\n",
              "      <td>506.000000</td>\n",
              "      <td>506.000000</td>\n",
              "      <td>506.000000</td>\n",
              "    </tr>\n",
              "    <tr>\n",
              "      <th>mean</th>\n",
              "      <td>3.613524</td>\n",
              "      <td>11.363636</td>\n",
              "      <td>11.136779</td>\n",
              "      <td>0.069170</td>\n",
              "      <td>0.554695</td>\n",
              "      <td>6.284634</td>\n",
              "      <td>68.574901</td>\n",
              "      <td>3.795043</td>\n",
              "      <td>9.549407</td>\n",
              "      <td>408.237154</td>\n",
              "      <td>18.455534</td>\n",
              "      <td>356.674032</td>\n",
              "      <td>12.653063</td>\n",
              "    </tr>\n",
              "    <tr>\n",
              "      <th>std</th>\n",
              "      <td>8.601545</td>\n",
              "      <td>23.322453</td>\n",
              "      <td>6.860353</td>\n",
              "      <td>0.253994</td>\n",
              "      <td>0.115878</td>\n",
              "      <td>0.702617</td>\n",
              "      <td>28.148861</td>\n",
              "      <td>2.105710</td>\n",
              "      <td>8.707259</td>\n",
              "      <td>168.537116</td>\n",
              "      <td>2.164946</td>\n",
              "      <td>91.294864</td>\n",
              "      <td>7.141062</td>\n",
              "    </tr>\n",
              "    <tr>\n",
              "      <th>min</th>\n",
              "      <td>0.006320</td>\n",
              "      <td>0.000000</td>\n",
              "      <td>0.460000</td>\n",
              "      <td>0.000000</td>\n",
              "      <td>0.385000</td>\n",
              "      <td>3.561000</td>\n",
              "      <td>2.900000</td>\n",
              "      <td>1.129600</td>\n",
              "      <td>1.000000</td>\n",
              "      <td>187.000000</td>\n",
              "      <td>12.600000</td>\n",
              "      <td>0.320000</td>\n",
              "      <td>1.730000</td>\n",
              "    </tr>\n",
              "    <tr>\n",
              "      <th>25%</th>\n",
              "      <td>0.082045</td>\n",
              "      <td>0.000000</td>\n",
              "      <td>5.190000</td>\n",
              "      <td>0.000000</td>\n",
              "      <td>0.449000</td>\n",
              "      <td>5.885500</td>\n",
              "      <td>45.025000</td>\n",
              "      <td>2.100175</td>\n",
              "      <td>4.000000</td>\n",
              "      <td>279.000000</td>\n",
              "      <td>17.400000</td>\n",
              "      <td>375.377500</td>\n",
              "      <td>6.950000</td>\n",
              "    </tr>\n",
              "    <tr>\n",
              "      <th>50%</th>\n",
              "      <td>0.256510</td>\n",
              "      <td>0.000000</td>\n",
              "      <td>9.690000</td>\n",
              "      <td>0.000000</td>\n",
              "      <td>0.538000</td>\n",
              "      <td>6.208500</td>\n",
              "      <td>77.500000</td>\n",
              "      <td>3.207450</td>\n",
              "      <td>5.000000</td>\n",
              "      <td>330.000000</td>\n",
              "      <td>19.050000</td>\n",
              "      <td>391.440000</td>\n",
              "      <td>11.360000</td>\n",
              "    </tr>\n",
              "    <tr>\n",
              "      <th>75%</th>\n",
              "      <td>3.677083</td>\n",
              "      <td>12.500000</td>\n",
              "      <td>18.100000</td>\n",
              "      <td>0.000000</td>\n",
              "      <td>0.624000</td>\n",
              "      <td>6.623500</td>\n",
              "      <td>94.075000</td>\n",
              "      <td>5.188425</td>\n",
              "      <td>24.000000</td>\n",
              "      <td>666.000000</td>\n",
              "      <td>20.200000</td>\n",
              "      <td>396.225000</td>\n",
              "      <td>16.955000</td>\n",
              "    </tr>\n",
              "    <tr>\n",
              "      <th>max</th>\n",
              "      <td>88.976200</td>\n",
              "      <td>100.000000</td>\n",
              "      <td>27.740000</td>\n",
              "      <td>1.000000</td>\n",
              "      <td>0.871000</td>\n",
              "      <td>8.780000</td>\n",
              "      <td>100.000000</td>\n",
              "      <td>12.126500</td>\n",
              "      <td>24.000000</td>\n",
              "      <td>711.000000</td>\n",
              "      <td>22.000000</td>\n",
              "      <td>396.900000</td>\n",
              "      <td>37.970000</td>\n",
              "    </tr>\n",
              "  </tbody>\n",
              "</table>\n",
              "</div>"
            ],
            "text/plain": [
              "             CRIM          ZN       INDUS  ...     PTRATIO           B       LSTAT\n",
              "count  506.000000  506.000000  506.000000  ...  506.000000  506.000000  506.000000\n",
              "mean     3.613524   11.363636   11.136779  ...   18.455534  356.674032   12.653063\n",
              "std      8.601545   23.322453    6.860353  ...    2.164946   91.294864    7.141062\n",
              "min      0.006320    0.000000    0.460000  ...   12.600000    0.320000    1.730000\n",
              "25%      0.082045    0.000000    5.190000  ...   17.400000  375.377500    6.950000\n",
              "50%      0.256510    0.000000    9.690000  ...   19.050000  391.440000   11.360000\n",
              "75%      3.677083   12.500000   18.100000  ...   20.200000  396.225000   16.955000\n",
              "max     88.976200  100.000000   27.740000  ...   22.000000  396.900000   37.970000\n",
              "\n",
              "[8 rows x 13 columns]"
            ]
          },
          "metadata": {
            "tags": []
          },
          "execution_count": 6
        }
      ]
    },
    {
      "cell_type": "code",
      "metadata": {
        "id": "jZ-FG26wcqyc",
        "colab_type": "code",
        "colab": {
          "base_uri": "https://localhost:8080/",
          "height": 472
        },
        "outputId": "e26b5952-bde8-4685-ecd3-8434736a6b1d"
      },
      "source": [
        "features_df.corr()"
      ],
      "execution_count": 7,
      "outputs": [
        {
          "output_type": "execute_result",
          "data": {
            "text/html": [
              "<div>\n",
              "<style scoped>\n",
              "    .dataframe tbody tr th:only-of-type {\n",
              "        vertical-align: middle;\n",
              "    }\n",
              "\n",
              "    .dataframe tbody tr th {\n",
              "        vertical-align: top;\n",
              "    }\n",
              "\n",
              "    .dataframe thead tr th {\n",
              "        text-align: left;\n",
              "    }\n",
              "</style>\n",
              "<table border=\"1\" class=\"dataframe\">\n",
              "  <thead>\n",
              "    <tr>\n",
              "      <th></th>\n",
              "      <th>CRIM</th>\n",
              "      <th>ZN</th>\n",
              "      <th>INDUS</th>\n",
              "      <th>CHAS</th>\n",
              "      <th>NOX</th>\n",
              "      <th>RM</th>\n",
              "      <th>AGE</th>\n",
              "      <th>DIS</th>\n",
              "      <th>RAD</th>\n",
              "      <th>TAX</th>\n",
              "      <th>PTRATIO</th>\n",
              "      <th>B</th>\n",
              "      <th>LSTAT</th>\n",
              "    </tr>\n",
              "  </thead>\n",
              "  <tbody>\n",
              "    <tr>\n",
              "      <th>CRIM</th>\n",
              "      <td>1.000000</td>\n",
              "      <td>-0.200469</td>\n",
              "      <td>0.406583</td>\n",
              "      <td>-0.055892</td>\n",
              "      <td>0.420972</td>\n",
              "      <td>-0.219247</td>\n",
              "      <td>0.352734</td>\n",
              "      <td>-0.379670</td>\n",
              "      <td>0.625505</td>\n",
              "      <td>0.582764</td>\n",
              "      <td>0.289946</td>\n",
              "      <td>-0.385064</td>\n",
              "      <td>0.455621</td>\n",
              "    </tr>\n",
              "    <tr>\n",
              "      <th>ZN</th>\n",
              "      <td>-0.200469</td>\n",
              "      <td>1.000000</td>\n",
              "      <td>-0.533828</td>\n",
              "      <td>-0.042697</td>\n",
              "      <td>-0.516604</td>\n",
              "      <td>0.311991</td>\n",
              "      <td>-0.569537</td>\n",
              "      <td>0.664408</td>\n",
              "      <td>-0.311948</td>\n",
              "      <td>-0.314563</td>\n",
              "      <td>-0.391679</td>\n",
              "      <td>0.175520</td>\n",
              "      <td>-0.412995</td>\n",
              "    </tr>\n",
              "    <tr>\n",
              "      <th>INDUS</th>\n",
              "      <td>0.406583</td>\n",
              "      <td>-0.533828</td>\n",
              "      <td>1.000000</td>\n",
              "      <td>0.062938</td>\n",
              "      <td>0.763651</td>\n",
              "      <td>-0.391676</td>\n",
              "      <td>0.644779</td>\n",
              "      <td>-0.708027</td>\n",
              "      <td>0.595129</td>\n",
              "      <td>0.720760</td>\n",
              "      <td>0.383248</td>\n",
              "      <td>-0.356977</td>\n",
              "      <td>0.603800</td>\n",
              "    </tr>\n",
              "    <tr>\n",
              "      <th>CHAS</th>\n",
              "      <td>-0.055892</td>\n",
              "      <td>-0.042697</td>\n",
              "      <td>0.062938</td>\n",
              "      <td>1.000000</td>\n",
              "      <td>0.091203</td>\n",
              "      <td>0.091251</td>\n",
              "      <td>0.086518</td>\n",
              "      <td>-0.099176</td>\n",
              "      <td>-0.007368</td>\n",
              "      <td>-0.035587</td>\n",
              "      <td>-0.121515</td>\n",
              "      <td>0.048788</td>\n",
              "      <td>-0.053929</td>\n",
              "    </tr>\n",
              "    <tr>\n",
              "      <th>NOX</th>\n",
              "      <td>0.420972</td>\n",
              "      <td>-0.516604</td>\n",
              "      <td>0.763651</td>\n",
              "      <td>0.091203</td>\n",
              "      <td>1.000000</td>\n",
              "      <td>-0.302188</td>\n",
              "      <td>0.731470</td>\n",
              "      <td>-0.769230</td>\n",
              "      <td>0.611441</td>\n",
              "      <td>0.668023</td>\n",
              "      <td>0.188933</td>\n",
              "      <td>-0.380051</td>\n",
              "      <td>0.590879</td>\n",
              "    </tr>\n",
              "    <tr>\n",
              "      <th>RM</th>\n",
              "      <td>-0.219247</td>\n",
              "      <td>0.311991</td>\n",
              "      <td>-0.391676</td>\n",
              "      <td>0.091251</td>\n",
              "      <td>-0.302188</td>\n",
              "      <td>1.000000</td>\n",
              "      <td>-0.240265</td>\n",
              "      <td>0.205246</td>\n",
              "      <td>-0.209847</td>\n",
              "      <td>-0.292048</td>\n",
              "      <td>-0.355501</td>\n",
              "      <td>0.128069</td>\n",
              "      <td>-0.613808</td>\n",
              "    </tr>\n",
              "    <tr>\n",
              "      <th>AGE</th>\n",
              "      <td>0.352734</td>\n",
              "      <td>-0.569537</td>\n",
              "      <td>0.644779</td>\n",
              "      <td>0.086518</td>\n",
              "      <td>0.731470</td>\n",
              "      <td>-0.240265</td>\n",
              "      <td>1.000000</td>\n",
              "      <td>-0.747881</td>\n",
              "      <td>0.456022</td>\n",
              "      <td>0.506456</td>\n",
              "      <td>0.261515</td>\n",
              "      <td>-0.273534</td>\n",
              "      <td>0.602339</td>\n",
              "    </tr>\n",
              "    <tr>\n",
              "      <th>DIS</th>\n",
              "      <td>-0.379670</td>\n",
              "      <td>0.664408</td>\n",
              "      <td>-0.708027</td>\n",
              "      <td>-0.099176</td>\n",
              "      <td>-0.769230</td>\n",
              "      <td>0.205246</td>\n",
              "      <td>-0.747881</td>\n",
              "      <td>1.000000</td>\n",
              "      <td>-0.494588</td>\n",
              "      <td>-0.534432</td>\n",
              "      <td>-0.232471</td>\n",
              "      <td>0.291512</td>\n",
              "      <td>-0.496996</td>\n",
              "    </tr>\n",
              "    <tr>\n",
              "      <th>RAD</th>\n",
              "      <td>0.625505</td>\n",
              "      <td>-0.311948</td>\n",
              "      <td>0.595129</td>\n",
              "      <td>-0.007368</td>\n",
              "      <td>0.611441</td>\n",
              "      <td>-0.209847</td>\n",
              "      <td>0.456022</td>\n",
              "      <td>-0.494588</td>\n",
              "      <td>1.000000</td>\n",
              "      <td>0.910228</td>\n",
              "      <td>0.464741</td>\n",
              "      <td>-0.444413</td>\n",
              "      <td>0.488676</td>\n",
              "    </tr>\n",
              "    <tr>\n",
              "      <th>TAX</th>\n",
              "      <td>0.582764</td>\n",
              "      <td>-0.314563</td>\n",
              "      <td>0.720760</td>\n",
              "      <td>-0.035587</td>\n",
              "      <td>0.668023</td>\n",
              "      <td>-0.292048</td>\n",
              "      <td>0.506456</td>\n",
              "      <td>-0.534432</td>\n",
              "      <td>0.910228</td>\n",
              "      <td>1.000000</td>\n",
              "      <td>0.460853</td>\n",
              "      <td>-0.441808</td>\n",
              "      <td>0.543993</td>\n",
              "    </tr>\n",
              "    <tr>\n",
              "      <th>PTRATIO</th>\n",
              "      <td>0.289946</td>\n",
              "      <td>-0.391679</td>\n",
              "      <td>0.383248</td>\n",
              "      <td>-0.121515</td>\n",
              "      <td>0.188933</td>\n",
              "      <td>-0.355501</td>\n",
              "      <td>0.261515</td>\n",
              "      <td>-0.232471</td>\n",
              "      <td>0.464741</td>\n",
              "      <td>0.460853</td>\n",
              "      <td>1.000000</td>\n",
              "      <td>-0.177383</td>\n",
              "      <td>0.374044</td>\n",
              "    </tr>\n",
              "    <tr>\n",
              "      <th>B</th>\n",
              "      <td>-0.385064</td>\n",
              "      <td>0.175520</td>\n",
              "      <td>-0.356977</td>\n",
              "      <td>0.048788</td>\n",
              "      <td>-0.380051</td>\n",
              "      <td>0.128069</td>\n",
              "      <td>-0.273534</td>\n",
              "      <td>0.291512</td>\n",
              "      <td>-0.444413</td>\n",
              "      <td>-0.441808</td>\n",
              "      <td>-0.177383</td>\n",
              "      <td>1.000000</td>\n",
              "      <td>-0.366087</td>\n",
              "    </tr>\n",
              "    <tr>\n",
              "      <th>LSTAT</th>\n",
              "      <td>0.455621</td>\n",
              "      <td>-0.412995</td>\n",
              "      <td>0.603800</td>\n",
              "      <td>-0.053929</td>\n",
              "      <td>0.590879</td>\n",
              "      <td>-0.613808</td>\n",
              "      <td>0.602339</td>\n",
              "      <td>-0.496996</td>\n",
              "      <td>0.488676</td>\n",
              "      <td>0.543993</td>\n",
              "      <td>0.374044</td>\n",
              "      <td>-0.366087</td>\n",
              "      <td>1.000000</td>\n",
              "    </tr>\n",
              "  </tbody>\n",
              "</table>\n",
              "</div>"
            ],
            "text/plain": [
              "             CRIM        ZN     INDUS  ...   PTRATIO         B     LSTAT\n",
              "CRIM     1.000000 -0.200469  0.406583  ...  0.289946 -0.385064  0.455621\n",
              "ZN      -0.200469  1.000000 -0.533828  ... -0.391679  0.175520 -0.412995\n",
              "INDUS    0.406583 -0.533828  1.000000  ...  0.383248 -0.356977  0.603800\n",
              "CHAS    -0.055892 -0.042697  0.062938  ... -0.121515  0.048788 -0.053929\n",
              "NOX      0.420972 -0.516604  0.763651  ...  0.188933 -0.380051  0.590879\n",
              "RM      -0.219247  0.311991 -0.391676  ... -0.355501  0.128069 -0.613808\n",
              "AGE      0.352734 -0.569537  0.644779  ...  0.261515 -0.273534  0.602339\n",
              "DIS     -0.379670  0.664408 -0.708027  ... -0.232471  0.291512 -0.496996\n",
              "RAD      0.625505 -0.311948  0.595129  ...  0.464741 -0.444413  0.488676\n",
              "TAX      0.582764 -0.314563  0.720760  ...  0.460853 -0.441808  0.543993\n",
              "PTRATIO  0.289946 -0.391679  0.383248  ...  1.000000 -0.177383  0.374044\n",
              "B       -0.385064  0.175520 -0.356977  ... -0.177383  1.000000 -0.366087\n",
              "LSTAT    0.455621 -0.412995  0.603800  ...  0.374044 -0.366087  1.000000\n",
              "\n",
              "[13 rows x 13 columns]"
            ]
          },
          "metadata": {
            "tags": []
          },
          "execution_count": 7
        }
      ]
    },
    {
      "cell_type": "code",
      "metadata": {
        "id": "bsPXSA8-cwxd",
        "colab_type": "code",
        "colab": {
          "base_uri": "https://localhost:8080/",
          "height": 204
        },
        "outputId": "0f0ff1af-4d54-4b33-ebbb-9da794ccfd9e"
      },
      "source": [
        "#Labels\n",
        "labels_df = pd.DataFrame(np.array(boston.target),columns=['labels'])\n",
        "labels_df.head()"
      ],
      "execution_count": 8,
      "outputs": [
        {
          "output_type": "execute_result",
          "data": {
            "text/html": [
              "<div>\n",
              "<style scoped>\n",
              "    .dataframe tbody tr th:only-of-type {\n",
              "        vertical-align: middle;\n",
              "    }\n",
              "\n",
              "    .dataframe tbody tr th {\n",
              "        vertical-align: top;\n",
              "    }\n",
              "\n",
              "    .dataframe thead th {\n",
              "        text-align: right;\n",
              "    }\n",
              "</style>\n",
              "<table border=\"1\" class=\"dataframe\">\n",
              "  <thead>\n",
              "    <tr style=\"text-align: right;\">\n",
              "      <th></th>\n",
              "      <th>labels</th>\n",
              "    </tr>\n",
              "  </thead>\n",
              "  <tbody>\n",
              "    <tr>\n",
              "      <th>0</th>\n",
              "      <td>24.0</td>\n",
              "    </tr>\n",
              "    <tr>\n",
              "      <th>1</th>\n",
              "      <td>21.6</td>\n",
              "    </tr>\n",
              "    <tr>\n",
              "      <th>2</th>\n",
              "      <td>34.7</td>\n",
              "    </tr>\n",
              "    <tr>\n",
              "      <th>3</th>\n",
              "      <td>33.4</td>\n",
              "    </tr>\n",
              "    <tr>\n",
              "      <th>4</th>\n",
              "      <td>36.2</td>\n",
              "    </tr>\n",
              "  </tbody>\n",
              "</table>\n",
              "</div>"
            ],
            "text/plain": [
              "   labels\n",
              "0    24.0\n",
              "1    21.6\n",
              "2    34.7\n",
              "3    33.4\n",
              "4    36.2"
            ]
          },
          "metadata": {
            "tags": []
          },
          "execution_count": 8
        }
      ]
    },
    {
      "cell_type": "code",
      "metadata": {
        "id": "agqT3CjsdEZU",
        "colab_type": "code",
        "colab": {
          "base_uri": "https://localhost:8080/",
          "height": 35
        },
        "outputId": "671af4f8-763f-45ca-a14b-b69b6ad5da46"
      },
      "source": [
        "labels_df.shape"
      ],
      "execution_count": 9,
      "outputs": [
        {
          "output_type": "execute_result",
          "data": {
            "text/plain": [
              "(506, 1)"
            ]
          },
          "metadata": {
            "tags": []
          },
          "execution_count": 9
        }
      ]
    },
    {
      "cell_type": "code",
      "metadata": {
        "id": "Ul8Xui4NdKaU",
        "colab_type": "code",
        "colab": {
          "base_uri": "https://localhost:8080/",
          "height": 224
        },
        "outputId": "92886e24-4938-4aac-a355-cebe0a35c8b5"
      },
      "source": [
        "#Combined Data\n",
        "combined_data=pd.concat([features_df,labels_df],axis=1)\n",
        "\n",
        "combined_data.head()"
      ],
      "execution_count": 34,
      "outputs": [
        {
          "output_type": "execute_result",
          "data": {
            "text/html": [
              "<div>\n",
              "<style scoped>\n",
              "    .dataframe tbody tr th:only-of-type {\n",
              "        vertical-align: middle;\n",
              "    }\n",
              "\n",
              "    .dataframe tbody tr th {\n",
              "        vertical-align: top;\n",
              "    }\n",
              "\n",
              "    .dataframe thead th {\n",
              "        text-align: right;\n",
              "    }\n",
              "</style>\n",
              "<table border=\"1\" class=\"dataframe\">\n",
              "  <thead>\n",
              "    <tr style=\"text-align: right;\">\n",
              "      <th></th>\n",
              "      <th>(CRIM,)</th>\n",
              "      <th>(ZN,)</th>\n",
              "      <th>(INDUS,)</th>\n",
              "      <th>(CHAS,)</th>\n",
              "      <th>(NOX,)</th>\n",
              "      <th>(RM,)</th>\n",
              "      <th>(AGE,)</th>\n",
              "      <th>(DIS,)</th>\n",
              "      <th>(RAD,)</th>\n",
              "      <th>(TAX,)</th>\n",
              "      <th>(PTRATIO,)</th>\n",
              "      <th>(B,)</th>\n",
              "      <th>(LSTAT,)</th>\n",
              "      <th>labels</th>\n",
              "    </tr>\n",
              "  </thead>\n",
              "  <tbody>\n",
              "    <tr>\n",
              "      <th>0</th>\n",
              "      <td>0.00632</td>\n",
              "      <td>18.0</td>\n",
              "      <td>2.31</td>\n",
              "      <td>0.0</td>\n",
              "      <td>0.538</td>\n",
              "      <td>6.575</td>\n",
              "      <td>65.2</td>\n",
              "      <td>4.0900</td>\n",
              "      <td>1.0</td>\n",
              "      <td>296.0</td>\n",
              "      <td>15.3</td>\n",
              "      <td>396.90</td>\n",
              "      <td>4.98</td>\n",
              "      <td>24.0</td>\n",
              "    </tr>\n",
              "    <tr>\n",
              "      <th>1</th>\n",
              "      <td>0.02731</td>\n",
              "      <td>0.0</td>\n",
              "      <td>7.07</td>\n",
              "      <td>0.0</td>\n",
              "      <td>0.469</td>\n",
              "      <td>6.421</td>\n",
              "      <td>78.9</td>\n",
              "      <td>4.9671</td>\n",
              "      <td>2.0</td>\n",
              "      <td>242.0</td>\n",
              "      <td>17.8</td>\n",
              "      <td>396.90</td>\n",
              "      <td>9.14</td>\n",
              "      <td>21.6</td>\n",
              "    </tr>\n",
              "    <tr>\n",
              "      <th>2</th>\n",
              "      <td>0.02729</td>\n",
              "      <td>0.0</td>\n",
              "      <td>7.07</td>\n",
              "      <td>0.0</td>\n",
              "      <td>0.469</td>\n",
              "      <td>7.185</td>\n",
              "      <td>61.1</td>\n",
              "      <td>4.9671</td>\n",
              "      <td>2.0</td>\n",
              "      <td>242.0</td>\n",
              "      <td>17.8</td>\n",
              "      <td>392.83</td>\n",
              "      <td>4.03</td>\n",
              "      <td>34.7</td>\n",
              "    </tr>\n",
              "    <tr>\n",
              "      <th>3</th>\n",
              "      <td>0.03237</td>\n",
              "      <td>0.0</td>\n",
              "      <td>2.18</td>\n",
              "      <td>0.0</td>\n",
              "      <td>0.458</td>\n",
              "      <td>6.998</td>\n",
              "      <td>45.8</td>\n",
              "      <td>6.0622</td>\n",
              "      <td>3.0</td>\n",
              "      <td>222.0</td>\n",
              "      <td>18.7</td>\n",
              "      <td>394.63</td>\n",
              "      <td>2.94</td>\n",
              "      <td>33.4</td>\n",
              "    </tr>\n",
              "    <tr>\n",
              "      <th>4</th>\n",
              "      <td>0.06905</td>\n",
              "      <td>0.0</td>\n",
              "      <td>2.18</td>\n",
              "      <td>0.0</td>\n",
              "      <td>0.458</td>\n",
              "      <td>7.147</td>\n",
              "      <td>54.2</td>\n",
              "      <td>6.0622</td>\n",
              "      <td>3.0</td>\n",
              "      <td>222.0</td>\n",
              "      <td>18.7</td>\n",
              "      <td>396.90</td>\n",
              "      <td>5.33</td>\n",
              "      <td>36.2</td>\n",
              "    </tr>\n",
              "  </tbody>\n",
              "</table>\n",
              "</div>"
            ],
            "text/plain": [
              "   (CRIM,)  (ZN,)  (INDUS,)  (CHAS,)  ...  (PTRATIO,)    (B,)  (LSTAT,)  labels\n",
              "0  0.00632   18.0      2.31      0.0  ...        15.3  396.90      4.98    24.0\n",
              "1  0.02731    0.0      7.07      0.0  ...        17.8  396.90      9.14    21.6\n",
              "2  0.02729    0.0      7.07      0.0  ...        17.8  392.83      4.03    34.7\n",
              "3  0.03237    0.0      2.18      0.0  ...        18.7  394.63      2.94    33.4\n",
              "4  0.06905    0.0      2.18      0.0  ...        18.7  396.90      5.33    36.2\n",
              "\n",
              "[5 rows x 14 columns]"
            ]
          },
          "metadata": {
            "tags": []
          },
          "execution_count": 34
        }
      ]
    },
    {
      "cell_type": "code",
      "metadata": {
        "id": "Sl2HKn9YifM0",
        "colab_type": "code",
        "colab": {
          "base_uri": "https://localhost:8080/",
          "height": 35
        },
        "outputId": "7d979017-d938-4fdc-f995-41b69326ea2f"
      },
      "source": [
        "combined_data[('CRIM',)].corr(combined_data['labels'])"
      ],
      "execution_count": 46,
      "outputs": [
        {
          "output_type": "execute_result",
          "data": {
            "text/plain": [
              "-0.38830460858681143"
            ]
          },
          "metadata": {
            "tags": []
          },
          "execution_count": 46
        }
      ]
    },
    {
      "cell_type": "code",
      "metadata": {
        "id": "58bcY8WjigDa",
        "colab_type": "code",
        "colab": {}
      },
      "source": [
        "from sklearn.model_selection import train_test_split"
      ],
      "execution_count": 0,
      "outputs": []
    },
    {
      "cell_type": "code",
      "metadata": {
        "id": "bzkIXUTVdeYi",
        "colab_type": "code",
        "colab": {}
      },
      "source": [
        "X_train,X_test,y_train,y_test = train_test_split(features_df,labels_df,test_size=0.2,random_state=101)\n"
      ],
      "execution_count": 0,
      "outputs": []
    },
    {
      "cell_type": "code",
      "metadata": {
        "id": "ovdnsN0rdvUQ",
        "colab_type": "code",
        "colab": {
          "base_uri": "https://localhost:8080/",
          "height": 35
        },
        "outputId": "d72ca913-9328-4bd4-8262-1811aa58b57c"
      },
      "source": [
        "print(X_train.shape)"
      ],
      "execution_count": 50,
      "outputs": [
        {
          "output_type": "stream",
          "text": [
            "(404, 13)\n"
          ],
          "name": "stdout"
        }
      ]
    },
    {
      "cell_type": "code",
      "metadata": {
        "id": "KNORucaKnhsk",
        "colab_type": "code",
        "colab": {
          "base_uri": "https://localhost:8080/",
          "height": 107
        },
        "outputId": "bde3fec4-83be-4943-c8bd-19de413c5777"
      },
      "source": [
        "print(type(X_train))\n",
        "print(y_train.shape)\n",
        "print(type(y_train))\n",
        "print(type(X_test))\n",
        "print(y_test.shape)"
      ],
      "execution_count": 54,
      "outputs": [
        {
          "output_type": "stream",
          "text": [
            "<class 'pandas.core.frame.DataFrame'>\n",
            "(404, 1)\n",
            "<class 'pandas.core.frame.DataFrame'>\n",
            "<class 'pandas.core.frame.DataFrame'>\n",
            "(102, 1)\n"
          ],
          "name": "stdout"
        }
      ]
    },
    {
      "cell_type": "code",
      "metadata": {
        "id": "YqFrQLtfnlFB",
        "colab_type": "code",
        "colab": {}
      },
      "source": [
        "# Normalize Data\n",
        "from sklearn.preprocessing import StandardScaler"
      ],
      "execution_count": 0,
      "outputs": []
    },
    {
      "cell_type": "code",
      "metadata": {
        "id": "887QBJgEoHRr",
        "colab_type": "code",
        "colab": {
          "base_uri": "https://localhost:8080/",
          "height": 35
        },
        "outputId": "cb1a98e2-71f2-4518-a722-740ae5e54b35"
      },
      "source": [
        "#Define the preprocessing method and fit training data to it\n",
        "scaler=StandardScaler()\n",
        "scaler.fit(X_train)"
      ],
      "execution_count": 56,
      "outputs": [
        {
          "output_type": "execute_result",
          "data": {
            "text/plain": [
              "StandardScaler(copy=True, with_mean=True, with_std=True)"
            ]
          },
          "metadata": {
            "tags": []
          },
          "execution_count": 56
        }
      ]
    },
    {
      "cell_type": "code",
      "metadata": {
        "id": "zsE6aBAdoVoj",
        "colab_type": "code",
        "colab": {}
      },
      "source": [
        "# Make X_train to be the Scaled Version of Data\n",
        "#This process scales all the values in all 6 columns and replace them with new values\n",
        "X_train=pd.DataFrame(data=scaler.transform(X_train),columns=X_train.columns,index=X_train.index)"
      ],
      "execution_count": 0,
      "outputs": []
    },
    {
      "cell_type": "code",
      "metadata": {
        "id": "TSxfsnSWo-YH",
        "colab_type": "code",
        "colab": {
          "base_uri": "https://localhost:8080/",
          "height": 1000
        },
        "outputId": "8333adc2-8b19-4480-d9f0-b605a03e9e5a"
      },
      "source": [
        "print(X_train)"
      ],
      "execution_count": 58,
      "outputs": [
        {
          "output_type": "stream",
          "text": [
            "         CRIM        ZN     INDUS  ...   PTRATIO         B     LSTAT\n",
            "288 -0.414619  1.844475 -0.854602  ... -0.853362  0.433923 -0.736065\n",
            "72  -0.408896 -0.497137 -0.054399  ...  0.357624  0.368614 -1.040342\n",
            "471  0.084890 -0.497137  1.008165  ...  0.823387  0.416805  0.034870\n",
            "176 -0.411576 -0.497137 -1.039712  ... -0.853362  0.393909 -0.368883\n",
            "320 -0.399393 -0.497137 -0.554343  ...  0.543929  0.433923 -0.794579\n",
            "55  -0.418721  3.517055 -1.452203  ... -0.247869  0.423347 -1.144206\n",
            "224 -0.380910 -0.497137 -0.726336  ... -0.480751  0.304721 -1.242219\n",
            "57  -0.418570  3.963076 -1.437627  ... -1.552008  0.390311 -1.270013\n",
            "312 -0.387621 -0.497137 -0.187037  ... -0.014987  0.427381 -0.133360\n",
            "233 -0.378891 -0.497137 -0.726336  ... -0.480751  0.238213 -1.270013\n",
            "43  -0.400424 -0.497137 -0.622849  ... -0.247869  0.407320 -0.759470\n",
            "36  -0.408171 -0.497137 -0.761317  ...  0.357624  0.223057 -0.178710\n",
            "341 -0.418734  1.063938 -1.408476  ... -1.365702  0.410373 -1.044731\n",
            "91  -0.415442 -0.497137 -1.132996  ... -0.294446  0.397398 -0.648292\n",
            "298 -0.412272  2.625012 -1.303531  ... -1.691737  0.121440 -1.120800\n",
            "194 -0.418561  2.178991 -1.202959  ... -1.319126  0.213681 -1.207110\n",
            "168 -0.132555 -0.497137  1.223885  ... -1.738313 -0.654315 -0.224059\n",
            "201 -0.416051  3.182539 -1.334140  ... -1.738313  0.399797 -0.760933\n",
            "450  0.420102 -0.497137  1.008165  ...  0.823387 -3.890029  0.703403\n",
            "315 -0.388638 -0.497137 -0.187037  ... -0.014987  0.428690 -0.165544\n",
            "255 -0.415923  3.071033 -1.099472  ... -0.946515  0.415170 -0.494690\n",
            "274 -0.413300  1.286948 -0.695727  ... -0.387598  0.433923 -1.331454\n",
            "56  -0.417790  3.294044 -1.522166  ... -0.527328  0.433923 -1.003770\n",
            "480  0.308289 -0.497137  1.008165  ...  0.823387  0.433923 -0.276722\n",
            "427  4.291574 -0.497137  1.008165  ...  0.823387 -3.688322  0.276244\n",
            "388  1.372949 -0.497137  1.008165  ...  0.823387  0.172467  2.631471\n",
            "156 -0.114254 -0.497137  1.223885  ... -1.738313 -2.927176  0.513230\n",
            "53  -0.414130  0.439508 -0.807960  ... -0.760209  0.433923 -0.614646\n",
            "311 -0.321472 -0.497137 -0.187037  ... -0.014987  0.433923 -0.973050\n",
            "189 -0.409890  1.509959 -1.128624  ... -1.505431  0.433923 -1.059360\n",
            "..        ...       ...       ...  ...       ...       ...       ...\n",
            "478  0.859904 -0.497137  1.008165  ...  0.823387  0.246390  0.789713\n",
            "413  3.164808 -0.497137  1.008165  ...  0.823387 -1.593291  1.089602\n",
            "371  0.734705 -0.497137  1.008165  ...  0.823387  0.098653 -0.453730\n",
            "136 -0.379996 -0.497137  1.560582  ...  1.289151  0.230580  0.624408\n",
            "111 -0.407745 -0.497137 -0.171004  ... -0.294446  0.419640 -0.361569\n",
            "339 -0.413484 -0.497137 -0.873550  ...  0.823387  0.433923 -0.423010\n",
            "49  -0.392866 -0.497137 -0.622849  ... -0.247869  0.433923  0.522007\n",
            "498 -0.390445 -0.497137 -0.217646  ...  0.357624  0.433923  0.042184\n",
            "477  1.459238 -0.497137  1.008165  ...  0.823387 -0.083102  1.796170\n",
            "396  0.314299 -0.497137  1.008165  ...  0.823387  0.433923  0.985738\n",
            "5   -0.416627 -0.497137 -1.312277  ...  0.124742  0.403613 -1.085691\n",
            "110 -0.406858 -0.497137 -0.382351  ...  1.149422  0.396744  0.053887\n",
            "192 -0.409522  1.509959 -1.128624  ... -1.505431  0.364034 -1.428004\n",
            "220 -0.375560 -0.497137 -0.726336  ... -0.480751  0.377227 -0.427398\n",
            "316 -0.380542 -0.497137 -0.187037  ... -0.014987  0.366324  0.833599\n",
            "245 -0.396424  0.484110 -0.775893  ...  0.311047  0.349206  0.852616\n",
            "424  0.679634 -0.497137  1.008165  ...  0.823387 -3.853722  0.662443\n",
            "501 -0.412526 -0.497137  0.108848  ...  1.195998  0.380389 -0.433250\n",
            "132 -0.346539 -0.497137  1.560582  ...  1.289151  0.312463 -0.221133\n",
            "40  -0.416159  2.848023 -1.200044  ... -0.061564  0.419967 -1.558200\n",
            "461  0.041689 -0.497137  1.008165  ...  0.823387  0.374283  0.295262\n",
            "393  0.661197 -0.497137  1.008165  ...  0.823387  0.433923  0.371331\n",
            "495 -0.397968 -0.497137 -0.217646  ...  0.357624  0.394563  0.726809\n",
            "75  -0.408461 -0.497137  0.240029  ...  0.124742  0.284878 -0.540039\n",
            "87  -0.411415 -0.497137 -0.975579  ...  0.031589  0.414843 -0.613183\n",
            "63  -0.404535  0.617916 -0.882295  ...  0.590505  0.419531 -0.458118\n",
            "326 -0.382394 -0.497137 -0.554343  ...  0.543929  0.433923 -0.948181\n",
            "337 -0.416557 -0.497137 -0.873550  ...  0.823387  0.411136 -0.303054\n",
            "11  -0.405665  0.060390 -0.482923  ... -1.505431  0.433923  0.093385\n",
            "351 -0.410415  2.178991 -1.383697  ... -0.061564  0.149134 -1.044731\n",
            "\n",
            "[404 rows x 13 columns]\n"
          ],
          "name": "stdout"
        }
      ]
    },
    {
      "cell_type": "code",
      "metadata": {
        "id": "1Ju0FIf_pEpL",
        "colab_type": "code",
        "colab": {}
      },
      "source": [
        "# Converting from Pandas Dataframe to Numpy Arrays\n",
        "X_train = np.array(X_train)\n",
        "y_train = np.array(y_train)\n",
        " "
      ],
      "execution_count": 0,
      "outputs": []
    },
    {
      "cell_type": "code",
      "metadata": {
        "id": "UPYpHOKmx2Kh",
        "colab_type": "code",
        "colab": {
          "base_uri": "https://localhost:8080/",
          "height": 35
        },
        "outputId": "bd2d8416-823f-46e4-b3db-a1fcc88f47cf"
      },
      "source": [
        "type(X_train),type(y_train)"
      ],
      "execution_count": 60,
      "outputs": [
        {
          "output_type": "execute_result",
          "data": {
            "text/plain": [
              "(numpy.ndarray, numpy.ndarray)"
            ]
          },
          "metadata": {
            "tags": []
          },
          "execution_count": 60
        }
      ]
    },
    {
      "cell_type": "code",
      "metadata": {
        "id": "eeHDxLYox6D1",
        "colab_type": "code",
        "colab": {
          "base_uri": "https://localhost:8080/",
          "height": 35
        },
        "outputId": "8a19ea18-f3b8-45bf-8558-deef2a2c2ed4"
      },
      "source": [
        "scal = StandardScaler()\n",
        "scal.fit(X_test)"
      ],
      "execution_count": 61,
      "outputs": [
        {
          "output_type": "execute_result",
          "data": {
            "text/plain": [
              "StandardScaler(copy=True, with_mean=True, with_std=True)"
            ]
          },
          "metadata": {
            "tags": []
          },
          "execution_count": 61
        }
      ]
    },
    {
      "cell_type": "code",
      "metadata": {
        "id": "T3pDWxv6yBke",
        "colab_type": "code",
        "colab": {}
      },
      "source": [
        "X_test = pd.DataFrame(data = scal.transform(X_test),columns = X_test.columns,index=X_test.index)"
      ],
      "execution_count": 0,
      "outputs": []
    },
    {
      "cell_type": "code",
      "metadata": {
        "id": "BjMTCzpqyYMg",
        "colab_type": "code",
        "colab": {
          "base_uri": "https://localhost:8080/",
          "height": 1000
        },
        "outputId": "689154a1-5d8b-4ffb-da85-25a4c39dcfc1"
      },
      "source": [
        "print(X_test)"
      ],
      "execution_count": 63,
      "outputs": [
        {
          "output_type": "stream",
          "text": [
            "         CRIM        ZN     INDUS  ...   PTRATIO         B     LSTAT\n",
            "195 -0.435057  2.559632 -1.538110  ... -1.866931  0.440393 -1.189960\n",
            "4   -0.429837 -0.461719 -1.285981  ...  0.068394  0.470351 -0.902458\n",
            "434  0.878311 -0.461719  1.047677  ...  0.743507 -2.853820  0.296281\n",
            "458  0.296144 -0.461719  1.047677  ...  0.743507 -0.928680  0.425413\n",
            "39  -0.433751  2.370798 -1.173109  ... -0.111636  0.456102 -1.025499\n",
            "304 -0.431151  0.784589 -1.285981  ... -0.066629  0.434222 -0.707541\n",
            "225 -0.386572 -0.461719 -0.696703  ... -0.516704  0.303172 -0.987734\n",
            "32  -0.305211 -0.461719 -0.412325  ...  1.103568 -1.373107  1.823941\n",
            "157 -0.320746 -0.461719  1.264625  ... -1.731908  0.094815 -0.992607\n",
            "404  3.487718 -0.461719  1.047677  ...  0.743507 -0.286331  1.783739\n",
            "65  -0.432975  2.559632 -1.111543  ... -1.101803  0.470351 -0.982861\n",
            "138 -0.412758 -0.461719  1.603240  ...  1.193583  0.415821  1.045492\n",
            "18  -0.360514 -0.461719 -0.412325  ...  1.103568 -0.740407 -0.127663\n",
            "352 -0.429517  1.804295 -1.357808  ... -0.111636  0.419075 -0.602773\n",
            "114 -0.422915 -0.461719 -0.138208  ... -0.336674  0.378795 -0.278724\n",
            "407  0.692894 -0.461719  1.047677  ...  0.743507 -0.256822 -0.074061\n",
            "417  2.014757 -0.461719  1.047677  ...  0.743507 -2.553908  1.693590\n",
            "290 -0.433053  2.559632 -0.879936  ...  0.293432  0.470351 -1.146104\n",
            "95  -0.424830 -0.461719 -1.181904  ... -0.246659  0.033666 -0.741651\n",
            "321 -0.419203 -0.461719 -0.523731  ...  0.473462  0.470351 -0.714850\n",
            "439  0.450956 -0.461719  1.047677  ...  0.743507  0.470351  1.235536\n",
            "12  -0.427500  0.010367 -0.451903  ... -1.506871  0.398543  0.362065\n",
            "505 -0.431882 -0.461719  0.143238  ...  1.103568  0.470351 -0.591809\n",
            "252 -0.428594  0.369153 -0.746542  ...  0.248424  0.349062 -1.121739\n",
            "291 -0.428910  2.559632 -0.879936  ...  0.293432  0.470351 -1.118084\n",
            "361 -0.073820 -0.461719  1.047677  ...  0.743507 -0.048577  0.176894\n",
            "234 -0.394039 -0.461719 -0.696703  ... -0.516704  0.058574 -0.571099\n",
            "128 -0.405612 -0.461719  1.603240  ...  1.193583  0.470351  0.323082\n",
            "372  0.344808 -0.461719  1.047677  ...  0.743507 -0.079657 -0.469986\n",
            "198 -0.432801  2.559632 -1.382728  ... -2.677067  0.417617 -0.745306\n",
            "..        ...       ...       ...  ...       ...       ...       ...\n",
            "154 -0.302767 -0.461719  1.264625  ... -1.731908 -0.381028  0.290190\n",
            "130 -0.404230 -0.461719  1.603240  ...  1.193583  0.449482 -0.016804\n",
            "296 -0.431286 -0.461719  0.434945  ... -1.146810  0.424910 -0.651502\n",
            "155 -0.102340 -0.461719  1.264625  ... -1.731908 -2.995418  0.278007\n",
            "161 -0.298089 -0.461719  1.264625  ... -1.731908  0.218236 -1.341020\n",
            "48  -0.412374 -0.461719 -0.592626  ... -0.291667  0.470351  2.201592\n",
            "308 -0.389780 -0.461719 -0.154333  ... -0.066629  0.470351 -0.998698\n",
            "401  0.908812 -0.461719  1.047677  ...  0.743507  0.470351  0.923669\n",
            "24  -0.365470 -0.461719 -0.412325  ...  1.103568  0.441515  0.433941\n",
            "462  0.192459 -0.461719  1.047677  ...  0.743507  0.470351  0.152530\n",
            "175 -0.430065 -0.461719 -1.011864  ... -0.876765  0.403704 -0.902458\n",
            "443  0.505373 -0.461719  1.047677  ...  0.743507  0.356243  0.744589\n",
            "8   -0.416402  0.010367 -0.451903  ... -1.506871  0.355121  2.094388\n",
            "330 -0.432068 -0.461719 -1.130599  ... -0.741742  0.152486 -0.444403\n",
            "479  0.918025 -0.461719  1.047677  ...  0.743507  0.317982  0.045325\n",
            "187 -0.428921  1.237791 -1.101282  ... -1.506871  0.436354 -0.737996\n",
            "38  -0.419821 -0.461719 -0.731884  ...  0.293432  0.431417 -0.317707\n",
            "432  0.172534 -0.461719  1.047677  ...  0.743507 -2.883890 -0.086244\n",
            "382  0.431717 -0.461719  1.047677  ...  0.743507  0.470351  1.323248\n",
            "143 -0.049200 -0.461719  1.264625  ... -1.731908  0.470351  1.666789\n",
            "360 -0.007197 -0.461719  1.047677  ...  0.743507  0.219695 -0.602773\n",
            "263 -0.358383  0.293619 -1.023591  ... -2.497037  0.431305 -0.181265\n",
            "398  3.187487 -0.461719  1.047677  ...  0.743507  0.470351  2.174791\n",
            "186 -0.431068 -0.461719 -1.244937  ... -0.336674  0.422441 -1.009662\n",
            "147 -0.212552 -0.461719  1.264625  ... -1.731908  0.412119  2.045659\n",
            "227 -0.397396 -0.461719 -0.696703  ... -0.516704  0.191869 -0.776980\n",
            "405  5.981451 -0.461719  1.047677  ...  0.743507  0.336496  1.247718\n",
            "69  -0.424252  0.010367 -0.715759  ...  0.158409  0.470351 -0.480950\n",
            "231 -0.392617 -0.461719 -0.696703  ... -0.516704  0.237422 -0.912203\n",
            "104 -0.423171 -0.461719 -0.350759  ...  1.058560  0.423114 -0.049697\n",
            "\n",
            "[102 rows x 13 columns]\n"
          ],
          "name": "stdout"
        }
      ]
    },
    {
      "cell_type": "code",
      "metadata": {
        "id": "Tg7q3l3uybJW",
        "colab_type": "code",
        "colab": {}
      },
      "source": [
        "X_test = np.array(X_test)\n",
        "y_test = np.array(y_test)"
      ],
      "execution_count": 0,
      "outputs": []
    },
    {
      "cell_type": "code",
      "metadata": {
        "id": "4StXhRlEy1Id",
        "colab_type": "code",
        "colab": {
          "base_uri": "https://localhost:8080/",
          "height": 35
        },
        "outputId": "1d0f44da-c6d0-47be-a19f-bffe076f59e5"
      },
      "source": [
        "type(X_test),type(y_test)"
      ],
      "execution_count": 65,
      "outputs": [
        {
          "output_type": "execute_result",
          "data": {
            "text/plain": [
              "(numpy.ndarray, numpy.ndarray)"
            ]
          },
          "metadata": {
            "tags": []
          },
          "execution_count": 65
        }
      ]
    },
    {
      "cell_type": "code",
      "metadata": {
        "id": "XQNZ6bAHy6GO",
        "colab_type": "code",
        "colab": {}
      },
      "source": [
        "import tensorflow as tf\n",
        "import matplotlib.pyplot as plt\n",
        "%matplotlib inline"
      ],
      "execution_count": 0,
      "outputs": []
    },
    {
      "cell_type": "code",
      "metadata": {
        "id": "I1b6LJaozOgy",
        "colab_type": "code",
        "colab": {
          "base_uri": "https://localhost:8080/",
          "height": 35
        },
        "outputId": "6eab0cda-2f03-43ff-98e4-a29d0e236773"
      },
      "source": [
        "scal.fit(X_test)"
      ],
      "execution_count": 67,
      "outputs": [
        {
          "output_type": "execute_result",
          "data": {
            "text/plain": [
              "StandardScaler(copy=True, with_mean=True, with_std=True)"
            ]
          },
          "metadata": {
            "tags": []
          },
          "execution_count": 67
        }
      ]
    },
    {
      "cell_type": "code",
      "metadata": {
        "id": "OJER40nAzb9K",
        "colab_type": "code",
        "colab": {}
      },
      "source": [
        "# Define TensorFlow Model\n",
        "#learning rate\n",
        "lr=0.1\n",
        "epochs=1000\n",
        "\n",
        "#Define Features and Label Placeholder\n",
        "#Features\n",
        "X=tf.placeholder(tf.float32,[None,X_train.shape[1]])\n",
        "#Labels\n",
        "y=tf.placeholder(tf.float32,[None,1])\n"
      ],
      "execution_count": 0,
      "outputs": []
    },
    {
      "cell_type": "code",
      "metadata": {
        "id": "dnOXePjU0N2D",
        "colab_type": "code",
        "colab": {}
      },
      "source": [
        "# Define Hyperparameters\n",
        "\n",
        "#Weight\n",
        "W=tf.Variable(tf.ones([X_train.shape[1],1]))\n",
        "#Bias\n",
        "b=tf.Variable(tf.ones(X_train.shape[1]))\n"
      ],
      "execution_count": 0,
      "outputs": []
    },
    {
      "cell_type": "code",
      "metadata": {
        "id": "gh3lrnKChWMl",
        "colab_type": "code",
        "colab": {}
      },
      "source": [
        "# Initiaize all variables\n",
        "init = tf.global_variables_initializer()"
      ],
      "execution_count": 0,
      "outputs": []
    },
    {
      "cell_type": "code",
      "metadata": {
        "id": "ucEzhaWkmr4W",
        "colab_type": "code",
        "colab": {}
      },
      "source": [
        "# Define cost Function,Optimizer and Output Predictions Functions\n",
        "\n",
        "#Predictions\n",
        "# y_hat = (W*X+b)\n",
        "y_hat = tf.add(tf.matmul(X,W),b)\n",
        "\n",
        "#Cost Function\n",
        "#MSE\n",
        "cost = tf.reduce_mean(tf.square(y-y_hat))\n",
        "\n",
        "#Gradient Descent Optimizer to Minimize the cost\n",
        "optimizer = tf.train.GradientDescentOptimizer(learning_rate=lr).minimize(cost)\n"
      ],
      "execution_count": 0,
      "outputs": []
    },
    {
      "cell_type": "code",
      "metadata": {
        "id": "yh6Tzi4An0h6",
        "colab_type": "code",
        "colab": {}
      },
      "source": [
        "# Tensor to store the cost after every Epoch\n",
        "# Comes in handy while plotting the cost vs epochs\n",
        "cost_history=np.empty(shape=[1],dtype=float)\n"
      ],
      "execution_count": 0,
      "outputs": []
    },
    {
      "cell_type": "code",
      "metadata": {
        "id": "pJ9HdMO6oIIv",
        "colab_type": "code",
        "colab": {
          "base_uri": "https://localhost:8080/",
          "height": 215
        },
        "outputId": "4942177c-636f-464d-e058-3c88bb65594c"
      },
      "source": [
        "# Train the model\n",
        "with tf.Session() as sess:\n",
        "  #Initialize all Variables\n",
        "  sess.run(init)\n",
        "\n",
        "  for epoch in range(0,epochs):\n",
        "    #Run the optimizer and the cost functions\n",
        "    result,err =sess.run([optimizer,cost],feed_dict={X:X_train,y:y_train})\n",
        "\n",
        "    # Add the calculated cost to the array\n",
        "    cost_history=np.append(cost_history,err)\n",
        "\n",
        "    # Print the Loss/Error after every 100 epochs\n",
        "    if epoch%100 == 0:\n",
        "      print('Epoch:{0}, Error: {1}'.format(epoch,err))\n",
        "\n",
        "\n",
        "  print('Epoch:{0}, Error: {1}'.format(epoch+1,err))\n",
        "\n",
        "  #Values of weight & Bias after training\n",
        "  new_W =sess.run(W)\n",
        "  new_b= sess.run(b)\n",
        "\n",
        "  #Predicted Labels\n",
        "  y_pred = sess.run(y_hat,feed_dict={X:X_test})\n",
        "\n",
        "  #Mean Squared Error\n",
        "  mse= sess.run(tf.reduce_mean(tf.square(y_pred-y_test)))\n"
      ],
      "execution_count": 83,
      "outputs": [
        {
          "output_type": "stream",
          "text": [
            "Epoch:0, Error: 585.5562133789062\n",
            "Epoch:100, Error: 39.727542877197266\n",
            "Epoch:200, Error: 20.122617721557617\n",
            "Epoch:300, Error: 19.239852905273438\n",
            "Epoch:400, Error: 19.20009422302246\n",
            "Epoch:500, Error: 19.19830322265625\n",
            "Epoch:600, Error: 19.19822120666504\n",
            "Epoch:700, Error: 19.198217391967773\n",
            "Epoch:800, Error: 19.198219299316406\n",
            "Epoch:900, Error: 19.198219299316406\n",
            "Epoch:1000, Error: 19.198219299316406\n"
          ],
          "name": "stdout"
        }
      ]
    },
    {
      "cell_type": "code",
      "metadata": {
        "id": "3SvSUaUlqOgt",
        "colab_type": "code",
        "colab": {
          "base_uri": "https://localhost:8080/",
          "height": 269
        },
        "outputId": "d5f538da-c8ff-4518-d629-5473253611dc"
      },
      "source": [
        "# New Value of Weights \n",
        "print('Trained Weights: \\n',new_W)"
      ],
      "execution_count": 84,
      "outputs": [
        {
          "output_type": "stream",
          "text": [
            "Trained Weights: \n",
            " [[-0.7912249 ]\n",
            " [ 0.95297575]\n",
            " [ 0.1148403 ]\n",
            " [ 0.76526856]\n",
            " [-1.7739142 ]\n",
            " [ 2.7038627 ]\n",
            " [-0.02347502]\n",
            " [-3.0118442 ]\n",
            " [ 2.3180292 ]\n",
            " [-1.7692683 ]\n",
            " [-1.9079448 ]\n",
            " [ 0.75690657]\n",
            " [-3.7553954 ]]\n"
          ],
          "name": "stdout"
        }
      ]
    },
    {
      "cell_type": "code",
      "metadata": {
        "id": "8-bggj8Yqlel",
        "colab_type": "code",
        "colab": {
          "base_uri": "https://localhost:8080/",
          "height": 91
        },
        "outputId": "9a62fdb9-810e-42be-fd34-ac558bfceb32"
      },
      "source": [
        "print('Trained Bias: \\n',new_b)"
      ],
      "execution_count": 85,
      "outputs": [
        {
          "output_type": "stream",
          "text": [
            "Trained Bias: \n",
            " [22.33682 22.33682 22.33682 22.33682 22.33682 22.33682 22.33682 22.33682\n",
            " 22.33682 22.33682 22.33682 22.33682 22.33682]\n"
          ],
          "name": "stdout"
        }
      ]
    },
    {
      "cell_type": "code",
      "metadata": {
        "id": "8mjVWZ4_qtan",
        "colab_type": "code",
        "colab": {
          "base_uri": "https://localhost:8080/",
          "height": 161
        },
        "outputId": "ee721b43-5a6a-439d-94a5-f2c755929bea"
      },
      "source": [
        "# Predicted Values\n",
        "print(\"Predicted Values: \\n\",y_pred)"
      ],
      "execution_count": 86,
      "outputs": [
        {
          "output_type": "stream",
          "text": [
            "Predicted Values: \n",
            " [[37.81517  37.81517  37.81517  ... 37.81517  37.81517  37.81517 ]\n",
            " [26.753574 26.753574 26.753574 ... 26.753574 26.753574 26.753574]\n",
            " [16.912266 16.912266 16.912266 ... 16.912266 16.912266 16.912266]\n",
            " ...\n",
            " [20.34141  20.34141  20.34141  ... 20.34141  20.34141  20.34141 ]\n",
            " [31.684977 31.684977 31.684977 ... 31.684977 31.684977 31.684977]\n",
            " [21.349758 21.349758 21.349758 ... 21.349758 21.349758 21.349758]]\n"
          ],
          "name": "stdout"
        }
      ]
    },
    {
      "cell_type": "code",
      "metadata": {
        "id": "KshdGqU-q0Yd",
        "colab_type": "code",
        "colab": {
          "base_uri": "https://localhost:8080/",
          "height": 35
        },
        "outputId": "ecc6f7d1-732c-476a-8692-61bb642da86f"
      },
      "source": [
        "print('Mean Squared Error[TF session]:',mse)"
      ],
      "execution_count": 87,
      "outputs": [
        {
          "output_type": "stream",
          "text": [
            "Mean Squared Error[TF session]: 34.87675267130123\n"
          ],
          "name": "stdout"
        }
      ]
    },
    {
      "cell_type": "code",
      "metadata": {
        "id": "GfDxKQvzq7gQ",
        "colab_type": "code",
        "colab": {
          "base_uri": "https://localhost:8080/",
          "height": 304
        },
        "outputId": "e2447f8c-3e19-46c7-f806-54c2e0d94d64"
      },
      "source": [
        "#Cost vs Epoch plot\n",
        "plt.plot(range(len(cost_history)),cost_history)\n",
        "plt.axis([0,epochs,0,np.max(cost_history)])\n",
        "plt.xlabel('Epochs')\n",
        "plt.ylabel('Cost')\n",
        "plt.title('Cost vs Epochs',fontsize=25)\n",
        "plt.show()"
      ],
      "execution_count": 88,
      "outputs": [
        {
          "output_type": "display_data",
          "data": {
            "image/png": "[encoded data removed]",
            "text/plain": [
              "<Figure size 432x288 with 1 Axes>"
            ]
          },
          "metadata": {
            "tags": []
          }
        }
      ]
    },
    {
      "cell_type": "code",
      "metadata": {
        "id": "IxuX4SbZrV7Z",
        "colab_type": "code",
        "colab": {}
      },
      "source": [
        ""
      ],
      "execution_count": 0,
      "outputs": []
    },
    {
      "cell_type": "code",
      "metadata": {
        "id": "9LlK91nsr_CO",
        "colab_type": "code",
        "colab": {}
      },
      "source": [
        ""
      ],
      "execution_count": 0,
      "outputs": []
    }
  ]
}