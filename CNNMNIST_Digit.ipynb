{
  "nbformat": 4,
  "nbformat_minor": 0,
  "metadata": {
    "colab": {
      "name": "CNNMNIST_Digit.ipynb",
      "provenance": [],
      "authorship_tag": "ABX9TyO5/eXyFuFu+ug3XG7xmoli",
      "include_colab_link": true
    },
    "kernelspec": {
      "name": "python3",
      "display_name": "Python 3"
    },
    "accelerator": "GPU"
  },
  "cells": [
    {
      "cell_type": "markdown",
      "metadata": {
        "id": "view-in-github",
        "colab_type": "text"
      },
      "source": [
        "<a href=\"https://colab.research.google.com/github/CasCard/Machine-Learning-Project/blob/master/CNNMNIST_Digit.ipynb\" target=\"_parent\"><img src=\"https://colab.research.google.com/assets/colab-badge.svg\" alt=\"Open In Colab\"/></a>"
      ]
    },
    {
      "cell_type": "code",
      "metadata": {
        "id": "jEm-PHZH2usk",
        "colab_type": "code",
        "colab": {}
      },
      "source": [
        "%tensorflow_version 2.x\n",
        "import tensorflow as tf\n",
        "import matplotlib.pyplot as plt\n",
        "import numpy as np\n",
        "from tensorflow.keras.layers import Input,Conv2D,Dense,Flatten,Dropout\n",
        "from tensorflow.keras.models import Model\n",
        "import time as t"
      ],
      "execution_count": 0,
      "outputs": []
    },
    {
      "cell_type": "code",
      "metadata": {
        "id": "26bCs_hO28Oj",
        "colab_type": "code",
        "colab": {
          "base_uri": "https://localhost:8080/",
          "height": 36
        },
        "outputId": "4b9f5636-0f50-4078-ab71-b626d0d55679"
      },
      "source": [
        "mnist=tf.keras.datasets.mnist\n",
        "(x_train,y_train),(x_test,y_test)=mnist.load_data()\n",
        "x_train,x_test=x_train/255.0,x_test/255.0\n",
        "print(\"x_train.shape\",x_train.shape)"
      ],
      "execution_count": 10,
      "outputs": [
        {
          "output_type": "stream",
          "text": [
            "x_train.shape (60000, 28, 28)\n"
          ],
          "name": "stdout"
        }
      ]
    },
    {
      "cell_type": "code",
      "metadata": {
        "id": "gpA1YgXM3-do",
        "colab_type": "code",
        "colab": {
          "base_uri": "https://localhost:8080/",
          "height": 36
        },
        "outputId": "4e69ea7e-d56f-42f8-8787-63eeec8ca0b1"
      },
      "source": [
        "x_train=np.expand_dims(x_train,-1)\n",
        "x_test = np.expand_dims(x_test,-1)\n",
        "print(x_train.shape)"
      ],
      "execution_count": 11,
      "outputs": [
        {
          "output_type": "stream",
          "text": [
            "(60000, 28, 28, 1)\n"
          ],
          "name": "stdout"
        }
      ]
    },
    {
      "cell_type": "code",
      "metadata": {
        "id": "GXvByBrZ6Giq",
        "colab_type": "code",
        "colab": {
          "base_uri": "https://localhost:8080/",
          "height": 36
        },
        "outputId": "788c4feb-e219-4b17-cfc5-16ed0fb37e21"
      },
      "source": [
        "K=len(set(y_train))\n",
        "print(\"Number of classes:\",K)"
      ],
      "execution_count": 12,
      "outputs": [
        {
          "output_type": "stream",
          "text": [
            "Number of classes: 10\n"
          ],
          "name": "stdout"
        }
      ]
    },
    {
      "cell_type": "code",
      "metadata": {
        "id": "zBRskRS_8AJS",
        "colab_type": "code",
        "colab": {}
      },
      "source": [
        "i=Input(shape=x_train[0].shape)\n",
        "x=Conv2D(32,(3,3),strides=2,activation='relu')(i)\n",
        "x=Conv2D(64,(3,3),strides=2,activation='relu')(x)\n",
        "x=Conv2D(128,(3,3),strides=2,activation='relu')(x)\n",
        "x=Flatten()(x)\n",
        "x=Dropout(0.2)(x)\n",
        "x=Dense(512,activation='relu')(x)\n",
        "x=Dense(K,activation='softmax')(x)\n",
        "\n",
        "model=Model(i,x)"
      ],
      "execution_count": 0,
      "outputs": []
    },
    {
      "cell_type": "code",
      "metadata": {
        "id": "plVUJF_388-B",
        "colab_type": "code",
        "colab": {
          "base_uri": "https://localhost:8080/",
          "height": 449
        },
        "outputId": "f9bae1af-a586-460e-e354-93f0e2edda97"
      },
      "source": [
        "model.compile(optimizer='adam',\n",
        "              loss='sparse_categorical_crossentropy',\n",
        "              metrics=['accuracy'])\n",
        "A1=t.time()\n",
        "r=model.fit(x_train,y_train,validation_data=(x_test,y_test),epochs=10)\n",
        "A2=t.time()\n",
        "print(A2-A1)"
      ],
      "execution_count": 14,
      "outputs": [
        {
          "output_type": "stream",
          "text": [
            "Train on 60000 samples, validate on 10000 samples\n",
            "Epoch 1/10\n",
            "60000/60000 [==============================] - 6s 102us/sample - loss: 0.1725 - accuracy: 0.9470 - val_loss: 0.0603 - val_accuracy: 0.9806\n",
            "Epoch 2/10\n",
            "60000/60000 [==============================] - 6s 95us/sample - loss: 0.0666 - accuracy: 0.9790 - val_loss: 0.0531 - val_accuracy: 0.9830\n",
            "Epoch 3/10\n",
            "60000/60000 [==============================] - 6s 95us/sample - loss: 0.0472 - accuracy: 0.9848 - val_loss: 0.0460 - val_accuracy: 0.9870\n",
            "Epoch 4/10\n",
            "60000/60000 [==============================] - 6s 96us/sample - loss: 0.0381 - accuracy: 0.9879 - val_loss: 0.0398 - val_accuracy: 0.9874\n",
            "Epoch 5/10\n",
            "60000/60000 [==============================] - 6s 96us/sample - loss: 0.0303 - accuracy: 0.9901 - val_loss: 0.0345 - val_accuracy: 0.9888\n",
            "Epoch 6/10\n",
            "60000/60000 [==============================] - 6s 96us/sample - loss: 0.0250 - accuracy: 0.9920 - val_loss: 0.0334 - val_accuracy: 0.9892\n",
            "Epoch 7/10\n",
            "60000/60000 [==============================] - 6s 97us/sample - loss: 0.0217 - accuracy: 0.9928 - val_loss: 0.0406 - val_accuracy: 0.9887\n",
            "Epoch 8/10\n",
            "60000/60000 [==============================] - 6s 95us/sample - loss: 0.0181 - accuracy: 0.9938 - val_loss: 0.0474 - val_accuracy: 0.9881\n",
            "Epoch 9/10\n",
            "60000/60000 [==============================] - 6s 97us/sample - loss: 0.0172 - accuracy: 0.9943 - val_loss: 0.0342 - val_accuracy: 0.9902\n",
            "Epoch 10/10\n",
            "60000/60000 [==============================] - 6s 98us/sample - loss: 0.0152 - accuracy: 0.9949 - val_loss: 0.0393 - val_accuracy: 0.9902\n",
            "58.04322147369385\n"
          ],
          "name": "stdout"
        }
      ]
    },
    {
      "cell_type": "code",
      "metadata": {
        "id": "s5CvwUoA9iFs",
        "colab_type": "code",
        "colab": {
          "base_uri": "https://localhost:8080/",
          "height": 288
        },
        "outputId": "027eb493-cd3e-4de5-916a-2435840d0fec"
      },
      "source": [
        "plt.plot(r.history['loss'],label='loss')\n",
        "plt.plot(r.history['val_loss'],label='val_loss')\n",
        "plt.legend()"
      ],
      "execution_count": 15,
      "outputs": [
        {
          "output_type": "execute_result",
          "data": {
            "text/plain": [
              "<matplotlib.legend.Legend at 0x7f0ebe1b9ef0>"
            ]
          },
          "metadata": {
            "tags": []
          },
          "execution_count": 15
        },
        {
          "output_type": "display_data",
          "data": {
            "image/png": "[encoded data removed]",
            "text/plain": [
              "<Figure size 432x288 with 1 Axes>"
            ]
          },
          "metadata": {
            "tags": []
          }
        }
      ]
    },
    {
      "cell_type": "code",
      "metadata": {
        "id": "wNyzp_F698cf",
        "colab_type": "code",
        "colab": {
          "base_uri": "https://localhost:8080/",
          "height": 284
        },
        "outputId": "7c1641ea-0a76-40c8-c352-48d90bc6b4f1"
      },
      "source": [
        "plt.plot(r.history['accuracy'],label='acc')\n",
        "plt.plot(r.history['val_accuracy'],label='val_acc')\n",
        "plt.legend()"
      ],
      "execution_count": 16,
      "outputs": [
        {
          "output_type": "execute_result",
          "data": {
            "text/plain": [
              "<matplotlib.legend.Legend at 0x7f0ec97b54e0>"
            ]
          },
          "metadata": {
            "tags": []
          },
          "execution_count": 16
        },
        {
          "output_type": "display_data",
          "data": {
            "image/png": "[encoded data removed]",
            "text/plain": [
              "<Figure size 432x288 with 1 Axes>"
            ]
          },
          "metadata": {
            "tags": []
          }
        }
      ]
    },
    {
      "cell_type": "code",
      "metadata": {
        "id": "UvTwdDQx-Maj",
        "colab_type": "code",
        "colab": {
          "base_uri": "https://localhost:8080/",
          "height": 73
        },
        "outputId": "1a5aa90e-405b-44e8-c9e5-5eb207110415"
      },
      "source": [
        "A3=t.time()\n",
        "print(model.evaluate(x_test,y_test))\n",
        "A4=t.time()\n",
        "print(A4-A3)"
      ],
      "execution_count": 17,
      "outputs": [
        {
          "output_type": "stream",
          "text": [
            "10000/10000 [==============================] - 1s 64us/sample - loss: 0.0393 - accuracy: 0.9902\n",
            "[0.03928590429093388, 0.9902]\n",
            "0.6683773994445801\n"
          ],
          "name": "stdout"
        }
      ]
    },
    {
      "cell_type": "code",
      "metadata": {
        "id": "-6qaKC8m_liR",
        "colab_type": "code",
        "colab": {
          "base_uri": "https://localhost:8080/",
          "height": 36
        },
        "outputId": "0ba2474b-650f-46a4-dd2e-ec695f18fa19"
      },
      "source": [
        "predictions=model.predict([x_test])\n",
        "print(np.argmax(predictions[1000]))"
      ],
      "execution_count": 18,
      "outputs": [
        {
          "output_type": "stream",
          "text": [
            "9\n"
          ],
          "name": "stdout"
        }
      ]
    },
    {
      "cell_type": "code",
      "metadata": {
        "id": "aldZWpOg_tCg",
        "colab_type": "code",
        "colab": {}
      },
      "source": [
        ""
      ],
      "execution_count": 0,
      "outputs": []
    }
  ]
}