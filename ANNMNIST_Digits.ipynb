{
  "nbformat": 4,
  "nbformat_minor": 0,
  "metadata": {
    "colab": {
      "name": "ANNMNIST_Digits.ipynb",
      "provenance": [],
      "collapsed_sections": [],
      "authorship_tag": "ABX9TyMezSjvV0sC5JytqG0GehIb",
      "include_colab_link": true
    },
    "kernelspec": {
      "name": "python3",
      "display_name": "Python 3"
    },
    "accelerator": "GPU"
  },
  "cells": [
    {
      "cell_type": "markdown",
      "metadata": {
        "id": "view-in-github",
        "colab_type": "text"
      },
      "source": [
        "<a href=\"https://colab.research.google.com/github/CasCard/Machine-Learning-Project/blob/master/ANNMNIST_Digits.ipynb\" target=\"_parent\"><img src=\"https://colab.research.google.com/assets/colab-badge.svg\" alt=\"Open In Colab\"/></a>"
      ]
    },
    {
      "cell_type": "code",
      "metadata": {
        "id": "7Lk5gRIppK_z",
        "colab_type": "code",
        "outputId": "20604c1f-f53f-468f-8460-1f8080dc68b7",
        "colab": {
          "base_uri": "https://localhost:8080/",
          "height": 36
        }
      },
      "source": [
        "%tensorflow_version 2.x\n",
        "import tensorflow as tf\n",
        "import matplotlib.pyplot as plt\n",
        "import numpy as np\n",
        "import time as t"
      ],
      "execution_count": 1,
      "outputs": [
        {
          "output_type": "stream",
          "text": [
            "TensorFlow 2.x selected.\n"
          ],
          "name": "stdout"
        }
      ]
    },
    {
      "cell_type": "code",
      "metadata": {
        "id": "3NOnmacDd3Hd",
        "colab_type": "code",
        "outputId": "1fe123f6-4b1d-42e1-bfaf-6408536e5954",
        "colab": {
          "base_uri": "https://localhost:8080/",
          "height": 36
        }
      },
      "source": [
        "print(tf.__version__)"
      ],
      "execution_count": 2,
      "outputs": [
        {
          "output_type": "stream",
          "text": [
            "2.1.0\n"
          ],
          "name": "stdout"
        }
      ]
    },
    {
      "cell_type": "code",
      "metadata": {
        "id": "48V_Smr2simC",
        "colab_type": "code",
        "outputId": "4ebf2c6c-65d2-4ad1-c533-e3a1518132b3",
        "colab": {
          "base_uri": "https://localhost:8080/",
          "height": 36
        }
      },
      "source": [
        "mnist=tf.keras.datasets.mnist\n",
        "(x_train,y_train),(x_test,y_test)=mnist.load_data()\n",
        "x_train,x_test=x_train/255.0,x_test/255\n",
        "print(\"x_train.shape\",x_train.shape)"
      ],
      "execution_count": 3,
      "outputs": [
        {
          "output_type": "stream",
          "text": [
            "x_train.shape (60000, 28, 28)\n"
          ],
          "name": "stdout"
        }
      ]
    },
    {
      "cell_type": "code",
      "metadata": {
        "id": "oVyey3V5suxF",
        "colab_type": "code",
        "outputId": "6d1eb04d-0199-4f71-dcda-ffaaa602a90b",
        "colab": {
          "base_uri": "https://localhost:8080/",
          "height": 265
        }
      },
      "source": [
        "plt.imshow(x_train[0],cmap=\"gray\")\n",
        "plt.show()"
      ],
      "execution_count": 4,
      "outputs": [
        {
          "output_type": "display_data",
          "data": {
            "image/png": "[encoded data removed]",
            "text/plain": [
              "<Figure size 432x288 with 1 Axes>"
            ]
          },
          "metadata": {
            "tags": []
          }
        }
      ]
    },
    {
      "cell_type": "code",
      "metadata": {
        "id": "BlKiCnY_s3Su",
        "colab_type": "code",
        "colab": {}
      },
      "source": [
        ""
      ],
      "execution_count": 0,
      "outputs": []
    },
    {
      "cell_type": "code",
      "metadata": {
        "id": "CAomE9BAtHSx",
        "colab_type": "code",
        "colab": {}
      },
      "source": [
        "model=tf.keras.models.Sequential([\n",
        "      tf.keras.layers.Flatten(input_shape=(28,28)),\n",
        "      tf.keras.layers.Dense(128,activation=\"relu\"),\n",
        "      tf.keras.layers.Dropout(0.2),\n",
        "      tf.keras.layers.Dense(10,activation=\"softmax\")\n",
        "])"
      ],
      "execution_count": 0,
      "outputs": []
    },
    {
      "cell_type": "code",
      "metadata": {
        "id": "sZlSSZVqPdzB",
        "colab_type": "code",
        "colab": {
          "base_uri": "https://localhost:8080/",
          "height": 317
        },
        "outputId": "d26b8b00-6206-4f81-c29b-45fb570d107d"
      },
      "source": [
        "model.summary()"
      ],
      "execution_count": 6,
      "outputs": [
        {
          "output_type": "stream",
          "text": [
            "Model: \"sequential\"\n",
            "_________________________________________________________________\n",
            "Layer (type)                 Output Shape              Param #   \n",
            "=================================================================\n",
            "flatten (Flatten)            (None, 784)               0         \n",
            "_________________________________________________________________\n",
            "dense (Dense)                (None, 128)               100480    \n",
            "_________________________________________________________________\n",
            "dropout (Dropout)            (None, 128)               0         \n",
            "_________________________________________________________________\n",
            "dense_1 (Dense)              (None, 10)                1290      \n",
            "=================================================================\n",
            "Total params: 101,770\n",
            "Trainable params: 101,770\n",
            "Non-trainable params: 0\n",
            "_________________________________________________________________\n"
          ],
          "name": "stdout"
        }
      ]
    },
    {
      "cell_type": "code",
      "metadata": {
        "id": "k6js-MXitrR6",
        "colab_type": "code",
        "colab": {}
      },
      "source": [
        "model.compile(optimizer='adam',loss=\"sparse_categorical_crossentropy\",metrics=[\"accuracy\"])"
      ],
      "execution_count": 0,
      "outputs": []
    },
    {
      "cell_type": "code",
      "metadata": {
        "id": "QY090AcbuBOo",
        "colab_type": "code",
        "outputId": "07c60cf8-14d3-4741-a0f4-1c885a81ab2e",
        "colab": {
          "base_uri": "https://localhost:8080/",
          "height": 449
        }
      },
      "source": [
        "import time as t\n",
        "A1=t.time()\n",
        "r=model.fit(x_train,y_train,validation_split=0.20,epochs=10)\n",
        "A2=t.time()\n",
        "print(A2-A1)"
      ],
      "execution_count": 8,
      "outputs": [
        {
          "output_type": "stream",
          "text": [
            "Train on 48000 samples, validate on 12000 samples\n",
            "Epoch 1/10\n",
            "48000/48000 [==============================] - 6s 125us/sample - loss: 0.3273 - accuracy: 0.9047 - val_loss: 0.1622 - val_accuracy: 0.9524\n",
            "Epoch 2/10\n",
            "48000/48000 [==============================] - 4s 82us/sample - loss: 0.1599 - accuracy: 0.9533 - val_loss: 0.1215 - val_accuracy: 0.9654\n",
            "Epoch 3/10\n",
            "48000/48000 [==============================] - 4s 83us/sample - loss: 0.1195 - accuracy: 0.9644 - val_loss: 0.1025 - val_accuracy: 0.9709\n",
            "Epoch 4/10\n",
            "48000/48000 [==============================] - 4s 83us/sample - loss: 0.0950 - accuracy: 0.9712 - val_loss: 0.0964 - val_accuracy: 0.9712\n",
            "Epoch 5/10\n",
            "48000/48000 [==============================] - 4s 81us/sample - loss: 0.0809 - accuracy: 0.9749 - val_loss: 0.0878 - val_accuracy: 0.9741\n",
            "Epoch 6/10\n",
            "48000/48000 [==============================] - 4s 82us/sample - loss: 0.0717 - accuracy: 0.9778 - val_loss: 0.0831 - val_accuracy: 0.9751\n",
            "Epoch 7/10\n",
            "48000/48000 [==============================] - 4s 79us/sample - loss: 0.0603 - accuracy: 0.9811 - val_loss: 0.0826 - val_accuracy: 0.9763\n",
            "Epoch 8/10\n",
            "48000/48000 [==============================] - 4s 83us/sample - loss: 0.0545 - accuracy: 0.9824 - val_loss: 0.0849 - val_accuracy: 0.9753\n",
            "Epoch 9/10\n",
            "48000/48000 [==============================] - 4s 81us/sample - loss: 0.0490 - accuracy: 0.9846 - val_loss: 0.0835 - val_accuracy: 0.9762\n",
            "Epoch 10/10\n",
            "48000/48000 [==============================] - 4s 86us/sample - loss: 0.0471 - accuracy: 0.9846 - val_loss: 0.0836 - val_accuracy: 0.9767\n",
            "41.704646825790405\n"
          ],
          "name": "stdout"
        }
      ]
    },
    {
      "cell_type": "code",
      "metadata": {
        "id": "x8Pmn9w6-25N",
        "colab_type": "code",
        "colab": {
          "base_uri": "https://localhost:8080/",
          "height": 284
        },
        "outputId": "0a0181ff-9f16-498c-f4f1-19823ab3b7cb"
      },
      "source": [
        "plt.plot(r.history['loss'],label='loss')\n",
        "plt.plot(r.history['val_loss'],label='val_loss')\n",
        "plt.legend()"
      ],
      "execution_count": 9,
      "outputs": [
        {
          "output_type": "execute_result",
          "data": {
            "text/plain": [
              "<matplotlib.legend.Legend at 0x7f1d7e6ae2e8>"
            ]
          },
          "metadata": {
            "tags": []
          },
          "execution_count": 9
        },
        {
          "output_type": "display_data",
          "data": {
            "image/png": "[encoded data removed]",
            "text/plain": [
              "<Figure size 432x288 with 1 Axes>"
            ]
          },
          "metadata": {
            "tags": []
          }
        }
      ]
    },
    {
      "cell_type": "code",
      "metadata": {
        "id": "aR9plOz9-4nj",
        "colab_type": "code",
        "colab": {
          "base_uri": "https://localhost:8080/",
          "height": 284
        },
        "outputId": "d92fbdf3-c35b-427c-df34-38666411377d"
      },
      "source": [
        "plt.plot(r.history['accuracy'],label='acc')\n",
        "plt.plot(r.history['val_accuracy'],label='val_acc')\n",
        "plt.legend()"
      ],
      "execution_count": 10,
      "outputs": [
        {
          "output_type": "execute_result",
          "data": {
            "text/plain": [
              "<matplotlib.legend.Legend at 0x7f1d7e662630>"
            ]
          },
          "metadata": {
            "tags": []
          },
          "execution_count": 10
        },
        {
          "output_type": "display_data",
          "data": {
            "image/png": "[encoded data removed]",
            "text/plain": [
              "<Figure size 432x288 with 1 Axes>"
            ]
          },
          "metadata": {
            "tags": []
          }
        }
      ]
    },
    {
      "cell_type": "code",
      "metadata": {
        "id": "Z6sr1AaauHRz",
        "colab_type": "code",
        "outputId": "51d334c1-fdef-4986-c93a-805b2e7bf9f6",
        "colab": {
          "base_uri": "https://localhost:8080/",
          "height": 73
        }
      },
      "source": [
        "A3=t.time()\n",
        "print(model.evaluate(x_test,y_test))\n",
        "A4=t.time()\n",
        "print(A4-A3)"
      ],
      "execution_count": 11,
      "outputs": [
        {
          "output_type": "stream",
          "text": [
            "10000/10000 [==============================] - 1s 66us/sample - loss: 0.0733 - accuracy: 0.9780\n",
            "[0.07326709107608767, 0.978]\n",
            "0.6903791427612305\n"
          ],
          "name": "stdout"
        }
      ]
    },
    {
      "cell_type": "code",
      "metadata": {
        "id": "7ACRwsOCupSr",
        "colab_type": "code",
        "outputId": "d1f16a7a-c574-4215-a549-8b6c68732600",
        "colab": {
          "base_uri": "https://localhost:8080/",
          "height": 36
        }
      },
      "source": [
        "predictions=model.predict([x_test])\n",
        "print(np.argmax(predictions[1000]))"
      ],
      "execution_count": 12,
      "outputs": [
        {
          "output_type": "stream",
          "text": [
            "9\n"
          ],
          "name": "stdout"
        }
      ]
    },
    {
      "cell_type": "code",
      "metadata": {
        "id": "y_a6_o0Kuz9y",
        "colab_type": "code",
        "outputId": "eeebf7d3-aefd-44d1-93cf-cf72ea7dacbb",
        "colab": {
          "base_uri": "https://localhost:8080/",
          "height": 265
        }
      },
      "source": [
        "plt.imshow(x_test[1000],cmap=\"gray\")\n",
        "plt.show()"
      ],
      "execution_count": 13,
      "outputs": [
        {
          "output_type": "display_data",
          "data": {
            "image/png": "[encoded data removed]",
            "text/plain": [
              "<Figure size 432x288 with 1 Axes>"
            ]
          },
          "metadata": {
            "tags": []
          }
        }
      ]
    },
    {
      "cell_type": "code",
      "metadata": {
        "id": "rTDp4b8fvCNx",
        "colab_type": "code",
        "colab": {}
      },
      "source": [
        ""
      ],
      "execution_count": 0,
      "outputs": []
    }
  ]
}