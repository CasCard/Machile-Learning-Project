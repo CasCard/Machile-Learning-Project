{
  "nbformat": 4,
  "nbformat_minor": 0,
  "metadata": {
    "colab": {
      "name": "Titanic passenger list.ipynb",
      "provenance": [],
      "include_colab_link": true
    },
    "kernelspec": {
      "name": "python3",
      "display_name": "Python 3"
    },
    "accelerator": "GPU"
  },
  "cells": [
    {
      "cell_type": "markdown",
      "metadata": {
        "id": "view-in-github",
        "colab_type": "text"
      },
      "source": [
        "<a href=\"https://colab.research.google.com/github/CasCard/Machile-Learning-Project/blob/master/Titanic_passenger_list.ipynb\" target=\"_parent\"><img src=\"https://colab.research.google.com/assets/colab-badge.svg\" alt=\"Open In Colab\"/></a>"
      ]
    },
    {
      "cell_type": "code",
      "metadata": {
        "id": "sn_hp3-kLpx7",
        "colab_type": "code",
        "colab": {
          "base_uri": "https://localhost:8080/",
          "height": 53
        },
        "outputId": "86567f10-6f38-476f-eb0b-d311ed2714b5"
      },
      "source": [
        "from __future__ import absolute_import,division,print_function,unicode_literals\n",
        "\n",
        "try:\n",
        "    %tensorflow_version 2.x\n",
        "except Exception:\n",
        "  pass\n",
        "\n",
        "import tensorflow as tf\n",
        "from tensorflow import keras\n",
        "\n",
        "import numpy as np\n",
        "import matplotlib.pyplot as plt\n",
        "\n",
        "print(tf.__version__)"
      ],
      "execution_count": 1,
      "outputs": [
        {
          "output_type": "stream",
          "text": [
            "TensorFlow 2.x selected.\n",
            "2.0.0\n"
          ],
          "name": "stdout"
        }
      ]
    },
    {
      "cell_type": "code",
      "metadata": {
        "id": "41XpTLCxNDnc",
        "colab_type": "code",
        "colab": {}
      },
      "source": [
        "TRAIN_DATA_URL = \"https://storage.googleapis.com/tf-datasets/titanic/train.csv\"\n",
        "TEST_DATA_URL = \"https://storage.googleapis.com/tf-datasets/titanic/eval.csv\"\n",
        "train_file_path=tf.keras.utils.get_file(\"train.csv\",TRAIN_DATA_URL)\n",
        "test_file_path=tf.keras.utils.get_file(\"eval.csv\",TEST_DATA_URL)\n"
      ],
      "execution_count": 0,
      "outputs": []
    },
    {
      "cell_type": "code",
      "metadata": {
        "id": "RBB_-ZR-Npew",
        "colab_type": "code",
        "colab": {}
      },
      "source": [
        "np.set_printoptions(precision=3,suppress=True)"
      ],
      "execution_count": 0,
      "outputs": []
    },
    {
      "cell_type": "code",
      "metadata": {
        "id": "IjdC35FuN69m",
        "colab_type": "code",
        "colab": {
          "base_uri": "https://localhost:8080/",
          "height": 217
        },
        "outputId": "26db1b8b-d775-4fa9-bf20-e25da7cfacd3"
      },
      "source": [
        "!head {train_file_path}"
      ],
      "execution_count": 10,
      "outputs": [
        {
          "output_type": "stream",
          "text": [
            "survived,sex,age,n_siblings_spouses,parch,fare,class,deck,embark_town,alone\n",
            "0,male,22.0,1,0,7.25,Third,unknown,Southampton,n\n",
            "1,female,38.0,1,0,71.2833,First,C,Cherbourg,n\n",
            "1,female,26.0,0,0,7.925,Third,unknown,Southampton,y\n",
            "1,female,35.0,1,0,53.1,First,C,Southampton,n\n",
            "0,male,28.0,0,0,8.4583,Third,unknown,Queenstown,y\n",
            "0,male,2.0,3,1,21.075,Third,unknown,Southampton,n\n",
            "1,female,27.0,0,2,11.1333,Third,unknown,Southampton,n\n",
            "1,female,14.0,1,0,30.0708,Second,unknown,Cherbourg,n\n",
            "1,female,4.0,1,1,16.7,Third,G,Southampton,n\n"
          ],
          "name": "stdout"
        }
      ]
    },
    {
      "cell_type": "code",
      "metadata": {
        "id": "tV1y0WWyN-23",
        "colab_type": "code",
        "colab": {}
      },
      "source": [
        "LABEL_COLUMN='survived'\n",
        "LABELS=[0,1]"
      ],
      "execution_count": 0,
      "outputs": []
    },
    {
      "cell_type": "code",
      "metadata": {
        "id": "6Ge8u_x4OdMA",
        "colab_type": "code",
        "colab": {
          "base_uri": "https://localhost:8080/",
          "height": 91
        },
        "outputId": "a63ca3f6-0c93-4e2d-f941-17e1a7eba8a7"
      },
      "source": [
        "def get_dataset(file_path,**kwargs):\n",
        "  dataset=tf.data.experimental.make_csv_dataset(\n",
        "      file_path,\n",
        "      batch_size=5,\n",
        "      label_name=LABEL_COLUMN,\n",
        "      na_value=\"?\",\n",
        "      num_epochs=1,\n",
        "      ignore_errors=True,\n",
        "      **kwargs\n",
        "  )\n",
        "  return dataset\n",
        "\n",
        "raw_train_data=get_dataset(train_file_path)\n",
        "raw_test_data=get_dataset(test_file_path)\n"
      ],
      "execution_count": 15,
      "outputs": [
        {
          "output_type": "stream",
          "text": [
            "WARNING:tensorflow:From /tensorflow-2.0.0/python3.6/tensorflow_core/python/data/experimental/ops/readers.py:521: parallel_interleave (from tensorflow.python.data.experimental.ops.interleave_ops) is deprecated and will be removed in a future version.\n",
            "Instructions for updating:\n",
            "Use `tf.data.Dataset.interleave(map_func, cycle_length, block_length, num_parallel_calls=tf.data.experimental.AUTOTUNE)` instead. If sloppy execution is desired, use `tf.data.Options.experimental_determinstic`.\n"
          ],
          "name": "stdout"
        }
      ]
    },
    {
      "cell_type": "code",
      "metadata": {
        "id": "Jx91ElUOPRI2",
        "colab_type": "code",
        "colab": {}
      },
      "source": [
        "def show_batch(dataset):\n",
        "  for batch,label in dataset.take(1):\n",
        "    for key,value in batch.items():\n",
        "      print(\"{:20s}: {}\".format(key,value.numpy()))"
      ],
      "execution_count": 0,
      "outputs": []
    },
    {
      "cell_type": "code",
      "metadata": {
        "id": "iBVKPrpgPtVL",
        "colab_type": "code",
        "colab": {
          "base_uri": "https://localhost:8080/",
          "height": 217
        },
        "outputId": "e872f43a-5763-4eb1-9446-f68cb6b11173"
      },
      "source": [
        "show_batch(raw_train_data)"
      ],
      "execution_count": 17,
      "outputs": [
        {
          "output_type": "stream",
          "text": [
            "sex                 : [b'male' b'female' b'male' b'male' b'female']\n",
            "age                 : [36. 33.  6. 60. 38.]\n",
            "n_siblings_spouses  : [1 1 0 0 0]\n",
            "parch               : [2 0 1 0 0]\n",
            "fare                : [27.75  53.1   12.475 26.55  13.   ]\n",
            "class               : [b'Second' b'First' b'Third' b'First' b'Second']\n",
            "deck                : [b'unknown' b'E' b'E' b'unknown' b'unknown']\n",
            "embark_town         : [b'Southampton' b'Southampton' b'Southampton' b'Southampton'\n",
            " b'Southampton']\n",
            "alone               : [b'n' b'n' b'n' b'y' b'y']\n"
          ],
          "name": "stdout"
        }
      ]
    },
    {
      "cell_type": "code",
      "metadata": {
        "id": "VXBQLIH2P6xx",
        "colab_type": "code",
        "colab": {
          "base_uri": "https://localhost:8080/",
          "height": 107
        },
        "outputId": "3f779a5b-6948-415f-f11a-45c9a9e52c9e"
      },
      "source": [
        "SELECT_COLUMNS = ['survived', 'age', 'n_siblings_spouses', 'class', 'deck', 'alone']\n",
        "\n",
        "temp_dataset = get_dataset(train_file_path, select_columns=SELECT_COLUMNS)\n",
        "\n",
        "show_batch(temp_dataset)"
      ],
      "execution_count": 18,
      "outputs": [
        {
          "output_type": "stream",
          "text": [
            "age                 : [27. 21. 21. 31. 25.]\n",
            "n_siblings_spouses  : [1 0 0 0 1]\n",
            "class               : [b'First' b'Third' b'Third' b'Third' b'First']\n",
            "deck                : [b'E' b'unknown' b'unknown' b'unknown' b'B']\n",
            "alone               : [b'n' b'y' b'y' b'y' b'n']\n"
          ],
          "name": "stdout"
        }
      ]
    },
    {
      "cell_type": "code",
      "metadata": {
        "id": "tVWqg0UWQvYY",
        "colab_type": "code",
        "colab": {
          "base_uri": "https://localhost:8080/",
          "height": 89
        },
        "outputId": "58246eec-08c8-4417-9a32-769b6fc16af5"
      },
      "source": [
        "SELECT_COLUMNS=['survived','age','n_siblings_spouses','parch','fare']\n",
        "DEFAULTS=[0,0.0,0.0,0.0,0.0]\n",
        "temp_dataset=get_dataset(train_file_path,\n",
        "                         select_columns=SELECT_COLUMNS,\n",
        "                         column_defaults=DEFAULTS)\n",
        "\n",
        "show_batch(temp_dataset)"
      ],
      "execution_count": 21,
      "outputs": [
        {
          "output_type": "stream",
          "text": [
            "age                 : [35. 47. 45.  5. 29.]\n",
            "n_siblings_spouses  : [1. 0. 0. 2. 0.]\n",
            "parch               : [0. 0. 0. 1. 0.]\n",
            "fare                : [83.475 15.    26.55  19.258  9.5  ]\n"
          ],
          "name": "stdout"
        }
      ]
    },
    {
      "cell_type": "code",
      "metadata": {
        "id": "mkVW8FBHR4MQ",
        "colab_type": "code",
        "colab": {}
      },
      "source": [
        "example_batch,label_batch=next(iter(temp_dataset))"
      ],
      "execution_count": 0,
      "outputs": []
    },
    {
      "cell_type": "code",
      "metadata": {
        "id": "xFbte5BvSHUx",
        "colab_type": "code",
        "colab": {}
      },
      "source": [
        "def pack(features,label):\n",
        "  return tf.stack(list(features.values()),axis=-1),label"
      ],
      "execution_count": 0,
      "outputs": []
    },
    {
      "cell_type": "code",
      "metadata": {
        "id": "_6RHpKDoSWei",
        "colab_type": "code",
        "colab": {
          "base_uri": "https://localhost:8080/",
          "height": 163
        },
        "outputId": "0fe47f13-71e1-4e03-cbdc-47d555fb5e33"
      },
      "source": [
        "packed_dataset=temp_dataset.map(pack)\n",
        "\n",
        "for features,labels in packed_dataset.take(1):\n",
        "  print(features.numpy())\n",
        "  print()\n",
        "  print(labels.numpy)"
      ],
      "execution_count": 24,
      "outputs": [
        {
          "output_type": "stream",
          "text": [
            "[[ 18.      0.      0.      9.842]\n",
            " [ 63.      0.      0.      9.587]\n",
            " [ 42.      0.      0.    227.525]\n",
            " [  4.      1.      1.     16.7  ]\n",
            " [ 28.      1.      0.     15.5  ]]\n",
            "\n",
            "<bound method _EagerTensorBase.numpy of <tf.Tensor: id=371, shape=(5,), dtype=int32, numpy=array([1, 1, 1, 1, 1], dtype=int32)>>\n"
          ],
          "name": "stdout"
        }
      ]
    },
    {
      "cell_type": "code",
      "metadata": {
        "id": "Nvae4DyWSv4o",
        "colab_type": "code",
        "colab": {
          "base_uri": "https://localhost:8080/",
          "height": 199
        },
        "outputId": "b1692443-0360-40bf-f9fe-0786b591de2b"
      },
      "source": [
        "show_batch(raw_train_data)"
      ],
      "execution_count": 26,
      "outputs": [
        {
          "output_type": "stream",
          "text": [
            "sex                 : [b'male' b'female' b'female' b'female' b'male']\n",
            "age                 : [25. 16. 19. 24. 50.]\n",
            "n_siblings_spouses  : [1 0 1 0 1]\n",
            "parch               : [0 0 0 0 0]\n",
            "fare                : [  7.775   7.75    7.854  13.    106.425]\n",
            "class               : [b'Third' b'Third' b'Third' b'Second' b'First']\n",
            "deck                : [b'unknown' b'unknown' b'unknown' b'F' b'C']\n",
            "embark_town         : [b'Southampton' b'Queenstown' b'Southampton' b'Southampton' b'Cherbourg']\n",
            "alone               : [b'n' b'y' b'n' b'y' b'n']\n"
          ],
          "name": "stdout"
        }
      ]
    },
    {
      "cell_type": "code",
      "metadata": {
        "id": "Ep62W_35TFxm",
        "colab_type": "code",
        "colab": {}
      },
      "source": [
        "example_batch,labels_batch=next(iter(temp_dataset))"
      ],
      "execution_count": 0,
      "outputs": []
    },
    {
      "cell_type": "code",
      "metadata": {
        "id": "YWNpbxoqTZUz",
        "colab_type": "code",
        "colab": {}
      },
      "source": [
        "class PackNumericFeatures(object):\n",
        "  def __init__(self,names):\n",
        "    self.names=names \n",
        "\n",
        "  def __call__(self,features,labels):\n",
        "    numeric_freatures=[features.pop(name) for name in self.names]\n",
        "    numeric_features=[tf.cast(feat,tf.float32) for feat in numeric_freatures]\n",
        "    numeric_features=tf.stack(numeric_features,axis=-1)\n",
        "    features['numeric']=numeric_features\n",
        "\n",
        "    return features,labels"
      ],
      "execution_count": 0,
      "outputs": []
    },
    {
      "cell_type": "code",
      "metadata": {
        "id": "mOSg6pesUh5O",
        "colab_type": "code",
        "colab": {}
      },
      "source": [
        "NUMERIC_FEATURES=['age','n_siblings_spouses','parch','fare']\n",
        "\n",
        "packed_train_data=raw_train_data.map(\n",
        "    PackNumericFeatures(NUMERIC_FEATURES))\n",
        "packed_test_data=raw_test_data.map(PackNumericFeatures(NUMERIC_FEATURES))\n"
      ],
      "execution_count": 0,
      "outputs": []
    },
    {
      "cell_type": "code",
      "metadata": {
        "id": "Oiq3VEhlVcGa",
        "colab_type": "code",
        "colab": {
          "base_uri": "https://localhost:8080/",
          "height": 217
        },
        "outputId": "320e5dd9-f207-4a18-e810-196b8196aa4d"
      },
      "source": [
        "show_batch(packed_train_data)"
      ],
      "execution_count": 32,
      "outputs": [
        {
          "output_type": "stream",
          "text": [
            "sex                 : [b'female' b'male' b'male' b'male' b'male']\n",
            "class               : [b'Third' b'Third' b'Third' b'First' b'Third']\n",
            "deck                : [b'unknown' b'unknown' b'unknown' b'E' b'unknown']\n",
            "embark_town         : [b'Southampton' b'Cherbourg' b'Southampton' b'Southampton' b'Queenstown']\n",
            "alone               : [b'y' b'y' b'y' b'y' b'y']\n",
            "numeric             : [[30.     0.     0.     8.663]\n",
            " [11.     0.     0.    18.788]\n",
            " [28.     0.     0.     7.25 ]\n",
            " [35.     0.     0.    26.288]\n",
            " [28.     0.     0.     7.75 ]]\n"
          ],
          "name": "stdout"
        }
      ]
    },
    {
      "cell_type": "code",
      "metadata": {
        "id": "EUi9HphNViSB",
        "colab_type": "code",
        "colab": {}
      },
      "source": [
        "example_batch,labels_batch=next(iter(packed_train_data))"
      ],
      "execution_count": 0,
      "outputs": []
    },
    {
      "cell_type": "code",
      "metadata": {
        "id": "X9xNL7HxVt4z",
        "colab_type": "code",
        "colab": {
          "base_uri": "https://localhost:8080/",
          "height": 297
        },
        "outputId": "00d9dfcd-6164-4d87-b720-09046698dd12"
      },
      "source": [
        "import pandas as pd\n",
        "desc=pd.read_csv(train_file_path)[NUMERIC_FEATURES].describe()\n",
        "desc"
      ],
      "execution_count": 34,
      "outputs": [
        {
          "output_type": "execute_result",
          "data": {
            "text/html": [
              "<div>\n",
              "<style scoped>\n",
              "    .dataframe tbody tr th:only-of-type {\n",
              "        vertical-align: middle;\n",
              "    }\n",
              "\n",
              "    .dataframe tbody tr th {\n",
              "        vertical-align: top;\n",
              "    }\n",
              "\n",
              "    .dataframe thead th {\n",
              "        text-align: right;\n",
              "    }\n",
              "</style>\n",
              "<table border=\"1\" class=\"dataframe\">\n",
              "  <thead>\n",
              "    <tr style=\"text-align: right;\">\n",
              "      <th></th>\n",
              "      <th>age</th>\n",
              "      <th>n_siblings_spouses</th>\n",
              "      <th>parch</th>\n",
              "      <th>fare</th>\n",
              "    </tr>\n",
              "  </thead>\n",
              "  <tbody>\n",
              "    <tr>\n",
              "      <th>count</th>\n",
              "      <td>627.000000</td>\n",
              "      <td>627.000000</td>\n",
              "      <td>627.000000</td>\n",
              "      <td>627.000000</td>\n",
              "    </tr>\n",
              "    <tr>\n",
              "      <th>mean</th>\n",
              "      <td>29.631308</td>\n",
              "      <td>0.545455</td>\n",
              "      <td>0.379585</td>\n",
              "      <td>34.385399</td>\n",
              "    </tr>\n",
              "    <tr>\n",
              "      <th>std</th>\n",
              "      <td>12.511818</td>\n",
              "      <td>1.151090</td>\n",
              "      <td>0.792999</td>\n",
              "      <td>54.597730</td>\n",
              "    </tr>\n",
              "    <tr>\n",
              "      <th>min</th>\n",
              "      <td>0.750000</td>\n",
              "      <td>0.000000</td>\n",
              "      <td>0.000000</td>\n",
              "      <td>0.000000</td>\n",
              "    </tr>\n",
              "    <tr>\n",
              "      <th>25%</th>\n",
              "      <td>23.000000</td>\n",
              "      <td>0.000000</td>\n",
              "      <td>0.000000</td>\n",
              "      <td>7.895800</td>\n",
              "    </tr>\n",
              "    <tr>\n",
              "      <th>50%</th>\n",
              "      <td>28.000000</td>\n",
              "      <td>0.000000</td>\n",
              "      <td>0.000000</td>\n",
              "      <td>15.045800</td>\n",
              "    </tr>\n",
              "    <tr>\n",
              "      <th>75%</th>\n",
              "      <td>35.000000</td>\n",
              "      <td>1.000000</td>\n",
              "      <td>0.000000</td>\n",
              "      <td>31.387500</td>\n",
              "    </tr>\n",
              "    <tr>\n",
              "      <th>max</th>\n",
              "      <td>80.000000</td>\n",
              "      <td>8.000000</td>\n",
              "      <td>5.000000</td>\n",
              "      <td>512.329200</td>\n",
              "    </tr>\n",
              "  </tbody>\n",
              "</table>\n",
              "</div>"
            ],
            "text/plain": [
              "              age  n_siblings_spouses       parch        fare\n",
              "count  627.000000          627.000000  627.000000  627.000000\n",
              "mean    29.631308            0.545455    0.379585   34.385399\n",
              "std     12.511818            1.151090    0.792999   54.597730\n",
              "min      0.750000            0.000000    0.000000    0.000000\n",
              "25%     23.000000            0.000000    0.000000    7.895800\n",
              "50%     28.000000            0.000000    0.000000   15.045800\n",
              "75%     35.000000            1.000000    0.000000   31.387500\n",
              "max     80.000000            8.000000    5.000000  512.329200"
            ]
          },
          "metadata": {
            "tags": []
          },
          "execution_count": 34
        }
      ]
    },
    {
      "cell_type": "code",
      "metadata": {
        "id": "kxdsJ44AV4zM",
        "colab_type": "code",
        "colab": {}
      },
      "source": [
        "MEAN=np.array(desc.T['mean'])\n",
        "STD=np.array(desc.T['std'])"
      ],
      "execution_count": 0,
      "outputs": []
    },
    {
      "cell_type": "code",
      "metadata": {
        "id": "QFR4Z4iOWEaX",
        "colab_type": "code",
        "colab": {}
      },
      "source": [
        "def normalize_numeric_data(data,mean,std):\n",
        "  return (data-mean)/std\n",
        "\n",
        "\n",
        "import functools"
      ],
      "execution_count": 0,
      "outputs": []
    },
    {
      "cell_type": "code",
      "metadata": {
        "id": "D_H9eSbXWQ4b",
        "colab_type": "code",
        "colab": {
          "base_uri": "https://localhost:8080/",
          "height": 55
        },
        "outputId": "1433d59f-d6fd-4d6e-aec3-b18856acc230"
      },
      "source": [
        "normalizer=functools.partial(normalize_numeric_data,mean=MEAN,std=STD)\n",
        "\n",
        "numeric_column=tf.feature_column.numeric_column('numeric',normalizer_fn=normalizer,shape=[len(NUMERIC_FEATURES)])\n",
        "numeric_columns=[numeric_column]\n",
        "numeric_column"
      ],
      "execution_count": 41,
      "outputs": [
        {
          "output_type": "execute_result",
          "data": {
            "text/plain": [
              "NumericColumn(key='numeric', shape=(4,), default_value=None, dtype=tf.float32, normalizer_fn=functools.partial(<function normalize_numeric_data at 0x7f27c231e158>, mean=array([29.631,  0.545,  0.38 , 34.385]), std=array([12.512,  1.151,  0.793, 54.598])))"
            ]
          },
          "metadata": {
            "tags": []
          },
          "execution_count": 41
        }
      ]
    },
    {
      "cell_type": "code",
      "metadata": {
        "id": "NuAYAvQQXA5x",
        "colab_type": "code",
        "colab": {
          "base_uri": "https://localhost:8080/",
          "height": 125
        },
        "outputId": "153f5f77-a373-4be0-a2d4-ac33511c90b9"
      },
      "source": [
        "example_batch['numeric']"
      ],
      "execution_count": 42,
      "outputs": [
        {
          "output_type": "execute_result",
          "data": {
            "text/plain": [
              "<tf.Tensor: id=468, shape=(5, 4), dtype=float32, numpy=\n",
              "array([[28.   ,  0.   ,  0.   ,  7.896],\n",
              "       [28.   ,  0.   ,  0.   , 56.496],\n",
              "       [48.   ,  1.   ,  0.   , 76.729],\n",
              "       [28.   ,  8.   ,  2.   , 69.55 ],\n",
              "       [22.   ,  0.   ,  0.   ,  7.125]], dtype=float32)>"
            ]
          },
          "metadata": {
            "tags": []
          },
          "execution_count": 42
        }
      ]
    },
    {
      "cell_type": "code",
      "metadata": {
        "id": "tzCGDHVRYCN9",
        "colab_type": "code",
        "colab": {
          "base_uri": "https://localhost:8080/",
          "height": 107
        },
        "outputId": "cf216f23-0d4f-44c3-9897-3acf0fe765dd"
      },
      "source": [
        "numeric_layer=tf.keras.layers.DenseFeatures(numeric_columns)\n",
        "numeric_layer(example_batch).numpy()"
      ],
      "execution_count": 43,
      "outputs": [
        {
          "output_type": "execute_result",
          "data": {
            "text/plain": [
              "array([[-0.13 , -0.474, -0.479, -0.485],\n",
              "       [-0.13 , -0.474, -0.479,  0.405],\n",
              "       [ 1.468,  0.395, -0.479,  0.776],\n",
              "       [-0.13 ,  6.476,  2.043,  0.644],\n",
              "       [-0.61 , -0.474, -0.479, -0.499]], dtype=float32)"
            ]
          },
          "metadata": {
            "tags": []
          },
          "execution_count": 43
        }
      ]
    },
    {
      "cell_type": "code",
      "metadata": {
        "id": "rUp7q2DWYUAj",
        "colab_type": "code",
        "colab": {}
      },
      "source": [
        "CATEGORIES = {\n",
        "    'sex': ['male', 'female'],\n",
        "    'class' : ['First', 'Second', 'Third'],\n",
        "    'deck' : ['A', 'B', 'C', 'D', 'E', 'F', 'G', 'H', 'I', 'J'],\n",
        "    'embark_town' : ['Cherbourg', 'Southhampton', 'Queenstown'],\n",
        "    'alone' : ['y', 'n']\n",
        "}"
      ],
      "execution_count": 0,
      "outputs": []
    },
    {
      "cell_type": "code",
      "metadata": {
        "id": "uVBtAdDYYhQd",
        "colab_type": "code",
        "colab": {}
      },
      "source": [
        "categorical_columns=[]\n",
        "for feature,vocab in CATEGORIES.items():\n",
        "  cat_col=tf.feature_column.categorical_column_with_vocabulary_list(\n",
        "      key=feature,vocabulary_list=vocab)\n",
        "  categorical_columns.append(tf.feature_column.indicator_column(cat_col))\n",
        "  "
      ],
      "execution_count": 0,
      "outputs": []
    },
    {
      "cell_type": "code",
      "metadata": {
        "id": "l4G_Pbc1ZKx9",
        "colab_type": "code",
        "colab": {
          "base_uri": "https://localhost:8080/",
          "height": 127
        },
        "outputId": "b16004f2-2ec7-4eb8-c221-13e594c3e5d6"
      },
      "source": [
        "categorical_columns"
      ],
      "execution_count": 46,
      "outputs": [
        {
          "output_type": "execute_result",
          "data": {
            "text/plain": [
              "[IndicatorColumn(categorical_column=VocabularyListCategoricalColumn(key='sex', vocabulary_list=('male', 'female'), dtype=tf.string, default_value=-1, num_oov_buckets=0)),\n",
              " IndicatorColumn(categorical_column=VocabularyListCategoricalColumn(key='class', vocabulary_list=('First', 'Second', 'Third'), dtype=tf.string, default_value=-1, num_oov_buckets=0)),\n",
              " IndicatorColumn(categorical_column=VocabularyListCategoricalColumn(key='deck', vocabulary_list=('A', 'B', 'C', 'D', 'E', 'F', 'G', 'H', 'I', 'J'), dtype=tf.string, default_value=-1, num_oov_buckets=0)),\n",
              " IndicatorColumn(categorical_column=VocabularyListCategoricalColumn(key='embark_town', vocabulary_list=('Cherbourg', 'Southhampton', 'Queenstown'), dtype=tf.string, default_value=-1, num_oov_buckets=0)),\n",
              " IndicatorColumn(categorical_column=VocabularyListCategoricalColumn(key='alone', vocabulary_list=('y', 'n'), dtype=tf.string, default_value=-1, num_oov_buckets=0))]"
            ]
          },
          "metadata": {
            "tags": []
          },
          "execution_count": 46
        }
      ]
    },
    {
      "cell_type": "code",
      "metadata": {
        "id": "m55ehfaqZNYl",
        "colab_type": "code",
        "colab": {
          "base_uri": "https://localhost:8080/",
          "height": 163
        },
        "outputId": "1df2427b-c239-44ad-9bd5-04f740ed73b2"
      },
      "source": [
        "categorical_layer=tf.keras.layers.DenseFeatures(categorical_columns)\n",
        "print(categorical_layer(example_batch).numpy()[0])"
      ],
      "execution_count": 47,
      "outputs": [
        {
          "output_type": "stream",
          "text": [
            "WARNING:tensorflow:From /tensorflow-2.0.0/python3.6/tensorflow_core/python/feature_column/feature_column_v2.py:4276: IndicatorColumn._variable_shape (from tensorflow.python.feature_column.feature_column_v2) is deprecated and will be removed in a future version.\n",
            "Instructions for updating:\n",
            "The old _FeatureColumn APIs are being deprecated. Please use the new FeatureColumn APIs instead.\n",
            "WARNING:tensorflow:From /tensorflow-2.0.0/python3.6/tensorflow_core/python/feature_column/feature_column_v2.py:4331: VocabularyListCategoricalColumn._num_buckets (from tensorflow.python.feature_column.feature_column_v2) is deprecated and will be removed in a future version.\n",
            "Instructions for updating:\n",
            "The old _FeatureColumn APIs are being deprecated. Please use the new FeatureColumn APIs instead.\n",
            "[1. 0. 0. 0. 1. 0. 0. 0. 0. 0. 0. 0. 0. 0. 0. 0. 0. 0. 1. 0.]\n"
          ],
          "name": "stdout"
        }
      ]
    },
    {
      "cell_type": "code",
      "metadata": {
        "id": "BH3ml5_-ZkRp",
        "colab_type": "code",
        "colab": {}
      },
      "source": [
        "preprocessing_layer=tf.keras.layers.DenseFeatures(categorical_columns+numeric_columns)\n"
      ],
      "execution_count": 0,
      "outputs": []
    },
    {
      "cell_type": "code",
      "metadata": {
        "id": "dTfu6cCEZ5K_",
        "colab_type": "code",
        "colab": {
          "base_uri": "https://localhost:8080/",
          "height": 91
        },
        "outputId": "dff19df5-a4c9-4691-d933-baa65c2706fa"
      },
      "source": [
        "print(preprocessing_layer(example_batch).numpy()[0])"
      ],
      "execution_count": 49,
      "outputs": [
        {
          "output_type": "stream",
          "text": [
            "[ 1.     0.     0.     0.     1.     0.     0.     0.     0.     0.\n",
            "  0.     0.     0.     0.     0.     0.     0.     0.    -0.13  -0.474\n",
            " -0.479 -0.485  1.     0.   ]\n"
          ],
          "name": "stdout"
        }
      ]
    },
    {
      "cell_type": "code",
      "metadata": {
        "id": "qClhn5ozZ99Z",
        "colab_type": "code",
        "colab": {}
      },
      "source": [
        "model=tf.keras.Sequential([\n",
        "                           preprocessing_layer,\n",
        "                           tf.keras.layers.Dense(128,activation='relu'),\n",
        "                           tf.keras.layers.Dense(128,activation='relu'),\n",
        "                           tf.keras.layers.Dense(1,activation='sigmoid'),\n",
        "])\n",
        "\n",
        "model.compile(\n",
        "    loss='binary_crossentropy',\n",
        "    optimizer='adam',\n",
        "    metrics=['accuracy']\n",
        ")"
      ],
      "execution_count": 0,
      "outputs": []
    },
    {
      "cell_type": "code",
      "metadata": {
        "id": "UlVNPAQsau5A",
        "colab_type": "code",
        "colab": {
          "base_uri": "https://localhost:8080/",
          "height": 775
        },
        "outputId": "033921d0-79d2-4c76-a4a8-9bdcf2bbdcb9"
      },
      "source": [
        "train_data=packed_train_data.shuffle(500)\n",
        "test_data=packed_test_data\n",
        "model.fit(train_data,epochs=20)"
      ],
      "execution_count": 52,
      "outputs": [
        {
          "output_type": "stream",
          "text": [
            "Epoch 1/20\n",
            "126/126 [==============================] - 3s 21ms/step - loss: 0.5076 - accuracy: 0.7847\n",
            "Epoch 2/20\n",
            "126/126 [==============================] - 1s 5ms/step - loss: 0.4225 - accuracy: 0.8134\n",
            "Epoch 3/20\n",
            "126/126 [==============================] - 1s 5ms/step - loss: 0.3990 - accuracy: 0.8278\n",
            "Epoch 4/20\n",
            "126/126 [==============================] - 1s 4ms/step - loss: 0.3923 - accuracy: 0.8309\n",
            "Epoch 5/20\n",
            "126/126 [==============================] - 1s 5ms/step - loss: 0.3770 - accuracy: 0.8389\n",
            "Epoch 6/20\n",
            "126/126 [==============================] - 1s 5ms/step - loss: 0.3645 - accuracy: 0.8437\n",
            "Epoch 7/20\n",
            "126/126 [==============================] - 1s 5ms/step - loss: 0.3624 - accuracy: 0.8421\n",
            "Epoch 8/20\n",
            "126/126 [==============================] - 1s 5ms/step - loss: 0.3638 - accuracy: 0.8501\n",
            "Epoch 9/20\n",
            "126/126 [==============================] - 1s 4ms/step - loss: 0.3542 - accuracy: 0.8405\n",
            "Epoch 10/20\n",
            "126/126 [==============================] - 1s 5ms/step - loss: 0.3404 - accuracy: 0.8533\n",
            "Epoch 11/20\n",
            "126/126 [==============================] - 1s 4ms/step - loss: 0.3374 - accuracy: 0.8565\n",
            "Epoch 12/20\n",
            "126/126 [==============================] - 1s 5ms/step - loss: 0.3329 - accuracy: 0.8644\n",
            "Epoch 13/20\n",
            "126/126 [==============================] - 1s 5ms/step - loss: 0.3392 - accuracy: 0.8596\n",
            "Epoch 14/20\n",
            "126/126 [==============================] - 1s 4ms/step - loss: 0.3349 - accuracy: 0.8628\n",
            "Epoch 15/20\n",
            "126/126 [==============================] - 1s 5ms/step - loss: 0.3192 - accuracy: 0.8740\n",
            "Epoch 16/20\n",
            "126/126 [==============================] - 1s 5ms/step - loss: 0.3169 - accuracy: 0.8660\n",
            "Epoch 17/20\n",
            "126/126 [==============================] - 1s 5ms/step - loss: 0.3079 - accuracy: 0.8788\n",
            "Epoch 18/20\n",
            "126/126 [==============================] - 1s 5ms/step - loss: 0.3204 - accuracy: 0.8660\n",
            "Epoch 19/20\n",
            "126/126 [==============================] - 1s 5ms/step - loss: 0.3124 - accuracy: 0.8628\n",
            "Epoch 20/20\n",
            "126/126 [==============================] - 1s 5ms/step - loss: 0.3006 - accuracy: 0.8724\n"
          ],
          "name": "stdout"
        },
        {
          "output_type": "execute_result",
          "data": {
            "text/plain": [
              "<tensorflow.python.keras.callbacks.History at 0x7f27c215fdd8>"
            ]
          },
          "metadata": {
            "tags": []
          },
          "execution_count": 52
        }
      ]
    },
    {
      "cell_type": "code",
      "metadata": {
        "id": "JDRi1ZVeax-V",
        "colab_type": "code",
        "colab": {
          "base_uri": "https://localhost:8080/",
          "height": 305
        },
        "outputId": "ce0a6fea-091e-4e96-abeb-6ad0fbb3d177"
      },
      "source": [
        "model.summary()"
      ],
      "execution_count": 53,
      "outputs": [
        {
          "output_type": "stream",
          "text": [
            "Model: \"sequential\"\n",
            "_________________________________________________________________\n",
            "Layer (type)                 Output Shape              Param #   \n",
            "=================================================================\n",
            "dense_features_2 (DenseFeatu multiple                  0         \n",
            "_________________________________________________________________\n",
            "dense (Dense)                multiple                  3200      \n",
            "_________________________________________________________________\n",
            "dense_1 (Dense)              multiple                  16512     \n",
            "_________________________________________________________________\n",
            "dense_2 (Dense)              multiple                  129       \n",
            "=================================================================\n",
            "Total params: 19,841\n",
            "Trainable params: 19,841\n",
            "Non-trainable params: 0\n",
            "_________________________________________________________________\n"
          ],
          "name": "stdout"
        }
      ]
    },
    {
      "cell_type": "code",
      "metadata": {
        "id": "cAZLCTqebIiY",
        "colab_type": "code",
        "colab": {
          "base_uri": "https://localhost:8080/",
          "height": 109
        },
        "outputId": "e05e854c-7c49-4a55-d378-b6029a0faa20"
      },
      "source": [
        "test_loss,test_accuracy=model.evaluate(test_data)\n",
        "\n",
        "print('\\n\\nTest Loss {}, Test Accuracy {}'.format(test_loss,test_accuracy))"
      ],
      "execution_count": 54,
      "outputs": [
        {
          "output_type": "stream",
          "text": [
            "53/53 [==============================] - 1s 10ms/step - loss: 0.5163 - accuracy: 0.7803\n",
            "\n",
            "\n",
            "Test Loss 0.5162930737407703, Test Accuracy 0.7803030014038086\n"
          ],
          "name": "stdout"
        }
      ]
    },
    {
      "cell_type": "code",
      "metadata": {
        "id": "TVd6f58UbZeU",
        "colab_type": "code",
        "colab": {
          "base_uri": "https://localhost:8080/",
          "height": 107
        },
        "outputId": "9cc2bdec-156f-4d19-974c-c237e0efe034"
      },
      "source": [
        "predictions=model.predict(test_data)\n",
        "\n",
        "for prediction,survived in zip(predictions[:10],list(test_data)[0][1][:10]):\n",
        "  print(\"Predicted survival: {:.2%}\".format(prediction[0]),\n",
        "        \" | Actual outcome: \",\n",
        "        (\"SURVIVED\" if bool(survived) else \"DIED\"))"
      ],
      "execution_count": 55,
      "outputs": [
        {
          "output_type": "stream",
          "text": [
            "Predicted survival: 37.18%  | Actual outcome:  SURVIVED\n",
            "Predicted survival: 99.44%  | Actual outcome:  DIED\n",
            "Predicted survival: 71.65%  | Actual outcome:  SURVIVED\n",
            "Predicted survival: 50.76%  | Actual outcome:  SURVIVED\n",
            "Predicted survival: 11.03%  | Actual outcome:  SURVIVED\n"
          ],
          "name": "stdout"
        }
      ]
    },
    {
      "cell_type": "code",
      "metadata": {
        "id": "OL4qyoWpcOWJ",
        "colab_type": "code",
        "colab": {}
      },
      "source": [
        ""
      ],
      "execution_count": 0,
      "outputs": []
    }
  ]
}